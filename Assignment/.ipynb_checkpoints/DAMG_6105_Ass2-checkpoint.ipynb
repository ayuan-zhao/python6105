{
 "cells": [
  {
   "cell_type": "code",
   "execution_count": null,
   "metadata": {},
   "outputs": [],
   "source": [
    "'''\n",
    "If x = \"quintessential\", then slice x and do \n",
    "the appropriate operations to obtain QuinTESSential.\n",
    "'''"
   ]
  },
  {
   "cell_type": "code",
   "execution_count": null,
   "metadata": {},
   "outputs": [],
   "source": [
    "'''\n",
    "Write a Python program to select an item randomly from a list.\n",
    "'''\n"
   ]
  },
  {
   "cell_type": "code",
   "execution_count": null,
   "metadata": {},
   "outputs": [],
   "source": [
    "'''\n",
    ": Consider listA = [12, 14, 16, 19, 20, 24]. \n",
    "1) To listA add 18 at index 3 \n",
    "2) To the list that was obtained from #1, remove 19\n",
    "3) To the list that was obtained from #2, extend [28, 30]\n",
    "'''\n",
    "\n"
   ]
  },
  {
   "cell_type": "code",
   "execution_count": null,
   "metadata": {},
   "outputs": [],
   "source": [
    "'''\n",
    "B = [14, 21, 24, 27, 32]. \n",
    "1) Create a list that contains the multiples of 4 from B.\n",
    "2) Create a list that contains the multiples of 3 and 6.\n",
    "Use two methods (for and if loops,  list comprehension)\n",
    "'''\n"
   ]
  },
  {
   "cell_type": "code",
   "execution_count": null,
   "metadata": {},
   "outputs": [],
   "source": [
    "'''\n",
    ": If tuple1 = (-4, -2, -1). Insert 5 at index 0 to tuple1.\n",
    "Read the output message carefully. \n",
    "'''\n",
    "\n"
   ]
  },
  {
   "cell_type": "code",
   "execution_count": null,
   "metadata": {},
   "outputs": [],
   "source": [
    "'''\n",
    "Learning Activity 5: Convert tuple1 = (-4, -2, -1, 1) to a list and perform the \n",
    "following operations:\n",
    "1) To the list, change the value index 0 to -5.\n",
    "2) To the list that was obtained in #1, pop the value at index 1.\n",
    "3) To the list that was obtained from #2, append -3.\n",
    "4) Convert the list that was obtained in #3 to a tuple.\n",
    "'''\n"
   ]
  },
  {
   "cell_type": "code",
   "execution_count": null,
   "metadata": {},
   "outputs": [],
   "source": [
    "'''\n",
    "Learning Activity 6: Define a dictionary with the following key value pairs:\n",
    "'France': 1789, 'India': 1947, 'USA': 1776, 'Brazil': 1822\n",
    "print the keys and values pair\n",
    "'''\n"
   ]
  },
  {
   "cell_type": "code",
   "execution_count": null,
   "metadata": {},
   "outputs": [],
   "source": [
    "'''\n",
    ": listA = [2, 14, 16, 38]. Use dictionary comprehension to \n",
    "create a dictionary with item from listA as a key and its cube as a value.\n",
    "'''\n"
   ]
  },
  {
   "cell_type": "code",
   "execution_count": null,
   "metadata": {},
   "outputs": [],
   "source": [
    "'''\n",
    "Write a Python program to print out a set containing all the colors from color_list_1 which are not present in color_list_2.\n",
    "\n",
    "Test Data:\n",
    "color_list_1 = set([\"White\", \"Black\", \"Red\"])\n",
    "color_list_2 = set([\"Red\", \"Green\"])\n",
    "Expected Output :\n",
    "{'Black', 'White'}\n",
    "'''\n",
    "\n"
   ]
  },
  {
   "cell_type": "code",
   "execution_count": null,
   "metadata": {},
   "outputs": [],
   "source": [
    "'''\n",
    "listB=['iron','copper','iron','aluminum','copper', 'iron'].\n",
    "1) Create a set for listB. \n",
    "2) Create a dictionary with the item from the set as the key and its occurence \n",
    "in listB as the value.\n",
    "'''\n"
   ]
  },
  {
   "cell_type": "code",
   "execution_count": null,
   "metadata": {},
   "outputs": [],
   "source": [
    "'''\n",
    ": If listC = [-7, -11, -9, -7]. Use set comprehension \n",
    "to compute square of each item in listC.\n",
    "'''"
   ]
  },
  {
   "cell_type": "code",
   "execution_count": null,
   "metadata": {},
   "outputs": [],
   "source": []
  }
 ],
 "metadata": {
  "kernelspec": {
   "display_name": "Python 3",
   "language": "python",
   "name": "python3"
  },
  "language_info": {
   "codemirror_mode": {
    "name": "ipython",
    "version": 3
   },
   "file_extension": ".py",
   "mimetype": "text/x-python",
   "name": "python",
   "nbconvert_exporter": "python",
   "pygments_lexer": "ipython3",
   "version": "3.8.8"
  }
 },
 "nbformat": 4,
 "nbformat_minor": 4
}
