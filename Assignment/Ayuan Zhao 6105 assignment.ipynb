{
 "cells": [
  {
   "cell_type": "code",
   "execution_count": 156,
   "metadata": {},
   "outputs": [
    {
     "name": "stdout",
     "output_type": "stream",
     "text": [
      "the version is 3.8.8 (default, Apr 13 2021, 12:59:45) \n",
      "[Clang 10.0.0 ]\n"
     ]
    }
   ],
   "source": [
    "'''\n",
    "Q1. Write a Python program to get the Python version you are using.\n",
    "'''\n",
    "import sys\n",
    "print(\"the version is\",sys.version)\n"
   ]
  },
  {
   "cell_type": "code",
   "execution_count": 61,
   "metadata": {},
   "outputs": [
    {
     "name": "stdout",
     "output_type": "stream",
     "text": [
      "x's value is 10\n",
      "x's type is <class 'int'>\n"
     ]
    }
   ],
   "source": [
    "'''\n",
    "Question 2: If X = '10', convert X to float and \n",
    "print that value and its type.\n",
    "'''\n",
    "x = 10\n",
    "float(x)\n",
    "print(\"x's value is\",x)\n",
    "print(\"x's type is\",type(x))\n",
    "\n"
   ]
  },
  {
   "cell_type": "code",
   "execution_count": 87,
   "metadata": {},
   "outputs": [
    {
     "name": "stdout",
     "output_type": "stream",
     "text": [
      "b's value is : 20\n",
      "b's type is :  <class 'int'>\n",
      "c's value is : 3.14\n",
      "c's type is :  <class 'float'>\n",
      "b's new value is : 20\n",
      "b's new type is :  <class 'float'>\n",
      "c's new value is : 3\n",
      "c's new type is :  <class 'int'>\n"
     ]
    }
   ],
   "source": [
    "'''\n",
    "Question 3: b = 20 and c = 3.14, print b and c and their type. \n",
    "Type cast b to float and c to integer. \n",
    "Print the new values b and c and their type. \n",
    "'''\n",
    "b = 20\n",
    "c = 3.14\n",
    "print(\"b's value is :\",b)\n",
    "print(\"b's type is : \",type(b))\n",
    "print(\"c's value is :\",c)\n",
    "print(\"c's type is : \",type(c))\n",
    "b = float(b)\n",
    "c = int(c)\n",
    "print(\"b's new value is :\",int(b))\n",
    "print(\"b's new type is : \",type(b))\n",
    "print(\"c's new value is :\",int(c))\n",
    "print(\"c's new type is : \",type(c))\n",
    "\n",
    "\n"
   ]
  },
  {
   "cell_type": "code",
   "execution_count": 157,
   "metadata": {},
   "outputs": [
    {
     "name": "stdout",
     "output_type": "stream",
     "text": [
      "The anwser is 42\n"
     ]
    }
   ],
   "source": [
    "'''\n",
    "Question 4\" Break the following expression into multi-line statements with three lines:\n",
    "w = 4**2 + 2**4 - 3*2 + 8*2\n",
    "'''\n",
    "w=4**2+\\\n",
    "  2**4-\\\n",
    "  3*2+8*2\n",
    "print(\"The anwser is\",w)\n",
    "\n"
   ]
  },
  {
   "cell_type": "code",
   "execution_count": 97,
   "metadata": {},
   "outputs": [
    {
     "name": "stdout",
     "output_type": "stream",
     "text": [
      "10**2 = 100\n"
     ]
    }
   ],
   "source": [
    "'''\n",
    "Question 5: Using the pow() function, compute 10**2.\n",
    "'''\n",
    "print(\"10**2 =\",pow(10,2))\n"
   ]
  },
  {
   "cell_type": "code",
   "execution_count": 5,
   "metadata": {},
   "outputs": [
    {
     "name": "stdout",
     "output_type": "stream",
     "text": [
      "It isme\n",
      "It is me\n",
      "It is me\n"
     ]
    }
   ],
   "source": [
    "\n",
    "a = \"It is\"\n",
    "b = \"me\"\n",
    "print(a + b) # string concatenation \n",
    "# The output of the print is \n",
    "# It isme\n",
    "'''\n",
    "Question 6: In the output for the code below there is no space between \n",
    "is and me, insert a space between them and print?\n",
    "'''\n",
    "\n",
    "print(a+\" \"+b)\n",
    "print(a,b)"
   ]
  },
  {
   "cell_type": "code",
   "execution_count": 106,
   "metadata": {},
   "outputs": [
    {
     "name": "stdout",
     "output_type": "stream",
     "text": [
      "\"python\" + 3\n"
     ]
    }
   ],
   "source": [
    "'''\n",
    "Question 7: Print the value of \"Python\"+ 3. What do you observe? Please fix the error\n",
    "'''\n",
    "print('\"python\"','+',3)\n",
    "\n"
   ]
  },
  {
   "cell_type": "code",
   "execution_count": 9,
   "metadata": {},
   "outputs": [
    {
     "name": "stdout",
     "output_type": "stream",
     "text": [
      "**********\n"
     ]
    }
   ],
   "source": [
    "# Question 8: Generate the following output:\n",
    "#**********\n",
    "print(\"*\"*10)\n",
    "\n"
   ]
  },
  {
   "cell_type": "code",
   "execution_count": 32,
   "metadata": {},
   "outputs": [
    {
     "name": "stdout",
     "output_type": "stream",
     "text": [
      "the area of the circle is 12.566\n"
     ]
    }
   ],
   "source": [
    "'''\n",
    "Q9  Write a Python program which accepts the radius of a circle from the user and compute the area.\n",
    "\n",
    "Sample Output  \n",
    "Radius = 2\n",
    "\n",
    "Area = 12.5666\n",
    "'''\n",
    "\n",
    "\n",
    "radius = 2.0\n",
    "area = PI*radius*radius\n",
    "print(\"The area of the circle is\", area )"
   ]
  },
  {
   "cell_type": "code",
   "execution_count": 107,
   "metadata": {},
   "outputs": [
    {
     "name": "stdout",
     "output_type": "stream",
     "text": [
      "The volume of the sphere is:  904.752\n"
     ]
    }
   ],
   "source": [
    "'''\n",
    "Q10 Write a Python program to get the volume of a sphere with radius 6.\n",
    "\n",
    "'''\n",
    "r= 6\n",
    "V= 4/3*PI*r**3\n",
    "print('The volume of the sphere is: ',V)"
   ]
  },
  {
   "cell_type": "code",
   "execution_count": 113,
   "metadata": {},
   "outputs": [
    {
     "name": "stdout",
     "output_type": "stream",
     "text": [
      "Please enter your first name: Ayuan\n",
      "Please enter your last name: Zhao\n",
      "hello, Zhao Ayuan\n"
     ]
    }
   ],
   "source": [
    "'''\n",
    "Q11 Write a Python program which accepts the user's first \n",
    "and last name and print them in reverse order with a space between them\n",
    "'''\n",
    "firstname = input(\"Please enter your first name: \")\n",
    "lastname = input(\"Please enter your last name: \")\n",
    "print(\"Hello,\",lastname,firstname)\n"
   ]
  },
  {
   "cell_type": "code",
   "execution_count": 1,
   "metadata": {},
   "outputs": [
    {
     "name": "stdout",
     "output_type": "stream",
     "text": [
      "Please enter your first name:pg\n",
      "Please enter your last name:hn\n",
      "gp nh\n"
     ]
    }
   ],
   "source": []
  },
  {
   "cell_type": "code",
   "execution_count": 143,
   "metadata": {},
   "outputs": [
    {
     "name": "stdout",
     "output_type": "stream",
     "text": [
      "a and b are not equal\n",
      "now,a and b are equal.\n",
      "now,a and b are equal.\n"
     ]
    }
   ],
   "source": [
    "'''\n",
    "Q 12 If a = 'California' and b = 'california', \n",
    "check if a equals b. If not can you make it equal in two ways\n",
    "'''\n",
    "a = 'California'\n",
    "b = 'california'\n",
    "if a == b:\n",
    "    print('a and b are equal.')\n",
    "else:\n",
    "    print('a and b are not equal')\n",
    " #1.   \n",
    "b = b.capitalize()\n",
    "if a == b:\n",
    "    print('now,a and b are equal.')\n",
    "else:\n",
    "    print('a and b are not equal')\n",
    "    \n",
    " #2.  \n",
    "b = 'california'\n",
    "a = a.lower()\n",
    "\n",
    "\n",
    "if a == b:\n",
    "    print('now,a and b are equal.')\n",
    "else:\n",
    "    print('a and b are not equal')\n",
    "\n",
    "\n",
    "\n"
   ]
  },
  {
   "cell_type": "code",
   "execution_count": 149,
   "metadata": {},
   "outputs": [
    {
     "name": "stdout",
     "output_type": "stream",
     "text": [
      "Please enter a filename: ayuan.java\n",
      "Extension of the file is : java\n"
     ]
    }
   ],
   "source": [
    "'''\n",
    "Q13 Write a Python program to accept a filename from the user and print the extension of that.\n",
    "\n",
    "Sample Filename = test.ipynb\n",
    "output = ipynb\n",
    "'''\n",
    "filename= input(\"Please enter a filename: \")\n",
    "f = filename.split(\".\")\n",
    "print (\"Extension of the file is : \" + f[-1])\n"
   ]
  },
  {
   "cell_type": "code",
   "execution_count": 153,
   "metadata": {},
   "outputs": [
    {
     "name": "stdout",
     "output_type": "stream",
     "text": [
      "I AM LEARNING python\n"
     ]
    }
   ],
   "source": [
    "'''\n",
    "Q14 If A = 'I am learning' and B = 'Python' can you convert A into \n",
    "uppercase and B into lowercase and then concatenate them?\n",
    "'''\n",
    "A = 'I am learning'\n",
    "B = 'Python'\n",
    "print(A.upper(),B.lower())\n"
   ]
  },
  {
   "cell_type": "code",
   "execution_count": 155,
   "metadata": {},
   "outputs": [
    {
     "name": "stdout",
     "output_type": "stream",
     "text": [
      "Please enter the name of your favorite book: gone with the wind\n",
      "You like to read:  Gone With The Wind\n"
     ]
    }
   ],
   "source": [
    "'''\n",
    "Q15 Ask the user to enter their favorite book. Convert their \n",
    "input into title. \n",
    "'''\n",
    "\n",
    "bookname = input(\"Please enter the name of your favorite book: \")\n",
    "print(\"You like to read: \", bookname.title())"
   ]
  },
  {
   "cell_type": "code",
   "execution_count": null,
   "metadata": {},
   "outputs": [],
   "source": []
  }
 ],
 "metadata": {
  "kernelspec": {
   "display_name": "Python 3",
   "language": "python",
   "name": "python3"
  },
  "language_info": {
   "codemirror_mode": {
    "name": "ipython",
    "version": 3
   },
   "file_extension": ".py",
   "mimetype": "text/x-python",
   "name": "python",
   "nbconvert_exporter": "python",
   "pygments_lexer": "ipython3",
   "version": "3.8.8"
  }
 },
 "nbformat": 4,
 "nbformat_minor": 4
}
