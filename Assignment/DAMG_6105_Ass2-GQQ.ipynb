{
 "cells": [
  {
   "cell_type": "code",
   "execution_count": 46,
   "source": [
    "'''\n",
    "If x = \"quintessential\", then slice x and do \n",
    "the appropriate operations to obtain QuinTESSential.\n",
    "'''\n",
    "x = \"quintessential\"\n",
    "res = x[0:1].upper() + x[1:4] + x[4:8].upper() + x[8:len(x)];\n",
    "print(\"res is \" + res)"
   ],
   "outputs": [
    {
     "output_type": "stream",
     "name": "stdout",
     "text": [
      "res is QuinTESSential\n"
     ]
    }
   ],
   "metadata": {}
  },
  {
   "cell_type": "code",
   "execution_count": 45,
   "source": [
    "'''\n",
    "Write a Python program to select an item randomly from a list.\n",
    "'''\n",
    "import random\n",
    "color_list = ['yellow', 'Blue', 'Green', 'White', 'gray','pink']\n",
    "print(random.choice(color_list))\n",
    "\n"
   ],
   "outputs": [
    {
     "output_type": "stream",
     "name": "stdout",
     "text": [
      "yellow\n"
     ]
    }
   ],
   "metadata": {}
  },
  {
   "cell_type": "code",
   "execution_count": 44,
   "source": [
    "'''\n",
    ": Consider listA = [12, 14, 16, 19, 20, 24]. \n",
    "1) To listA add 18 at index 3 \n",
    "2) To the list that was obtained from #1, remove 19\n",
    "3) To the list that was obtained from #2, extend [28, 30]\n",
    "'''\n",
    "# 1st step\n",
    "listA = [12, 14, 16, 19, 20, 24]\n",
    "listA[2] += 18\n",
    "print(\"after #1, listA is \", listA)\n",
    "\n",
    "# 2nd step\n",
    "listB = [x for x in listA if x != 19]\n",
    "print(\"after #2, listB is \", listB)\n",
    "\n",
    "# 3rd step\n",
    "listB.extend([28,30])\n",
    "print(\"after #3, listB is \", listB)\n"
   ],
   "outputs": [
    {
     "output_type": "stream",
     "name": "stdout",
     "text": [
      "after #1, listA is  [12, 14, 34, 19, 20, 24]\n",
      "after #2, listB is  [12, 14, 34, 20, 24]\n",
      "after #3, listB is  [12, 14, 34, 20, 24, 28, 30]\n"
     ]
    }
   ],
   "metadata": {}
  },
  {
   "cell_type": "code",
   "execution_count": 43,
   "source": [
    "'''\n",
    "B = [14, 21, 24, 27, 32]. \n",
    "1) Create a list that contains the multiples of 4 from B.\n",
    "2) Create a list that contains the multiples of 3 and 6.\n",
    "Use two methods (for and if loops,  list comprehension)\n",
    "'''\n",
    "B = [14, 21, 24, 27, 32]\n",
    "multiple4 = [x for x in B if x % 4 == 0]\n",
    "# the multiples of 3 and 6 is the same as the multiples of 6 only.\n",
    "multiple6 = [x for x in B if x % 6 == 0]\n",
    "\n",
    "print(\"multiple4 is \", multiple4)\n",
    "print(\"multiple6 is \", multiple6)"
   ],
   "outputs": [
    {
     "output_type": "stream",
     "name": "stdout",
     "text": [
      "multiple4 is  [24, 32]\n",
      "multiple6 is  [24]\n"
     ]
    }
   ],
   "metadata": {}
  },
  {
   "cell_type": "code",
   "execution_count": 42,
   "source": [
    "'''\n",
    ": If tuple1 = (-4, -2, -1). Insert 5 at index 0 to tuple1.\n",
    "Read the output message carefully. \n",
    "'''\n",
    "tuple1 = (-4, -2, -1)\n",
    "# We can NOT do insertion to tuple\n",
    "# AttributeError: 'tuple' object has no attribute 'insert'\n",
    "# tuple1.insert(0, 5)\n",
    "\n",
    "# 1. use list\n",
    "a = list(tuple1)\n",
    "a.insert(0, 5)\n",
    "print(a)\n",
    "\n",
    "# 2, use tuple join\n",
    "tuple2 = (5,)\n",
    "print(tuple2 + tuple1)"
   ],
   "outputs": [
    {
     "output_type": "stream",
     "name": "stdout",
     "text": [
      "[5, -4, -2, -1]\n",
      "(5, -4, -2, -1)\n"
     ]
    }
   ],
   "metadata": {}
  },
  {
   "cell_type": "code",
   "execution_count": 41,
   "source": [
    "'''\n",
    "Learning Activity 5: Convert tuple1 = (-4, -2, -1, 1) to a list and perform the \n",
    "following operations:\n",
    "1) To the list, change the value index 0 to -5.\n",
    "2) To the list that was obtained in #1, pop the value at index 1.\n",
    "3) To the list that was obtained from #2, append -3.\n",
    "4) Convert the list that was obtained in #3 to a tuple.\n",
    "'''\n",
    "tuple1 = (-4, -2, -1, 1)\n",
    "list1 = list(tuple1)\n",
    "\n",
    "# 1. To the list, change the value index 0 to -5.\n",
    "list1[0] = -5\n",
    "print(list1)\n",
    "\n",
    "# 2. To the list that was obtained in step 1, pop the value at index 1.\n",
    "list1.pop(1)\n",
    "print(\"after poping, list1 is \", list1)\n",
    "\n",
    "# 3. To the list that was obtained from #2, append -3.\n",
    "list1.append(-3)\n",
    "print(\"after appending, list1 is \", list1)\n",
    "\n",
    "# 4. Convert the list that was obtained in #3 to a tuple.\n",
    "tuple2 = tuple(list1)\n",
    "print(\"final tuple is:\", tuple2)"
   ],
   "outputs": [
    {
     "output_type": "stream",
     "name": "stdout",
     "text": [
      "[-5, -2, -1, 1]\n",
      "after poping, list1 is  [-5, -1, 1]\n",
      "after appending, list1 is  [-5, -1, 1, -3]\n",
      "final tuple is: (-5, -1, 1, -3)\n"
     ]
    }
   ],
   "metadata": {}
  },
  {
   "cell_type": "code",
   "execution_count": 40,
   "source": [
    "'''\n",
    "Learning Activity 6: Define a dictionary with the following key value pairs:\n",
    "'France': 1789, 'India': 1947, 'USA': 1776, 'Brazil': 1822\n",
    "print the keys and values pair\n",
    "'''\n",
    "countryDic = {'France': 1789, 'India': 1947, 'USA': 1776, 'Brazil': 1822}\n",
    "\n",
    "for country in countryDic:\n",
    "    print(country, \"->\", countryDic[country])\n"
   ],
   "outputs": [
    {
     "output_type": "stream",
     "name": "stdout",
     "text": [
      "France -> 1789\n",
      "India -> 1947\n",
      "USA -> 1776\n",
      "Brazil -> 1822\n"
     ]
    }
   ],
   "metadata": {}
  },
  {
   "cell_type": "code",
   "execution_count": 39,
   "source": [
    "'''\n",
    ": listA = [2, 14, 16, 38]. Use dictionary comprehension to \n",
    "create a dictionary with item from listA as a key and its cube as a value.\n",
    "'''\n",
    "cubeDic = {}\n",
    "elements = [2, 14, 16, 38]\n",
    "for elem in elements:\n",
    "    cubeDic[elem] = elem ** 3\n",
    "\n",
    "print(cubeDic)"
   ],
   "outputs": [
    {
     "output_type": "stream",
     "name": "stdout",
     "text": [
      "{2: 8, 14: 2744, 16: 4096, 38: 54872}\n"
     ]
    }
   ],
   "metadata": {}
  },
  {
   "cell_type": "code",
   "execution_count": 38,
   "source": [
    "'''\n",
    "Write a Python program to print out a set containing all the colors from color_list_1 which are not present in color_list_2.\n",
    "\n",
    "Test Data:\n",
    "color_list_1 = set([\"White\", \"Black\", \"Red\"])\n",
    "color_list_2 = set([\"Red\", \"Green\"])\n",
    "Expected Output :\n",
    "{'Black', 'White'}\n",
    "'''\n",
    "color_list_1 = set([\"White\", \"Black\", \"Red\"])\n",
    "color_list_2 = set([\"Red\", \"Green\"])\n",
    "color_res = color_list_1 - color_list_2\n",
    "\n",
    "print(color_res)\n"
   ],
   "outputs": [
    {
     "output_type": "stream",
     "name": "stdout",
     "text": [
      "{'White', 'Black'}\n"
     ]
    }
   ],
   "metadata": {}
  },
  {
   "cell_type": "code",
   "execution_count": 37,
   "source": [
    "'''\n",
    "listB=['iron','copper','iron','aluminum','copper', 'iron'].\n",
    "1) Create a set for listB. \n",
    "2) Create a dictionary with the item from the set as the key and its occurence \n",
    "in listB as the value.\n",
    "'''\n",
    "arrMedalB=['iron','copper','iron','aluminum','copper', 'iron']\n",
    "setMedalB = set(arrMedalB)\n",
    "print(\"setMedalB : \", setMedalB)\n",
    "\n",
    "dictMedal = {}\n",
    "\n",
    "for medal in arrMedalB:\n",
    "    if medal in dictMedal.keys():\n",
    "        dictMedal[medal] += 1\n",
    "    else:\n",
    "        dictMedal[medal] = 1\n",
    "\n",
    "print(dictMedal)\n"
   ],
   "outputs": [
    {
     "output_type": "stream",
     "name": "stdout",
     "text": [
      "setMedalB :  {'copper', 'aluminum', 'iron'}\n",
      "{'iron': 3, 'copper': 2, 'aluminum': 1}\n"
     ]
    }
   ],
   "metadata": {}
  },
  {
   "cell_type": "code",
   "execution_count": 36,
   "source": [
    "'''\n",
    ": If listC = [-7, -11, -9, -7]. Use set comprehension \n",
    "to compute square of each item in listC.\n",
    "'''\n",
    "elements = [-7, -11, -9, -7]\n",
    "squares = []\n",
    "squareDic = {}\n",
    "\n",
    "for i in range(len(elements)):\n",
    "    # if the square of this element is NOT in dictionary, we can put (element -> square) into dictionary.\n",
    "    if elements[i] not in squareDic.keys():\n",
    "        squareDic[elements[i]] = elements[i] ** 2\n",
    "    # load square from the dictionary cache instead of calculating again.\n",
    "    squares.append(squareDic[elements[i]])\n",
    "\n",
    "print(\"squareDic is:\", squareDic)\n",
    "print(\"squares is:\", squares)"
   ],
   "outputs": [
    {
     "output_type": "stream",
     "name": "stdout",
     "text": [
      "squareDic is: {-7: 49, -11: 121, -9: 81}\n",
      "squares is: [49, 121, 81, 49]\n"
     ]
    }
   ],
   "metadata": {}
  },
  {
   "cell_type": "code",
   "execution_count": null,
   "source": [],
   "outputs": [],
   "metadata": {}
  }
 ],
 "metadata": {
  "kernelspec": {
   "name": "python3",
   "display_name": "Python 3.8.8 64-bit ('base': conda)"
  },
  "language_info": {
   "codemirror_mode": {
    "name": "ipython",
    "version": 3
   },
   "file_extension": ".py",
   "mimetype": "text/x-python",
   "name": "python",
   "nbconvert_exporter": "python",
   "pygments_lexer": "ipython3",
   "version": "3.8.8"
  },
  "interpreter": {
   "hash": "3f7c05ba8609bea1e97be67e86791f2bc291b4083278eb31360531f9d3ac8a83"
  }
 },
 "nbformat": 4,
 "nbformat_minor": 4
}