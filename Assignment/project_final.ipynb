{
 "cells": [
  {
   "cell_type": "code",
   "execution_count": 1,
   "id": "3f58e100",
   "metadata": {},
   "outputs": [],
   "source": [
    "import numpy as np\n",
    "import pandas as pd"
   ]
  },
  {
   "cell_type": "code",
   "execution_count": 2,
   "id": "ab860fd5",
   "metadata": {},
   "outputs": [],
   "source": [
    "def isfloat(num):\n",
    "    try:\n",
    "        float(num)\n",
    "        return True\n",
    "    except ValueError:\n",
    "        return False\n",
    "\n",
    "\n",
    "def convertToNumber(strVal):\n",
    "    lowerStrVal = strVal.lower()\n",
    "    print(\"original value\", lowerStrVal)\n",
    "    if lowerStrVal.endswith(\"k\"):\n",
    "        return int(float(strVal[0:len(strVal)-1]) * 1000)\n",
    "    elif lowerStrVal.endswith(\"/month\"):\n",
    "        return int(float(strVal[0:len(strVal)-6]) * 12)\n",
    "    elif lowerStrVal.endswith(\"/year\"):\n",
    "        return int(strVal[0:len(strVal)-5])\n",
    "    elif isfloat(lowerStrVal):\n",
    "        return int(float(lowerStrVal))\n",
    "    else:\n",
    "        return 0\n",
    "\n",
    "def standardizeString(val):\n",
    "    strVal = str(val)\n",
    "    return strVal.title()"
   ]
  },
  {
   "cell_type": "code",
   "execution_count": 3,
   "id": "73f79051",
   "metadata": {},
   "outputs": [
    {
     "name": "stdout",
     "output_type": "stream",
     "text": [
      "3.925\n",
      "925.3Y\n",
      "Sdfdfs Dssfs\n",
      "Abc Dsfs\n",
      "Bca A\n"
     ]
    }
   ],
   "source": [
    "print(standardizeString(3.925))\n",
    "print(standardizeString(\"925.3y\"))\n",
    "print(standardizeString(\"sdfdfs dsSFs\"))\n",
    "print(standardizeString(\"ABC dsfs\"))\n",
    "print(standardizeString(\"bcA A\"))"
   ]
  },
  {
   "cell_type": "code",
   "execution_count": 4,
   "id": "ab904239",
   "metadata": {},
   "outputs": [
    {
     "name": "stdout",
     "output_type": "stream",
     "text": [
      "    Campany        offer time                            job                Area    Base  equity Bonus Sign-on full time/intern title/level education  new grad working experience Return\n",
      "0    google  2021 4th quarter              Software Engineer  Great Seattle Area    160k    300k     0     40k        full time    IC & IC3        MS     False              2.5 y    NaN\n",
      "1    Google  2021 4th quarter              software Engineer  Great Seattle Area    154k    181k   15%     15k             full  IC& SDE II        MS     False                 3y    NaN\n",
      "2     Adobe  2021 4th quarter                   Data Science            Bay Area    160k  187500   15%     16k             full   IC &DS II        MS     False               1.3y    NaN\n",
      "3      Wish  2021 4th quarter              Software Engineer  Great Seattle Area    236K    750k     0     70k             full     IC & L4        MS     False                 4y    NaN\n",
      "4  FaceBook  2021 4th quarter  Machine Learning Engineering   Great Seattle Area    168k    330k   10%     75k             full      IC& E4       PHD      True                 0y    NaN\n",
      "5    Oracle  2021 4th quarter              Software Engineer            Bay Area  163.5k    420k     0     48k             full    IC & IC3        MS     False                 2y    NaN\n",
      "    Campany        offer time                            job                Area    Base  equity Bonus Sign-on full time/intern title/level education  new grad working experience Return\n",
      "0    Google  2021 4th quarter              Software Engineer  Great Seattle Area    160k    300k     0     40k        full time    IC & IC3        Ms     False              2.5 y    NaN\n",
      "1    Google  2021 4th quarter              Software Engineer  Great Seattle Area    154k    181k   15%     15k             full  IC& SDE II        Ms     False                 3y    NaN\n",
      "2     Adobe  2021 4th quarter                   Data Science            Bay Area    160k  187500   15%     16k             full   IC &DS II        Ms     False               1.3y    NaN\n",
      "3      Wish  2021 4th quarter              Software Engineer  Great Seattle Area    236K    750k     0     70k             full     IC & L4        Ms     False                 4y    NaN\n",
      "4  Facebook  2021 4th quarter  Machine Learning Engineering   Great Seattle Area    168k    330k   10%     75k             full      IC& E4       Phd      True                 0y    NaN\n",
      "5    Oracle  2021 4th quarter              Software Engineer            Bay Area  163.5k    420k     0     48k             full    IC & IC3        Ms     False                 2y    NaN\n"
     ]
    }
   ],
   "source": [
    "salaryInfo = pd.read_csv(\n",
    "    './salary_infomation.csv', encoding=\"ISO-8859-1\").head(6)\n",
    "\n",
    "print(salaryInfo.to_string())\n",
    "\n",
    "for index, row in salaryInfo.iterrows():\n",
    "    salaryInfo.at[index, 'Campany'] = standardizeString(row['Campany'])\n",
    "    # row['Campany'] = standardizeString(row['Campany'])\n",
    "    salaryInfo.at[index, 'job'] = standardizeString(row['job'])\n",
    "    salaryInfo.at[index, 'Area'] = standardizeString(row['Area'])\n",
    "    # print(row['education'])\n",
    "    # print(row)\n",
    "    salaryInfo.at[index, 'education'] = standardizeString(row['education'])\n",
    "\n",
    "print(salaryInfo.to_string())\n"
   ]
  },
  {
   "cell_type": "code",
   "execution_count": 5,
   "id": "2778ccd2",
   "metadata": {},
   "outputs": [],
   "source": [
    "WorldRecords = pd.read_csv(\n",
    "    './WorldRecords_1.csv', encoding=\"ISO-8859-1\")\n",
    "# print(WorldRecords.to_string())"
   ]
  },
  {
   "cell_type": "code",
   "execution_count": 6,
   "id": "1b4e4c34",
   "metadata": {},
   "outputs": [
    {
     "name": "stdout",
     "output_type": "stream",
     "text": [
      "original value 100.6k\n",
      "converted value 100600\n",
      "\n",
      "original value 1003.35/month\n",
      "converted value 12040\n",
      "\n",
      "original value 102202/year\n",
      "converted value 102202\n",
      "\n",
      "original value 9.95\n",
      "converted value 9\n",
      "\n",
      "original value 993\n",
      "converted value 993\n",
      "\n"
     ]
    }
   ],
   "source": [
    "dfTimeEvent = WorldRecords[(WorldRecords[\"Type\"] == \"time\")]\n",
    "# get top 5 items of this dateframe\n",
    "dfTimeEvent = dfTimeEvent.head(5)\n",
    "# print(\"dfTimeEvent\", dfTimeEvent)\n",
    "\n",
    "for index, row in dfTimeEvent.iterrows():\n",
    "    record = row['Record']\n",
    "    res = convertToNumber(str(record))\n",
    "    print('converted value', res)\n",
    "    print()\n"
   ]
  }
 ],
 "metadata": {
  "interpreter": {
   "hash": "5e86604e73240079bc11782d4019fd76a3fe1f810aa7ed53f3b51a80e2550759"
  },
  "kernelspec": {
   "display_name": "Python 3.8.8 64-bit ('gqq': conda)",
   "name": "python3"
  },
  "language_info": {
   "codemirror_mode": {
    "name": "ipython",
    "version": 3
   },
   "file_extension": ".py",
   "mimetype": "text/x-python",
   "name": "python",
   "nbconvert_exporter": "python",
   "pygments_lexer": "ipython3",
   "version": "3.8.8"
  }
 },
 "nbformat": 4,
 "nbformat_minor": 5
}
