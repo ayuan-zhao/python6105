{
 "cells": [
  {
   "cell_type": "markdown",
   "source": [
    "Python was originally a general purpose language, But over the years, it has gained attention for data analysis and machine learning.  In thsi notebook we will learn about the basics of Python for data analysis. we will learn about important libraries for data analysis etc.  "
   ],
   "metadata": {}
  },
  {
   "cell_type": "markdown",
   "source": [
    "### Why learn Python for data analysis?\n",
    "In the recent past, Python has gained lot of attention for data analysis and machine learning domain. Here are some reasons for the popularity of python. Main reason for learning python is simplicity. \n",
    "\n",
    "- Simplicity - When you first start with programming and coding, you don’t want to start with a programming language which has tough syntax and weird rules.\n",
    "\n",
    "Python is both readable and simple. It also easier to setup, you don’t need to deal with any classpath problems like Java or compiler issues like C++.\n",
    "\n",
    "- Open source - free to install\n",
    "\n",
    "- Big online community\n",
    "\n",
    "- Easy to learn\n",
    "\n",
    "- Libraries and Frameworks - Python has numerous libraries for different needs. Django and Flask are two of the most popular for web development and NumPy and SciPy and Pandas are for Data Science.\n",
    "\n",
    "In fact, Python has one of the best collection of machine learning and data science libraries like TensorFlow, Scikit-Learn, Keras, Pandas and many more.\n",
    "\n",
    "- Multipurpose - common language for web development and data science. You can create your web applications using Django and Flask, Can do Data Analysis using NumPy, Scipy, Scikit-Learn, and NLTK.\n",
    "\n",
    "= What makes Python a preferred language for Data Science and Machine Learning. There are powerful APIs and library available for AI, Data Science, and Machine learninge.e.g., Numpy, Pandas, ScikitLearn, MatplotLib, \n",
    "\n"
   ],
   "metadata": {}
  },
  {
   "cell_type": "markdown",
   "source": [
    "#### How to install Python\n",
    "ou can download Python directly from its project site and install individual components and libraries you want\n",
    "\n",
    "https://www.python.org/download\n",
    "\n",
    "Alternately, you can download and install a package, which comes with pre-installed libraries.\n",
    "I would recommend downloading Anaconda.\n",
    "https://www.continuum.io/downloads\n",
    "\n"
   ],
   "metadata": {}
  },
  {
   "cell_type": "code",
   "execution_count": 1,
   "source": [
    "## Print the version\n",
    "\n",
    "import sys\n",
    "print(sys.version)"
   ],
   "outputs": [
    {
     "output_type": "stream",
     "name": "stdout",
     "text": [
      "3.7.7 (default, Mar 23 2020, 17:31:31) \n",
      "[Clang 4.0.1 (tags/RELEASE_401/final)]\n"
     ]
    }
   ],
   "metadata": {}
  },
  {
   "cell_type": "markdown",
   "source": [
    "#### Python libraries and Data Structures\n",
    "\n",
    "- Lists\n",
    "- Tuples\n",
    "- Dictionary\n",
    "\n",
    "It is assumed that you are familair with basic Python like loops, iterators, functions etc. "
   ],
   "metadata": {}
  },
  {
   "cell_type": "markdown",
   "source": [
    "#### Libraries\n",
    "\n",
    "The first step to learn Python is by getting acquainted with useful libraries. we nedd to learn how to import libraries into our environment. There are several ways of doing.   "
   ],
   "metadata": {}
  },
  {
   "cell_type": "code",
   "execution_count": 2,
   "source": [
    "import math as m\n",
    "\n"
   ],
   "outputs": [],
   "metadata": {}
  },
  {
   "cell_type": "code",
   "execution_count": null,
   "source": [
    "from math import *"
   ],
   "outputs": [],
   "metadata": {}
  },
  {
   "cell_type": "markdown",
   "source": [
    "In the first manner, we have defined an alias m to library math. We can now use various functions from math library (e.g. square root) by referencing it using the alias m.sqrt().\n",
    "\n",
    "In the second manner, we have imported the entire name space in math i.e. you can directly use sqrt() without referring to math.\n",
    "\n",
    "Following are a list of libraries, oned needs for scientific computations and data analysis\n",
    "\n",
    "\n",
    "##### numpy :   \n",
    "stands for Numercial Python. \n",
    "##### scipy\n",
    "stand for Scientific Python. Scipy is built on numpy. \n",
    "##### pandas\n",
    "for structured data operations and manipulations\n",
    "##### matplotlib\n",
    "fro plotting vast variety of graphs.\n",
    "##### sklearn\n",
    "for machien learning\n",
    "#### statsmodels\n",
    "for statistical models\n",
    "##### seaborn\n",
    "fro data visualization. It si based on matplotlib . \n",
    "##### bokeh\n",
    "##### scrapy\n",
    "##### sympy\n",
    "##### requests\n",
    "\n",
    "\n",
    "There are some more. look for it.\n",
    "\n"
   ],
   "metadata": {}
  },
  {
   "cell_type": "markdown",
   "source": [
    "\n",
    "# Numpy and Scipy\n",
    "\n",
    "Numerical Python (NumPy) is an open source Python library for scientific computing.  The NumPy (Numeric Python) package provides basic routines for manipulating large arrays and matrices of numeric data. It is a foundational package on which many of the data science packages are built. pandas builds upon functionality provided by Numpy. The pandas library relies heavily on the NumPy array for the implementation of the pandas Series and DataFrame objects, and shares many of its fetaures such as being able to slice elements and perform vectorized operations. It is therefore useful to spend time going over NumPy arrays before diving into pandas. \n",
    "\n",
    "\n",
    "For any scientific project, NumPy is the tool to know. It has been built to work with the N-dimensional array, linear algebra, random number, Fourier transform, etc. It can be integrated to C/C++ and Fortran.\n",
    "The key features of NumPy are:\n",
    "\n",
    "* ndarrays: n-dimensional arrays of the same data type which are fast and space-efficient. There are a number of built-in methods for ndarrays which allow for rapid processing of data without using loops (e.g., compute the mean).\n",
    "\n",
    "* Broadcasting: a useful tool which defines implicit behavior between multi-dimensional arrays of different sizes.\n",
    "\n",
    "* Vectorization: enables numeric operations on ndarrays.\n",
    "\n",
    "* Input/Output: simplifies reading and writing of data from/to file.\n",
    "\n",
    "\n",
    "The SciPy (Scientific Python) package extends the functionality of NumPy with a substantial collection of useful algorithms, like minimization, Fourier transformation, regression, and other applied mathematical techniques.\n",
    "\n",
    "#### Why use NumPy?\n",
    "NumPy is memory efficient, i.e., it can handle lage amount of data more accessible than any other library.  Moreover, Numpy is very convenient to work with, especially for matrix multiplication and reshaping as mentioned earlier. It is fast. Many advanced Python libraries, such as Scikit-Learn, Scipy, and Keras, make extensive use of the NumPy library. Therefore, if you plan to pursue a career in data science or machine learning, NumPy is a very good tool to master.\n"
   ],
   "metadata": {}
  },
  {
   "cell_type": "markdown",
   "source": [
    "### Installation\n",
    "\n",
    "If you have aintsalled Anaconda, then you should be ready to go. If not, then you will have to install add-ons manually after installing Python, in the order of Numpy and the Scipy. You can use pip installer. Excute the follwing command toinstall:\n",
    "\n",
    " pip install numpy\n",
    "\n",
    "Otherwise, if you are running Python via the Anaconda distribution, you can execute the following command instead:\n",
    "\n",
    "conda install numpy"
   ],
   "metadata": {}
  },
  {
   "cell_type": "markdown",
   "source": [
    "### Importing the Numpy module\n",
    "There are several ways to import Numpy. The standard approach is to use a simple import setatement: "
   ],
   "metadata": {}
  },
  {
   "cell_type": "code",
   "execution_count": 3,
   "source": [
    "#import numpy"
   ],
   "outputs": [],
   "metadata": {}
  },
  {
   "cell_type": "markdown",
   "source": [
    "However, for large amounts of calls to NumPy functions, it can become tedious to write numpy.X over and over again. Instead, it is common to import under the briefer name np:"
   ],
   "metadata": {}
  },
  {
   "cell_type": "code",
   "execution_count": 2,
   "source": [
    "import numpy as np"
   ],
   "outputs": [],
   "metadata": {
    "ExecuteTime": {
     "end_time": "2020-06-15T04:28:27.464065Z",
     "start_time": "2020-06-15T04:28:26.622391Z"
    }
   }
  },
  {
   "cell_type": "markdown",
   "source": [
    "Above code renames the Numpy namespace to np. This permits us to prefix Numpy function, methods, and attributes with \" np \" instead of typing \" numpy.\"\n",
    "This statement will allow us to access NumPy objects using np.X instead of numpy.X. \n",
    "\n",
    "To check the version of numpy use the command"
   ],
   "metadata": {}
  },
  {
   "cell_type": "code",
   "execution_count": 3,
   "source": [
    "print (np.__version__)"
   ],
   "outputs": [
    {
     "output_type": "stream",
     "name": "stdout",
     "text": [
      "1.21.2\n"
     ]
    }
   ],
   "metadata": {
    "ExecuteTime": {
     "end_time": "2020-06-15T04:28:42.555607Z",
     "start_time": "2020-06-15T04:28:42.533574Z"
    }
   }
  },
  {
   "cell_type": "markdown",
   "source": [
    "### Arrays\n",
    "\n",
    "The central feature of Numpy is the *array* object class. Arrays are similar to lists in Python, execept that every element of an array must be of the same type. Items in the collection can be accessed using a zero-based index."
   ],
   "metadata": {}
  },
  {
   "cell_type": "code",
   "execution_count": 4,
   "source": [
    "# Syntax \n",
    "np.array"
   ],
   "outputs": [
    {
     "output_type": "execute_result",
     "data": {
      "text/plain": [
       "<function numpy.array>"
      ]
     },
     "metadata": {},
     "execution_count": 4
    }
   ],
   "metadata": {}
  },
  {
   "cell_type": "code",
   "execution_count": 7,
   "source": [
    "x = np.array([1,2,4,5])   # Python assigns the data type creates one- dimensional array\n",
    "\n",
    "print(x)\n"
   ],
   "outputs": [
    {
     "output_type": "stream",
     "name": "stdout",
     "text": [
      "[1 2 4 5]\n"
     ]
    }
   ],
   "metadata": {
    "ExecuteTime": {
     "end_time": "2020-06-15T04:36:13.803501Z",
     "start_time": "2020-06-15T04:36:13.593638Z"
    }
   }
  },
  {
   "cell_type": "code",
   "execution_count": 8,
   "source": [
    "# what is its type? \n",
    "print(\" type:\", type(x))"
   ],
   "outputs": [
    {
     "output_type": "stream",
     "name": "stdout",
     "text": [
      " type: <class 'numpy.ndarray'>\n"
     ]
    }
   ],
   "metadata": {
    "ExecuteTime": {
     "end_time": "2020-06-15T04:36:31.765555Z",
     "start_time": "2020-06-15T04:36:31.758717Z"
    }
   }
  },
  {
   "cell_type": "code",
   "execution_count": 9,
   "source": [
    "# What is stored. Type of the item can be checked with the dtype property\n",
    "print(\"type of variable:\",x.dtype)\n",
    "\n"
   ],
   "outputs": [
    {
     "output_type": "stream",
     "name": "stdout",
     "text": [
      "type of variable: int64\n"
     ]
    }
   ],
   "metadata": {
    "ExecuteTime": {
     "end_time": "2020-06-15T04:36:46.458051Z",
     "start_time": "2020-06-15T04:36:46.450432Z"
    }
   }
  },
  {
   "cell_type": "code",
   "execution_count": 10,
   "source": [
    "      \n",
    "# how many elements\n",
    "print(\"size:\", np.size(x))"
   ],
   "outputs": [
    {
     "output_type": "stream",
     "name": "stdout",
     "text": [
      "size: 4\n"
     ]
    }
   ],
   "metadata": {
    "ExecuteTime": {
     "end_time": "2020-06-15T04:36:56.886944Z",
     "start_time": "2020-06-15T04:36:56.879705Z"
    }
   }
  },
  {
   "cell_type": "code",
   "execution_count": 11,
   "source": [
    "x = np.array([1.0,2,4.0,5.0])   # Python assigns the data type\n",
    "print(x.dtype)\n",
    "print(x)"
   ],
   "outputs": [
    {
     "output_type": "stream",
     "name": "stdout",
     "text": [
      "float64\n",
      "[1. 2. 4. 5.]\n"
     ]
    }
   ],
   "metadata": {
    "ExecuteTime": {
     "end_time": "2020-06-15T04:38:14.389591Z",
     "start_time": "2020-06-15T04:38:14.374294Z"
    }
   }
  },
  {
   "cell_type": "code",
   "execution_count": 17,
   "source": [
    "# you can use to force the type\n",
    "x = np.array([1, 2, 4, 5], float)\n",
    "print(x)\n",
    "print(\"type of x:\", x.dtype)\n",
    "\n",
    "y = np.array([\"1\", \"2\", \"4\", \"5\", \"abc\"])\n",
    "print(y)\n",
    "print(\"type of y:\", y.dtype)\n"
   ],
   "outputs": [
    {
     "output_type": "stream",
     "name": "stdout",
     "text": [
      "[1. 2. 4. 5.]\n",
      "type of x: float64\n",
      "['1' '2' '4' '5' 'abc']\n",
      "type of y: <U3\n"
     ]
    }
   ],
   "metadata": {
    "ExecuteTime": {
     "end_time": "2020-06-15T04:40:12.280499Z",
     "start_time": "2020-06-15T04:40:12.270772Z"
    }
   }
  },
  {
   "cell_type": "markdown",
   "source": [
    "Here, the function array takes two arguments: the list to be converted into the array and the type of each member of the list."
   ],
   "metadata": {}
  },
  {
   "cell_type": "markdown",
   "source": [
    "#### ndarray.shape\n",
    "\n",
    "This array attribute returns a tuple consisting of array dimensions. It can also be used to resize the array."
   ],
   "metadata": {}
  },
  {
   "cell_type": "code",
   "execution_count": 18,
   "source": [
    "# Shape of the array have one dimension\n",
    "print(x.shape)\n",
    "print(y.shape)"
   ],
   "outputs": [
    {
     "output_type": "stream",
     "name": "stdout",
     "text": [
      "(4,)\n",
      "(5,)\n"
     ]
    }
   ],
   "metadata": {}
  },
  {
   "cell_type": "markdown",
   "source": [
    "As there are four elements it prints 4. another way of finding the dimension is use len() function. \n"
   ],
   "metadata": {}
  },
  {
   "cell_type": "code",
   "execution_count": 21,
   "source": [
    "len(x)"
   ],
   "outputs": [
    {
     "output_type": "execute_result",
     "data": {
      "text/plain": [
       "4"
      ]
     },
     "metadata": {},
     "execution_count": 21
    }
   ],
   "metadata": {}
  },
  {
   "cell_type": "code",
   "execution_count": 20,
   "source": [
    "len(y)"
   ],
   "outputs": [
    {
     "output_type": "execute_result",
     "data": {
      "text/plain": [
       "5"
      ]
     },
     "metadata": {},
     "execution_count": 20
    }
   ],
   "metadata": {}
  },
  {
   "cell_type": "code",
   "execution_count": 23,
   "source": [
    "# repeat a sequence 10 times\n",
    "\n",
    "print(np.array([2]*10))\n"
   ],
   "outputs": [
    {
     "output_type": "stream",
     "name": "stdout",
     "text": [
      "[2 2 2 2 2 2 2 2 2 2]\n"
     ]
    }
   ],
   "metadata": {}
  },
  {
   "cell_type": "code",
   "execution_count": null,
   "source": [],
   "outputs": [],
   "metadata": {}
  },
  {
   "cell_type": "markdown",
   "source": [
    "### How to create a multidimensional array. \n",
    "\n",
    "Two dimensional array are great fro represening matrices which are often used in data science.\n"
   ],
   "metadata": {}
  },
  {
   "cell_type": "code",
   "execution_count": 25,
   "source": [
    "a = np.array([[10, 20, 30], [40, 50, 60]], float)\n",
    "print(a)\n",
    "print('\\n')\n",
    "print('Shape of a', a.shape)\n",
    "\n",
    "b = np.array([[10, 20], [40, 50], [100, 101]], float)\n",
    "print(b)\n",
    "print('\\n')\n",
    "print('Shape of b', b.shape)"
   ],
   "outputs": [
    {
     "output_type": "stream",
     "name": "stdout",
     "text": [
      "[[10. 20. 30.]\n",
      " [40. 50. 60.]]\n",
      "\n",
      "\n",
      "Shape of a (2, 3)\n",
      "[[ 10.  20.]\n",
      " [ 40.  50.]\n",
      " [100. 101.]]\n",
      "\n",
      "\n",
      "Shape of b (3, 2)\n"
     ]
    }
   ],
   "metadata": {}
  },
  {
   "cell_type": "markdown",
   "source": [
    "## Reshaping arrays"
   ],
   "metadata": {}
  },
  {
   "cell_type": "code",
   "execution_count": 30,
   "source": [
    "# This resizes the ndarray\n",
    "a = np.arange(0,9)\n",
    "m = a.reshape(3,3)\n",
    "print(m)\n",
    "print('\\n')\n",
    "# back to original \n",
    "reshaped = m.reshape(9)\n",
    "print(reshaped)\n",
    "\n",
    "# The .reshape method is not the only means of reoragnizing data. Another\n",
    "# means is the .ravle() method that will f;latten a matrix into one dimension\n",
    "\n",
    "raveled = m.ravel()\n",
    "print(\"m:\", m)\n",
    "print(\"raveled:\", raveled)\n",
    "\n",
    "raveled[0] = 100\n",
    "print(\"raveled is \", raveled)\n",
    "print(\"m is \", m)\n",
    "\n",
    "\n",
    "# .flatten is like a ravel, but a copy of the data not a view into the source\n",
    "m2 = np.arange(0,9).reshape(3,3)\n",
    "flattened = m2.flatten()\n",
    "flattened[0]= 1000\n",
    "print(flattened)\n",
    "print(m2)\n"
   ],
   "outputs": [
    {
     "output_type": "stream",
     "name": "stdout",
     "text": [
      "[[0 1 2]\n",
      " [3 4 5]\n",
      " [6 7 8]]\n",
      "\n",
      "\n",
      "[0 1 2 3 4 5 6 7 8]\n",
      "raveled: [0 1 2 3 4 5 6 7 8]\n",
      "m: [[0 1 2]\n",
      " [3 4 5]\n",
      " [6 7 8]]\n",
      "raveled is  [100   1   2   3   4   5   6   7   8]\n",
      "m is  [[100   1   2]\n",
      " [  3   4   5]\n",
      " [  6   7   8]]\n",
      "[1000    1    2    3    4    5    6    7    8]\n",
      "[[0 1 2]\n",
      " [3 4 5]\n",
      " [6 7 8]]\n"
     ]
    }
   ],
   "metadata": {}
  },
  {
   "cell_type": "markdown",
   "source": [
    "#### numpy.empty\n",
    "It creates an uninitialized array of specified shape and dtype."
   ],
   "metadata": {}
  },
  {
   "cell_type": "code",
   "execution_count": 38,
   "source": [
    "x = np.empty([3,3], dtype = int)\n",
    "print(x)"
   ],
   "outputs": [
    {
     "output_type": "stream",
     "name": "stdout",
     "text": [
      "[[2305843009213693952 2305843009213693952                   5]\n",
      " [                  0 8171552219854798848 7221293519647039845]\n",
      " [7364560998028947501 3270567942746353716 3775764935388770357]]\n"
     ]
    }
   ],
   "metadata": {}
  },
  {
   "cell_type": "markdown",
   "source": [
    "#### Note: \n",
    "The elements in an array show random values as they are not initialized\n"
   ],
   "metadata": {}
  },
  {
   "cell_type": "markdown",
   "source": [
    "#### numpy.zeros \n",
    "Returns a new array of specified size, filled with zeros."
   ],
   "metadata": {}
  },
  {
   "cell_type": "code",
   "execution_count": 39,
   "source": [
    "x = np.zeros(10, dtype  = int)\n",
    "print(x)"
   ],
   "outputs": [
    {
     "output_type": "stream",
     "name": "stdout",
     "text": [
      "[0 0 0 0 0 0 0 0 0 0]\n"
     ]
    }
   ],
   "metadata": {}
  },
  {
   "cell_type": "markdown",
   "source": [
    "#### numpy.ones \n",
    "Returns a new array of specified size and type, filled with ones.\n"
   ],
   "metadata": {}
  },
  {
   "cell_type": "code",
   "execution_count": 40,
   "source": [
    "x = np.ones(10)\n",
    "print(x)"
   ],
   "outputs": [
    {
     "output_type": "stream",
     "name": "stdout",
     "text": [
      "[1. 1. 1. 1. 1. 1. 1. 1. 1. 1.]\n"
     ]
    }
   ],
   "metadata": {}
  },
  {
   "cell_type": "code",
   "execution_count": 41,
   "source": [
    "x = np.ones([3,3], dtype = int) \n",
    "print(x)"
   ],
   "outputs": [
    {
     "output_type": "stream",
     "name": "stdout",
     "text": [
      "[[1 1 1]\n",
      " [1 1 1]\n",
      " [1 1 1]]\n"
     ]
    }
   ],
   "metadata": {}
  },
  {
   "cell_type": "markdown",
   "source": [
    "we will discuss how to create an array from existing data\n",
    "\n",
    "#### numpy.asarray"
   ],
   "metadata": {}
  },
  {
   "cell_type": "code",
   "execution_count": 46,
   "source": [
    "# convert list to ndarray\n",
    "a = [1,2,3,4]\n",
    "print(type(a))\n",
    "x = np.asarray(a)\n",
    "print(x)\n",
    "print(type(x))\n",
    "\n",
    "b = [\"xxx\",\"yyy\",\"zzz\"]\n",
    "print(type(b))\n",
    "y = np.asarray(b)\n",
    "print(y)\n",
    "print(y.shape)\n",
    "print(type(y))\n"
   ],
   "outputs": [
    {
     "output_type": "stream",
     "name": "stdout",
     "text": [
      "<class 'list'>\n",
      "[1 2 3 4]\n",
      "<class 'numpy.ndarray'>\n",
      "<class 'list'>\n",
      "['xxx' 'yyy' 'zzz']\n",
      "(3,)\n",
      "<class 'numpy.ndarray'>\n"
     ]
    }
   ],
   "metadata": {}
  },
  {
   "cell_type": "code",
   "execution_count": 44,
   "source": [
    "# dtype is set\n",
    "a = [1,2,3,4]\n",
    "print(type(a))\n",
    "x = np.asarray(a, dtype = float)\n",
    "print(x)\n",
    "print(type(x))"
   ],
   "outputs": [
    {
     "output_type": "stream",
     "name": "stdout",
     "text": [
      "<class 'list'>\n",
      "[1. 2. 3. 4.]\n",
      "<class 'numpy.ndarray'>\n"
     ]
    }
   ],
   "metadata": {}
  },
  {
   "cell_type": "code",
   "execution_count": 45,
   "source": [
    "# ndarray from tuple \n",
    "a = (1,2,3) \n",
    "print(type(a))\n",
    "x = np.asarray(a) \n",
    "print(x)\n",
    "print(x.shape)\n",
    "print(type(x))"
   ],
   "outputs": [
    {
     "output_type": "stream",
     "name": "stdout",
     "text": [
      "<class 'tuple'>\n",
      "[1 2 3]\n",
      "(3,)\n",
      "<class 'numpy.ndarray'>\n"
     ]
    }
   ],
   "metadata": {}
  },
  {
   "cell_type": "code",
   "execution_count": 22,
   "source": [
    "# ndarray from list of tuples \n",
    "a = [(1,2,3),(4,5,6)] \n",
    "x = np.asarray(a) \n",
    "print(x)\n",
    "print(x.shape)"
   ],
   "outputs": [
    {
     "output_type": "stream",
     "name": "stdout",
     "text": [
      "[[1 2 3]\n",
      " [4 5 6]]\n",
      "(2, 3)\n"
     ]
    }
   ],
   "metadata": {}
  },
  {
   "cell_type": "markdown",
   "source": [
    "#### Array from Numerical ranges\n",
    "\n",
    "we will see how tocerate an array from numerical ranges\n",
    "\n",
    "\n",
    "#### numpy. arange\n",
    "\n",
    "This function returns an ndarray object containing evenly spaced values within a given range. The format of the function is as follows −\n",
    "\n",
    "numpy.arange(start, stop, step, dtype)"
   ],
   "metadata": {}
  },
  {
   "cell_type": "code",
   "execution_count": 24,
   "source": [
    "x = np.arange(10)\n",
    "print(x)\n",
    "\n",
    "y = np.arange(5, 10, 2)\n",
    "print(y)"
   ],
   "outputs": [
    {
     "output_type": "stream",
     "name": "stdout",
     "text": [
      "[0 1 2 3 4 5 6 7 8 9]\n",
      "[5 7 9]\n"
     ]
    }
   ],
   "metadata": {}
  },
  {
   "cell_type": "markdown",
   "source": [
    "Here default start is zero and step size is one. "
   ],
   "metadata": {}
  },
  {
   "cell_type": "code",
   "execution_count": 24,
   "source": [
    "# start and stop parameters set \n",
    "import numpy as np \n",
    "x = np.arange(1,10,2) \n",
    "print(x)"
   ],
   "outputs": [
    {
     "output_type": "stream",
     "name": "stdout",
     "text": [
      "[1 3 5 7 9]\n"
     ]
    }
   ],
   "metadata": {}
  },
  {
   "cell_type": "markdown",
   "source": [
    "#### numpy.linspace\n",
    "This function is similar to arange() function. In this function, instead of step size, the number of evenly spaced values between the interval is specified. The usage of this function is as follows −\n",
    "\n",
    "numpy.linspace(start, stop, num, endpoint, retstep, dtype)\n",
    "\n",
    "1. start - The starting value of the sequence\n",
    "\n",
    "2.  stop - The end value of the sequence, included in the sequence if endpoint set to true\n",
    "\n",
    "3.\tnum - The number of evenly spaced samples to be generated. Default is 50\n",
    "\n",
    "4.\tendpoint- True by default, hence the stop value is included in the sequence. If false, it is not included\n",
    "\n",
    "5.\tretstep - If true, returns samples and step between the consecutive numbers\n",
    "\n",
    "6.\tdtype - Data type of output ndarray\n"
   ],
   "metadata": {}
  },
  {
   "cell_type": "code",
   "execution_count": 25,
   "source": [
    "x = np.linspace(10,20,5) \n",
    "print(x)"
   ],
   "outputs": [
    {
     "output_type": "stream",
     "name": "stdout",
     "text": [
      "[10.  12.5 15.  17.5 20. ]\n"
     ]
    }
   ],
   "metadata": {}
  },
  {
   "cell_type": "code",
   "execution_count": 51,
   "source": [
    "# endpoint set to false \n",
    "import numpy as np \n",
    "x = np.linspace(10,20, 5, endpoint = False, retstep=True) \n",
    "print(x)"
   ],
   "outputs": [
    {
     "output_type": "stream",
     "name": "stdout",
     "text": [
      "(array([10., 12., 14., 16., 18.]), 2.0)\n"
     ]
    }
   ],
   "metadata": {}
  },
  {
   "cell_type": "code",
   "execution_count": 2,
   "source": [
    "# find retstep value \n",
    "import numpy as np \n",
    "\n",
    "x = np.linspace(1,3,5, retstep = True) \n",
    "print(x) \n",
    "# retstep here is 0.5"
   ],
   "outputs": [
    {
     "output_type": "stream",
     "name": "stdout",
     "text": [
      "(array([1. , 1.5, 2. , 2.5, 3. ]), 0.5)\n"
     ]
    }
   ],
   "metadata": {}
  },
  {
   "cell_type": "markdown",
   "source": [
    "#### Indexing and slicing\n",
    "Contents of ndarray object can be accessed and modified by indexing or slicing, just like Python's in-built container objects.\n",
    "\n",
    "Items in ndarray object follows zero-based index.\n",
    "\n",
    "Basic slicing is an extension of Python's basic concept of slicing to n dimensions. A Python slice object is constructed by giving start, stop, and step parameters to the built-in slice function. This slice object is passed to the array to extract a part of array."
   ],
   "metadata": {}
  },
  {
   "cell_type": "code",
   "execution_count": 12,
   "source": [
    "a = np.arange(20)\n",
    "print(a)\n",
    "print(type(a))\n",
    "s = slice(2, 10, 2)\n",
    "print(a[s])\n"
   ],
   "outputs": [
    {
     "output_type": "stream",
     "name": "stdout",
     "text": [
      "[ 0  1  2  3  4  5  6  7  8  9 10 11 12 13 14 15 16 17 18 19]\n",
      "<class 'numpy.ndarray'>\n",
      "[2 4 6 8]\n"
     ]
    }
   ],
   "metadata": {}
  },
  {
   "cell_type": "code",
   "execution_count": 29,
   "source": [
    "a"
   ],
   "outputs": [
    {
     "output_type": "execute_result",
     "data": {
      "text/plain": [
       "array([ 0,  1,  2,  3,  4,  5,  6,  7,  8,  9, 10, 11, 12, 13, 14, 15, 16,\n",
       "       17, 18, 19])"
      ]
     },
     "metadata": {},
     "execution_count": 29
    }
   ],
   "metadata": {}
  },
  {
   "cell_type": "markdown",
   "source": [
    "In the above example, an ndarray object is prepared by arange() function. Then a slice object is defined with start, stop, and step values 2, 10, and 2 respectively. When this slice object is passed to the ndarray, a part of it starting with index 2 up to 10 with a step of 2 is sliced.\n",
    "\n",
    "The same result can also be obtained by giving the slicing parameters separated by a colon : (start:stop:step) directly to the ndarray object."
   ],
   "metadata": {}
  },
  {
   "cell_type": "code",
   "execution_count": 13,
   "source": [
    "x = a[2:10:2]\n",
    "print(x)"
   ],
   "outputs": [
    {
     "output_type": "stream",
     "name": "stdout",
     "text": [
      "[2 4 6 8]\n"
     ]
    }
   ],
   "metadata": {}
  },
  {
   "cell_type": "markdown",
   "source": [
    "If only one parameter is put, a single item corresponding to the index \n",
    "will be returned. If a : is inserted in front of it, all items from that index onwards will be extracted. If two parameters (with : between them) is used, items between the two indexes (not including the stop index) with default step one are sliced."
   ],
   "metadata": {}
  },
  {
   "cell_type": "code",
   "execution_count": 15,
   "source": [
    "a = np.arange(10) \n",
    "print(a)\n",
    "b = a[3] \n",
    "print (b)"
   ],
   "outputs": [
    {
     "output_type": "stream",
     "name": "stdout",
     "text": [
      "[0 1 2 3 4 5 6 7 8 9]\n",
      "3\n"
     ]
    }
   ],
   "metadata": {}
  },
  {
   "cell_type": "code",
   "execution_count": 35,
   "source": [
    "# slice items starting from index \n",
    "a = np.arange(10) \n",
    "print(a[3:])"
   ],
   "outputs": [
    {
     "output_type": "stream",
     "name": "stdout",
     "text": [
      "[3 4 5 6 7 8 9]\n"
     ]
    }
   ],
   "metadata": {}
  },
  {
   "cell_type": "code",
   "execution_count": 16,
   "source": [
    "# slice items between indexes \n",
    "a = np.arange(10) \n",
    "print(a[5:7])"
   ],
   "outputs": [
    {
     "output_type": "stream",
     "name": "stdout",
     "text": [
      "[5 6]\n"
     ]
    }
   ],
   "metadata": {}
  },
  {
   "cell_type": "markdown",
   "source": [
    "The above description applies to multi-dimensional ndarray too"
   ],
   "metadata": {}
  },
  {
   "cell_type": "code",
   "execution_count": 19,
   "source": [
    "x = np.array([[10, 20, 30], [40, 50, 60], [70, 80, 90]])\n",
    "print(x)\n",
    "print(x.shape)\n",
    "print(type(x))\n",
    "\n",
    "# slice items starting from index\n",
    "print('Now we will slice the array from the index a[1:] \\n')\n",
    "print(x[1:])\n",
    "print()\n",
    "print(x[2:])\n"
   ],
   "outputs": [
    {
     "output_type": "stream",
     "name": "stdout",
     "text": [
      "[[10 20 30]\n",
      " [40 50 60]\n",
      " [70 80 90]]\n",
      "(3, 3)\n",
      "<class 'numpy.ndarray'>\n",
      "Now we will slice the array from the index a[1:] \n",
      "\n",
      "[[40 50 60]\n",
      " [70 80 90]]\n",
      "\n",
      "[[70 80 90]]\n"
     ]
    }
   ],
   "metadata": {}
  },
  {
   "cell_type": "markdown",
   "source": [
    "Slicing can also include ellipsis (…) to make a selection tuple of the same length as the dimension of an array. If ellipsis is used at the row position, it will return an ndarray comprising of items in rows."
   ],
   "metadata": {}
  },
  {
   "cell_type": "code",
   "execution_count": 39,
   "source": [
    "x = np.array([[10,20,30],[40,50,60],[70,80,90]]) \n",
    "\n",
    "print ('Our array is:') \n",
    "print(x)\n",
    "print ('\\n')  \n",
    "\n",
    "# this returns array of items in the second column \n",
    "print ('The items in the second column are:')  \n",
    "print (x[...,1]) \n",
    "print ('\\n')  \n",
    "\n",
    "# Now we will slice all items from the second row \n",
    "print ('The items in the second row are:') \n",
    "print (x[1,...]) \n",
    "print ('\\n')  \n",
    "\n",
    "# Now we will slice all items from column 1 onwards \n",
    "print ('The items column 1 onwards are:') \n",
    "print (x[...,1:])"
   ],
   "outputs": [
    {
     "output_type": "stream",
     "name": "stdout",
     "text": [
      "Our array is:\n",
      "[[10 20 30]\n",
      " [40 50 60]\n",
      " [70 80 90]]\n",
      "\n",
      "\n",
      "The items in the second column are:\n",
      "[20 50 80]\n",
      "\n",
      "\n",
      "The items in the second row are:\n",
      "[40 50 60]\n",
      "\n",
      "\n",
      "The items column 1 onwards are:\n",
      "[[20 30]\n",
      " [50 60]\n",
      " [80 90]]\n"
     ]
    }
   ],
   "metadata": {}
  },
  {
   "cell_type": "code",
   "execution_count": 33,
   "source": [
    "x1 = np.arange(10,100,5).reshape(6,3)\n",
    "np.delete\n",
    "print(x1)\n",
    "\n",
    "x2 = np.arange(10,55,5)\n",
    "# np.delete\n",
    "\n",
    "print(\"\\n\")\n",
    "print(x2)\n",
    "x2 = x2.reshape(3,3)\n",
    "print(x2)"
   ],
   "outputs": [
    {
     "output_type": "stream",
     "name": "stdout",
     "text": [
      "[[10 15 20]\n",
      " [25 30 35]\n",
      " [40 45 50]\n",
      " [55 60 65]\n",
      " [70 75 80]\n",
      " [85 90 95]]\n",
      "\n",
      "\n",
      "[10 15 20 25 30 35 40 45 50]\n",
      "[[10 15 20]\n",
      " [25 30 35]\n",
      " [40 45 50]]\n"
     ]
    }
   ],
   "metadata": {}
  },
  {
   "cell_type": "code",
   "execution_count": 35,
   "source": [
    "x1[:,1]"
   ],
   "outputs": [
    {
     "output_type": "execute_result",
     "data": {
      "text/plain": [
       "array([15, 30, 45, 60, 75, 90])"
      ]
     },
     "metadata": {},
     "execution_count": 35
    }
   ],
   "metadata": {}
  },
  {
   "cell_type": "code",
   "execution_count": 37,
   "source": [
    "x1[[0,2,4,5],[1,2,1,2]]"
   ],
   "outputs": [
    {
     "output_type": "execute_result",
     "data": {
      "text/plain": [
       "array([15, 50, 75, 95])"
      ]
     },
     "metadata": {},
     "execution_count": 37
    }
   ],
   "metadata": {}
  },
  {
   "cell_type": "code",
   "execution_count": 42,
   "source": [
    "x1[1:3,1:]"
   ],
   "outputs": [
    {
     "output_type": "execute_result",
     "data": {
      "text/plain": [
       "array([[30, 35],\n",
       "       [45, 50]])"
      ]
     },
     "metadata": {},
     "execution_count": 42
    }
   ],
   "metadata": {}
  },
  {
   "cell_type": "code",
   "execution_count": 40,
   "source": [
    "# x =  [[10 20 30]\n",
    "#       [40 50 60]\n",
    "#       [70 80 90]]\n",
    "# this returns array of items in the second column \n",
    "print ('The items in the second column are:')  \n",
    "print (x[:,1]) \n",
    "print ('\\n')  \n",
    "\n",
    "# Now we will slice all items from the second row \n",
    "print ('The items in the second row are:') \n",
    "print (x[1,:]) \n",
    "print ('\\n')  \n",
    "\n",
    "# Now we will slice all items from column 1 onwards \n",
    "print ('The items column 1 onwards are:') \n",
    "print (x[:,1:])"
   ],
   "outputs": [
    {
     "output_type": "stream",
     "name": "stdout",
     "text": [
      "The items in the second column are:\n",
      "[20 50 80]\n",
      "\n",
      "\n",
      "The items in the second row are:\n",
      "[40 50 60]\n",
      "\n",
      "\n",
      "The items column 1 onwards are:\n",
      "[[20 30]\n",
      " [50 60]\n",
      " [80 90]]\n"
     ]
    }
   ],
   "metadata": {}
  },
  {
   "cell_type": "markdown",
   "source": [
    "#### Boolean Array Indexing\n",
    "In this example, items greatre than 50 are returned\n"
   ],
   "metadata": {}
  },
  {
   "cell_type": "code",
   "execution_count": 45,
   "source": [
    "# Now we will print the items greater than 50 \n",
    "'''\n",
    " x =  [[10 20 30]\n",
    "       [40 50 60]\n",
    "       [70 80 90]]\n",
    "'''\n",
    "print ('The items greater than 50 are:' )\n",
    "x1g50=(x[x > 50])\n",
    "print(type(x1g50))\n",
    "print(x)\n",
    "print(x1g50)\n",
    "print(len(x1g50))"
   ],
   "outputs": [
    {
     "output_type": "stream",
     "name": "stdout",
     "text": [
      "The items greater than 50 are:\n",
      "<class 'numpy.ndarray'>\n",
      "[[10 20 30]\n",
      " [40 50 60]\n",
      " [70 80 90]]\n",
      "[60 70 80 90]\n",
      "4\n"
     ]
    }
   ],
   "metadata": {}
  },
  {
   "cell_type": "code",
   "execution_count": 46,
   "source": [
    "# In this example, NaN elements are omitted using ~\n",
    "x = np.array([np.nan, 10, 20, np.nan, 30, 40, 50])\n",
    "print(x)\n",
    "print(x[~np.isnan(x)])\n"
   ],
   "outputs": [
    {
     "output_type": "stream",
     "name": "stdout",
     "text": [
      "[nan 10. 20. nan 30. 40. 50.]\n",
      "[10. 20. 30. 40. 50.]\n"
     ]
    }
   ],
   "metadata": {}
  },
  {
   "cell_type": "markdown",
   "source": [
    "#### Broadcasting\n",
    "\n",
    "The term broadcasting refers to the ability of NumPy to treat arrays of different shapes during arithmetic operations. Arithmetic operations on arrays are usually done on corresponding elements. If two arrays are of exactly the same shape, then these operations are smoothly performed."
   ],
   "metadata": {}
  },
  {
   "cell_type": "code",
   "execution_count": 46,
   "source": [
    "x1 = np.array([10,20,30,40]) \n",
    "x2 = np.array([10,20,30,40]) \n",
    "x = x1 * x2 \n",
    "print(x)"
   ],
   "outputs": [
    {
     "output_type": "stream",
     "name": "stdout",
     "text": [
      "[ 100  400  900 1600]\n"
     ]
    }
   ],
   "metadata": {}
  },
  {
   "cell_type": "markdown",
   "source": [
    "If the dimensions of two arrays are dissimilar, element-to-element operations are not possible. However, operations on arrays of non-similar shapes is still possible in NumPy, because of the broadcasting capability. The smaller array is broadcast to the size of the larger array so that they have compatible shapes.\n"
   ],
   "metadata": {}
  },
  {
   "cell_type": "code",
   "execution_count": 47,
   "source": [
    "x1 = np.array([[0.0,0.0,0.0],[10.0,10.0,10.0],[20.0,20.0,20.0],[30.0,30.0,30.0]]) \n",
    "x2 = np.array([1.0,2.0,3.0])  \n",
    "   \n",
    "print ('First array:') \n",
    "print (x1) \n",
    "print ('\\n')  \n",
    "   \n",
    "print ('Second array:') \n",
    "print (x2) \n",
    "print ('\\n')  \n",
    "   \n",
    "print ('First Array + Second Array') \n",
    "print(x1+x2)"
   ],
   "outputs": [
    {
     "output_type": "stream",
     "name": "stdout",
     "text": [
      "First array:\n",
      "[[ 0.  0.  0.]\n",
      " [10. 10. 10.]\n",
      " [20. 20. 20.]\n",
      " [30. 30. 30.]]\n",
      "\n",
      "\n",
      "Second array:\n",
      "[1. 2. 3.]\n",
      "\n",
      "\n",
      "First Array + Second Array\n",
      "[[ 1.  2.  3.]\n",
      " [11. 12. 13.]\n",
      " [21. 22. 23.]\n",
      " [31. 32. 33.]]\n"
     ]
    }
   ],
   "metadata": {}
  },
  {
   "cell_type": "markdown",
   "source": [
    "#### Iterating over array \n",
    "\n",
    "NumPy package contains an iterator object numpy.nditer. It is an efficient multidimensional iterator object using which it is possible to iterate over an array. Each element of an array is visited using Python’s standard Iterator interface.\n",
    "\n",
    "Let us create a 3X4 array using arange() function and iterate over it using nditer."
   ],
   "metadata": {}
  },
  {
   "cell_type": "code",
   "execution_count": 48,
   "source": [
    "x = np.arange(0,60,5)\n",
    "x = x.reshape(3,4)\n",
    "\n",
    "print ('Original array is:')\n",
    "print (x)\n",
    "print ('\\n')\n",
    "\n",
    "print ('Modified array is:')\n",
    "for i in np.nditer(x):\n",
    "   print (i),"
   ],
   "outputs": [
    {
     "output_type": "stream",
     "name": "stdout",
     "text": [
      "Original array is:\n",
      "[[ 0  5 10 15]\n",
      " [20 25 30 35]\n",
      " [40 45 50 55]]\n",
      "\n",
      "\n",
      "Modified array is:\n",
      "0\n",
      "5\n",
      "10\n",
      "15\n",
      "20\n",
      "25\n",
      "30\n",
      "35\n",
      "40\n",
      "45\n",
      "50\n",
      "55\n"
     ]
    }
   ],
   "metadata": {}
  },
  {
   "cell_type": "code",
   "execution_count": 49,
   "source": [
    "for i in np.nditer(x, order = \"F\"):\n",
    "   print (i),"
   ],
   "outputs": [
    {
     "output_type": "stream",
     "name": "stdout",
     "text": [
      "0\n",
      "20\n",
      "40\n",
      "5\n",
      "25\n",
      "45\n",
      "10\n",
      "30\n",
      "50\n",
      "15\n",
      "35\n",
      "55\n"
     ]
    }
   ],
   "metadata": {}
  },
  {
   "cell_type": "code",
   "execution_count": 53,
   "source": [
    "np.nditer(x)"
   ],
   "outputs": [
    {
     "output_type": "execute_result",
     "data": {
      "text/plain": [
       "<numpy.nditer at 0x7f9d084aca30>"
      ]
     },
     "metadata": {},
     "execution_count": 53
    }
   ],
   "metadata": {}
  },
  {
   "cell_type": "code",
   "execution_count": 52,
   "source": [
    "type(np.nditer(x))\n"
   ],
   "outputs": [
    {
     "output_type": "execute_result",
     "data": {
      "text/plain": [
       "numpy.nditer"
      ]
     },
     "metadata": {},
     "execution_count": 52
    }
   ],
   "metadata": {}
  },
  {
   "cell_type": "markdown",
   "source": [
    "#### Array Manipulation\n",
    "Several routines are available in numpy package for manipultion of elements in\n",
    "ndarray object. we will discuss few of them \n",
    "\n",
    "numpy.reshape"
   ],
   "metadata": {}
  },
  {
   "cell_type": "code",
   "execution_count": 54,
   "source": [
    "x = np.arange(12)\n",
    "print ('The original array:')\n",
    "print (x)\n",
    "print ('\\n')\n",
    "\n",
    "x1 = x.reshape(4,3)\n",
    "print ('The modified array:')\n",
    "print (x1)"
   ],
   "outputs": [
    {
     "output_type": "stream",
     "name": "stdout",
     "text": [
      "The original array:\n",
      "[ 0  1  2  3  4  5  6  7  8  9 10 11]\n",
      "\n",
      "\n",
      "The modified array:\n",
      "[[ 0  1  2]\n",
      " [ 3  4  5]\n",
      " [ 6  7  8]\n",
      " [ 9 10 11]]\n"
     ]
    }
   ],
   "metadata": {}
  },
  {
   "cell_type": "markdown",
   "source": [
    "#### numpy.ndarray.flat\n",
    "This function returns a 1-D iterator over the array."
   ],
   "metadata": {}
  },
  {
   "cell_type": "code",
   "execution_count": 57,
   "source": [
    "x = np.arange(8, 20).reshape(3,4) \n",
    "print ('The original array:') \n",
    "print (x) \n",
    "print ('\\n') \n",
    "\n",
    "print ('After applying the flat function:') \n",
    "# returns element corresponding to index in flattened array \n",
    "print (x.flat[6])\n",
    "print (x.flat[0])\n",
    "print (x.flat[-3])"
   ],
   "outputs": [
    {
     "output_type": "stream",
     "name": "stdout",
     "text": [
      "The original array:\n",
      "[[ 8  9 10 11]\n",
      " [12 13 14 15]\n",
      " [16 17 18 19]]\n",
      "\n",
      "\n",
      "After applying the flat function:\n",
      "14\n",
      "8\n",
      "17\n"
     ]
    }
   ],
   "metadata": {}
  },
  {
   "cell_type": "markdown",
   "source": [
    "#### numpy.ndarray.flatten\n",
    "This function returns a copy of an array collapsed into one dimension."
   ],
   "metadata": {}
  },
  {
   "cell_type": "code",
   "execution_count": 59,
   "source": [
    "x = np.arange(8, 20).reshape(3, 4)\n",
    "\n",
    "print('The original array is:')\n",
    "print(x)\n",
    "print('\\n')\n",
    "# default is column-major\n",
    "\n",
    "print('The flattened array is:')\n",
    "print(x.flatten())\n",
    "print('\\n')\n",
    "\n",
    "print('The flattened array in F-style ordering:')\n",
    "y = x.flatten(order='F')\n",
    "print(type(y))\n",
    "print(y)\n"
   ],
   "outputs": [
    {
     "output_type": "stream",
     "name": "stdout",
     "text": [
      "The original array is:\n",
      "[[ 8  9 10 11]\n",
      " [12 13 14 15]\n",
      " [16 17 18 19]]\n",
      "\n",
      "\n",
      "The flattened array is:\n",
      "[ 8  9 10 11 12 13 14 15 16 17 18 19]\n",
      "\n",
      "\n",
      "The flattened array in F-style ordering:\n",
      "<class 'numpy.ndarray'>\n",
      "[ 8 12 16  9 13 17 10 14 18 11 15 19]\n"
     ]
    }
   ],
   "metadata": {}
  },
  {
   "cell_type": "markdown",
   "source": [
    "#### Transpose Operations\n",
    "\n",
    "numpy.transpose\n"
   ],
   "metadata": {}
  },
  {
   "cell_type": "code",
   "execution_count": 54,
   "source": [
    "x = np.arange(12).reshape(3,4)\n",
    "\n",
    "print ('The original array is:') \n",
    "print (x)  \n",
    "print ('\\n') \n",
    "\n",
    "print ('The transposed array is:') \n",
    "print (np.transpose(x))\n",
    "\n",
    "print('Alternatively, this can also be perfromed with the .T property:')\n",
    "print(x.T)"
   ],
   "outputs": [
    {
     "output_type": "stream",
     "name": "stdout",
     "text": [
      "The original array is:\n",
      "[[ 0  1  2  3]\n",
      " [ 4  5  6  7]\n",
      " [ 8  9 10 11]]\n",
      "\n",
      "\n",
      "The transposed array is:\n",
      "[[ 0  4  8]\n",
      " [ 1  5  9]\n",
      " [ 2  6 10]\n",
      " [ 3  7 11]]\n",
      "Alternatively, this can also be perfromed with the .T property:\n",
      "[[ 0  4  8]\n",
      " [ 1  5  9]\n",
      " [ 2  6 10]\n",
      " [ 3  7 11]]\n"
     ]
    }
   ],
   "metadata": {}
  },
  {
   "cell_type": "markdown",
   "source": [
    "#### Joining Arrays\n",
    "\n",
    "numpy.concatenate\n",
    "\n",
    "\n",
    "Concatenation refers to joining. This function is used to join two or more arrays of the same shape along a specified axis."
   ],
   "metadata": {}
  },
  {
   "cell_type": "code",
   "execution_count": 60,
   "source": [
    "a = np.array([[1,2],[3,4]]) \n",
    "\n",
    "print ('First array:') \n",
    "print (a) \n",
    "print('dim of a: ', a.shape)\n",
    "print ('\\n')  \n",
    "b = (np.array([[5,6],[7,8]])) \n",
    "print ('Second array:') \n",
    "print (b) \n",
    "print('dim of b: ', b.shape)\n",
    "print ('\\n')  \n",
    "# both the arrays are of same dimensions\n",
    "\n",
    "print ('Joining the two arrays along axis 0:') \n",
    "print (np.concatenate((a,b))) \n",
    "print ('\\n')  \n",
    "\n",
    "print ('Joining the two arrays along axis 1:') \n",
    "print (np.concatenate((a,b),axis = 1))"
   ],
   "outputs": [
    {
     "output_type": "stream",
     "name": "stdout",
     "text": [
      "First array:\n",
      "[[1 2]\n",
      " [3 4]]\n",
      "dim of a:  (2, 2)\n",
      "\n",
      "\n",
      "Second array:\n",
      "[[5 6]\n",
      " [7 8]]\n",
      "dim of b:  (2, 2)\n",
      "\n",
      "\n",
      "Joining the two arrays along axis 0:\n",
      "[[1 2]\n",
      " [3 4]\n",
      " [5 6]\n",
      " [7 8]]\n",
      "\n",
      "\n",
      "Joining the two arrays along axis 1:\n",
      "[[1 2 5 6]\n",
      " [3 4 7 8]]\n"
     ]
    }
   ],
   "metadata": {}
  },
  {
   "cell_type": "code",
   "execution_count": 61,
   "source": [
    "# numpy.hstack\n",
    "\n",
    "import numpy as np \n",
    "a = np.array([[1,2],[3,4]]) \n",
    "\n",
    "print ('First array:') \n",
    "print (a) \n",
    "print ('\\n')  \n",
    "b = np.array([[5,6],[7,8]]) \n",
    "\n",
    "print ('Second array:') \n",
    "print (b) \n",
    "print ('\\n')  \n",
    "\n",
    "print ('Horizontal stacking:') \n",
    "c = np.hstack((a,b)) \n",
    "print (c) \n",
    "print ('\\n')\n",
    "print(c.shape)\n",
    "\n",
    "print ('Vertical stacking:') \n",
    "d = np.vstack((a,b)) \n",
    "print (d) \n",
    "print ('\\n')\n",
    "print(d.shape)\n",
    "\n"
   ],
   "outputs": [
    {
     "output_type": "stream",
     "name": "stdout",
     "text": [
      "First array:\n",
      "[[1 2]\n",
      " [3 4]]\n",
      "\n",
      "\n",
      "Second array:\n",
      "[[5 6]\n",
      " [7 8]]\n",
      "\n",
      "\n",
      "Horizontal stacking:\n",
      "[[1 2 5 6]\n",
      " [3 4 7 8]]\n",
      "\n",
      "\n",
      "(2, 4)\n",
      "Vertical stacking:\n",
      "[[1 2]\n",
      " [3 4]\n",
      " [5 6]\n",
      " [7 8]]\n",
      "\n",
      "\n",
      "(4, 2)\n"
     ]
    }
   ],
   "metadata": {}
  },
  {
   "cell_type": "code",
   "execution_count": 57,
   "source": [
    "# numpy.vstack\n",
    "\n",
    "import numpy as np \n",
    "a = np.array([[1,2],[3,4]]) \n",
    "\n",
    "print ('First array:') \n",
    "print (a) \n",
    "print ('\\n')  \n",
    "b = np.array([[5,6],[7,8]]) \n",
    "\n",
    "print ('Second array:') \n",
    "print (b) \n",
    "print ('\\n')  \n",
    "\n",
    "print ('Horizontal stacking:') \n",
    "c = np.vstack((a,b)) \n",
    "print (c) \n",
    "print ('\\n')\n",
    "print(c.shape)"
   ],
   "outputs": [
    {
     "output_type": "stream",
     "name": "stdout",
     "text": [
      "First array:\n",
      "[[1 2]\n",
      " [3 4]]\n",
      "\n",
      "\n",
      "Second array:\n",
      "[[5 6]\n",
      " [7 8]]\n",
      "\n",
      "\n",
      "Horizontal stacking:\n",
      "[[1 2]\n",
      " [3 4]\n",
      " [5 6]\n",
      " [7 8]]\n",
      "\n",
      "\n",
      "(4, 2)\n"
     ]
    }
   ],
   "metadata": {}
  },
  {
   "cell_type": "markdown",
   "source": [
    "numpy.split\n",
    "\n",
    "This function divides the array into subarrays along a specified axis.\n",
    "\n"
   ],
   "metadata": {}
  },
  {
   "cell_type": "code",
   "execution_count": 65,
   "source": [
    "a = np.arange(4, 13) \n",
    "\n",
    "print ('First array:') \n",
    "print (a) \n",
    "print ('\\n')  \n",
    "\n",
    "print ('Split the array in 3 equal-sized subarrays:' )\n",
    "b = np.split(a,3) \n",
    "print (b) \n",
    "print ('\\n')\n",
    "print(type(b))\n",
    "print(b[0])"
   ],
   "outputs": [
    {
     "output_type": "stream",
     "name": "stdout",
     "text": [
      "First array:\n",
      "[ 4  5  6  7  8  9 10 11 12]\n",
      "\n",
      "\n",
      "Split the array in 3 equal-sized subarrays:\n",
      "[array([4, 5, 6]), array([7, 8, 9]), array([10, 11, 12])]\n",
      "\n",
      "\n",
      "<class 'list'>\n",
      "[4 5 6]\n"
     ]
    }
   ],
   "metadata": {}
  },
  {
   "cell_type": "code",
   "execution_count": 68,
   "source": [
    "print ('Split the array at positions indicated in 1-D array:' )\n",
    "b = np.split(a,[3, 7])\n",
    "print (b) "
   ],
   "outputs": [
    {
     "output_type": "stream",
     "name": "stdout",
     "text": [
      "Split the array at positions indicated in 1-D array:\n",
      "[array([4, 5, 6]), array([ 7,  8,  9, 10]), array([11, 12])]\n"
     ]
    }
   ],
   "metadata": {}
  },
  {
   "cell_type": "markdown",
   "source": [
    "numpy.hsplit\n",
    "\n",
    "The numpy.hsplit is a special case of split() function where axis is 1 indicating a horizontal split regardless of the dimension of the input array."
   ],
   "metadata": {}
  },
  {
   "cell_type": "code",
   "execution_count": 72,
   "source": [
    "a = np.arange(16).reshape(4, 4)\n",
    "\n",
    "print('First array:')\n",
    "print(a)\n",
    "print('\\n')\n",
    "\n",
    "print('Horizontal splitting:')\n",
    "b = np.hsplit(a, 2)\n",
    "print(b)\n",
    "print(b[0])\n",
    "print(b[0][0])\n",
    "print(b[0][0][1])\n",
    "print('\\n')\n"
   ],
   "outputs": [
    {
     "output_type": "stream",
     "name": "stdout",
     "text": [
      "First array:\n",
      "[[ 0  1  2  3]\n",
      " [ 4  5  6  7]\n",
      " [ 8  9 10 11]\n",
      " [12 13 14 15]]\n",
      "\n",
      "\n",
      "Horizontal splitting:\n",
      "[array([[ 0,  1],\n",
      "       [ 4,  5],\n",
      "       [ 8,  9],\n",
      "       [12, 13]]), array([[ 2,  3],\n",
      "       [ 6,  7],\n",
      "       [10, 11],\n",
      "       [14, 15]])]\n",
      "[[ 0  1]\n",
      " [ 4  5]\n",
      " [ 8  9]\n",
      " [12 13]]\n",
      "[0 1]\n",
      "1\n",
      "\n",
      "\n"
     ]
    }
   ],
   "metadata": {}
  },
  {
   "cell_type": "markdown",
   "source": [
    "numpy.vsplit\n",
    "\n",
    "The numpy.vsplit is a special case of split() function where axis is 1 indicating a horizontal split regardless of the dimension of the input array."
   ],
   "metadata": {}
  },
  {
   "cell_type": "code",
   "execution_count": 61,
   "source": [
    "a = np.arange(4, 20).reshape(4, 4)\n",
    "\n",
    "print('First array:')\n",
    "print(a)\n",
    "print('\\n')\n",
    "\n",
    "print('Vertical splitting:')\n",
    "b = np.vsplit(a, 2)\n",
    "print(b)\n",
    "print('\\n')\n"
   ],
   "outputs": [
    {
     "output_type": "stream",
     "name": "stdout",
     "text": [
      "First array:\n",
      "[[ 0  1  2  3]\n",
      " [ 4  5  6  7]\n",
      " [ 8  9 10 11]\n",
      " [12 13 14 15]]\n",
      "\n",
      "\n",
      "Horizontal splitting:\n",
      "[array([[0, 1, 2, 3],\n",
      "       [4, 5, 6, 7]]), array([[ 8,  9, 10, 11],\n",
      "       [12, 13, 14, 15]])]\n",
      "\n",
      "\n"
     ]
    }
   ],
   "metadata": {}
  },
  {
   "cell_type": "markdown",
   "source": [
    "numpy.resize\n",
    "\n",
    "This function returns a new array with the specified size. If the new size is greater than the original, the repeated copies of entries in the original are contained."
   ],
   "metadata": {}
  },
  {
   "cell_type": "code",
   "execution_count": 77,
   "source": [
    "a = np.array([[1,2,3],[4,5,6]]) \n",
    "\n",
    "print ('First array:') \n",
    "print (a) \n",
    "print ('\\n')\n",
    "\n",
    "print ('The shape of first array:' )\n",
    "print (a.shape) \n",
    "print ('\\n')  \n",
    "b = np.resize(a, (3,2)) \n",
    "\n",
    "print ('Second array:') \n",
    "print (b) \n",
    "print ('\\n')  \n",
    "\n",
    "print ('The shape of second array:') \n",
    "print (b.shape) \n",
    "print ('\\n')\n",
    "\n",
    "# Observe that first row of a is repeated in b since size is bigger \n",
    "\n",
    "print ('Resize the second array:' )\n",
    "b = np.resize(a,(3,10)) \n",
    "print (b)"
   ],
   "outputs": [
    {
     "output_type": "stream",
     "name": "stdout",
     "text": [
      "First array:\n",
      "[[1 2 3]\n",
      " [4 5 6]]\n",
      "\n",
      "\n",
      "The shape of first array:\n",
      "(2, 3)\n",
      "\n",
      "\n",
      "Second array:\n",
      "[[1 2]\n",
      " [3 4]\n",
      " [5 6]]\n",
      "\n",
      "\n",
      "The shape of second array:\n",
      "(3, 2)\n",
      "\n",
      "\n",
      "Resize the second array:\n",
      "[[1 2 3 4 5 6 1 2 3 4]\n",
      " [5 6 1 2 3 4 5 6 1 2]\n",
      " [3 4 5 6 1 2 3 4 5 6]]\n"
     ]
    }
   ],
   "metadata": {}
  },
  {
   "cell_type": "markdown",
   "source": [
    "numpy.insert \n",
    "\n",
    "This function inserts values in the input array along the given axis and before the given index. If the type of values is converted to be inserted, it is different from the input array. \n",
    "\n",
    "Also, if the axis is not mentioned, the input array is flattened."
   ],
   "metadata": {}
  },
  {
   "cell_type": "code",
   "execution_count": 4,
   "source": [
    "import numpy as np\n",
    "a = np.array([[1, 2], [3, 4], [5, 6]])\n",
    "\n",
    "print('First array:')\n",
    "print(a)\n",
    "print('\\n')\n",
    "\n",
    "print('Axis parameter not passed. The input array is flattened before insertion.')\n",
    "print(np.insert(a, 3, [11, 12]))\n",
    "print('\\n')\n",
    "print('Axis parameter passed. The values array is broadcast to match input array.')\n",
    "\n",
    "print('Broadcast along axis 0:')\n",
    "print(np.insert(a, 1, [11, 15], axis=0))\n",
    "print('\\n')\n",
    "\n",
    "print('Broadcast along axis 1:')\n",
    "print(np.insert(a, 1, [11, 13, 15], axis=1))\n",
    "print(np.insert(a, 1, 11, axis=1))\n"
   ],
   "outputs": [
    {
     "output_type": "stream",
     "name": "stdout",
     "text": [
      "First array:\n",
      "[[1 2]\n",
      " [3 4]\n",
      " [5 6]]\n",
      "\n",
      "\n",
      "Axis parameter not passed. The input array is flattened before insertion.\n",
      "[ 1  2  3 11 12  4  5  6]\n",
      "\n",
      "\n",
      "Axis parameter passed. The values array is broadcast to match input array.\n",
      "Broadcast along axis 0:\n",
      "[[ 1  2]\n",
      " [11 15]\n",
      " [ 3  4]\n",
      " [ 5  6]]\n",
      "\n",
      "\n",
      "Broadcast along axis 1:\n",
      "[[ 1 11  2]\n",
      " [ 3 13  4]\n",
      " [ 5 15  6]]\n",
      "[[ 1 11  2]\n",
      " [ 3 11  4]\n",
      " [ 5 11  6]]\n"
     ]
    }
   ],
   "metadata": {}
  },
  {
   "cell_type": "markdown",
   "source": [
    "numpy.delete\n",
    "\n",
    "This function returns a new array with the specified subarray deleted from the input array. It behaves almost same way as numpy.insert\n"
   ],
   "metadata": {}
  },
  {
   "cell_type": "code",
   "execution_count": 23,
   "source": [
    "a = np.arange(2, 14).reshape(3,4) \n",
    "\n",
    "print ('First array:') \n",
    "print (a) \n",
    "print ('\\n')  \n",
    "\n",
    "print ('Array flattened before delete operation as axis not used:' )\n",
    "print (np.delete(a,5)) \n",
    "print ('\\n')  \n",
    "\n",
    "print ('Column 2 deleted:')  \n",
    "print (np.delete(a,1,axis = 1)) \n",
    "print ('\\n')  \n",
    "\n",
    "print ('row 2 deleted:')  \n",
    "print (np.delete(a,1,axis = 0)) \n",
    "print ('\\n') \n",
    "\n",
    "print ('A slice containing alternate values from array deleted:') \n",
    "a = np.array([1,2,3,4,5,6,7,8,9,10]) \n",
    "print(np.s_[::2])\n",
    "print (np.delete(a, np.s_[::2]))"
   ],
   "outputs": [
    {
     "output_type": "stream",
     "name": "stdout",
     "text": [
      "First array:\n",
      "[[ 2  3  4  5]\n",
      " [ 6  7  8  9]\n",
      " [10 11 12 13]]\n",
      "\n",
      "\n",
      "Array flattened before delete operation as axis not used:\n",
      "[ 2  3  4  5  6  8  9 10 11 12 13]\n",
      "\n",
      "\n",
      "Column 2 deleted:\n",
      "[[ 2  4  5]\n",
      " [ 6  8  9]\n",
      " [10 12 13]]\n",
      "\n",
      "\n",
      "row 2 deleted:\n",
      "[[ 2  3  4  5]\n",
      " [10 11 12 13]]\n",
      "\n",
      "\n",
      "A slice containing alternate values from array deleted:\n",
      "slice(None, None, 2)\n",
      "[ 2  4  6  8 10]\n"
     ]
    }
   ],
   "metadata": {}
  },
  {
   "cell_type": "markdown",
   "source": [
    "Lists can also be created from arrays:"
   ],
   "metadata": {}
  },
  {
   "cell_type": "code",
   "execution_count": 25,
   "source": [
    "a = np.array([1, 2, 3], float)\n",
    "print(type(a))\n",
    "a1=a.tolist()\n",
    "type(a1)"
   ],
   "outputs": [
    {
     "output_type": "stream",
     "name": "stdout",
     "text": [
      "<class 'numpy.ndarray'>\n"
     ]
    },
    {
     "output_type": "execute_result",
     "data": {
      "text/plain": [
       "list"
      ]
     },
     "metadata": {},
     "execution_count": 25
    }
   ],
   "metadata": {}
  },
  {
   "cell_type": "markdown",
   "source": [
    "One can fill an array with a single value"
   ],
   "metadata": {}
  },
  {
   "cell_type": "code",
   "execution_count": 9,
   "source": [
    "a = np.array([1, 2, 3], float)\n",
    "print(a)\n",
    "a.fill(0)\n",
    "print(a)"
   ],
   "outputs": [
    {
     "output_type": "stream",
     "name": "stdout",
     "text": [
      "[1. 2. 3.]\n",
      "[0. 0. 0.]\n"
     ]
    }
   ],
   "metadata": {}
  },
  {
   "cell_type": "code",
   "execution_count": 87,
   "source": [
    "# create a 2x2 array filled with 10.0\n",
    "x1 = np.full((2,2), 10.0)\n",
    "print(x1)"
   ],
   "outputs": [
    {
     "output_type": "stream",
     "name": "stdout",
     "text": [
      "[[10. 10.]\n",
      " [10. 10.]]\n"
     ]
    }
   ],
   "metadata": {}
  },
  {
   "cell_type": "code",
   "execution_count": 12,
   "source": [
    "# create a 2x2 matrix with the diagonal 1s and the others 0s\n",
    "x = np.eye(2,2)\n",
    "print(x)\n",
    "\n",
    "x1= np.identity(2)\n",
    "print(x1)"
   ],
   "outputs": [
    {
     "output_type": "stream",
     "name": "stdout",
     "text": [
      "[[1. 0.]\n",
      " [0. 1.]]\n",
      "[[1. 0.]\n",
      " [0. 1.]]\n"
     ]
    }
   ],
   "metadata": {}
  },
  {
   "cell_type": "markdown",
   "source": [
    "The *eye* function returns matrix with ones along the kth diagonal:"
   ],
   "metadata": {}
  },
  {
   "cell_type": "code",
   "execution_count": 13,
   "source": [
    " np.eye(3, k=1, dtype=float)  # upper diagonal"
   ],
   "outputs": [
    {
     "output_type": "execute_result",
     "data": {
      "text/plain": [
       "array([[0., 1., 0.],\n",
       "       [0., 0., 1.],\n",
       "       [0., 0., 0.]])"
      ]
     },
     "metadata": {},
     "execution_count": 13
    }
   ],
   "metadata": {}
  },
  {
   "cell_type": "code",
   "execution_count": 14,
   "source": [
    "np.eye(3, k=-1, dtype=float)  # lower diagonal"
   ],
   "outputs": [
    {
     "output_type": "execute_result",
     "data": {
      "text/plain": [
       "array([[0., 0., 0.],\n",
       "       [1., 0., 0.],\n",
       "       [0., 1., 0.]])"
      ]
     },
     "metadata": {},
     "execution_count": 14
    }
   ],
   "metadata": {}
  },
  {
   "cell_type": "markdown",
   "source": [
    "## Array Operations/Mathematics\n",
    "When standard mathematical operations are used with arrays, they are applied on an element- by-element basis. This means that the arrays should be the same size during addition, subtraction, etc.:"
   ],
   "metadata": {}
  },
  {
   "cell_type": "code",
   "execution_count": 16,
   "source": [
    "a = np.array([1,2,3], float)\n",
    "b = np.array([5,3,6], float)\n",
    "print(a + b)\n",
    "print('\\n')\n",
    "np.add(a,b)"
   ],
   "outputs": [
    {
     "output_type": "stream",
     "name": "stdout",
     "text": [
      "[6. 5. 9.]\n",
      "\n",
      "\n"
     ]
    },
    {
     "output_type": "execute_result",
     "data": {
      "text/plain": [
       "array([6., 5., 9.])"
      ]
     },
     "metadata": {},
     "execution_count": 16
    }
   ],
   "metadata": {}
  },
  {
   "cell_type": "code",
   "execution_count": 17,
   "source": [
    "print(a-b)\n",
    "print(np.subtract(a, b))\n"
   ],
   "outputs": [
    {
     "output_type": "stream",
     "name": "stdout",
     "text": [
      "[-4. -1. -3.]\n",
      "[-4. -1. -3.]\n"
     ]
    }
   ],
   "metadata": {}
  },
  {
   "cell_type": "code",
   "execution_count": 18,
   "source": [
    "print(a*b)\n",
    "\n",
    "print(np.multiply(a,b))"
   ],
   "outputs": [
    {
     "output_type": "stream",
     "name": "stdout",
     "text": [
      "[ 5.  6. 18.]\n",
      "[ 5.  6. 18.]\n"
     ]
    }
   ],
   "metadata": {}
  },
  {
   "cell_type": "code",
   "execution_count": 74,
   "source": [
    "print(a/b)\n",
    "\n",
    "np.divide(a,b)"
   ],
   "outputs": [
    {
     "output_type": "stream",
     "name": "stdout",
     "text": [
      "[0.2 1.  0.5]\n"
     ]
    },
    {
     "output_type": "execute_result",
     "data": {
      "text/plain": [
       "array([0.2, 1. , 0.5])"
      ]
     },
     "metadata": {},
     "execution_count": 74
    }
   ],
   "metadata": {}
  },
  {
   "cell_type": "markdown",
   "source": [
    "For two-dimensional arrays, multiplication remains elementwise and does not correspond to matrix multiplication. There are special functions for matrix math that we will cover later."
   ],
   "metadata": {}
  },
  {
   "cell_type": "code",
   "execution_count": 19,
   "source": [
    "a = np.array([[1,2], [3,4]], float)\n",
    "b = np.array([[2,0], [1,3]], float)\n",
    "a * b\n"
   ],
   "outputs": [
    {
     "output_type": "execute_result",
     "data": {
      "text/plain": [
       "array([[ 2.,  0.],\n",
       "       [ 3., 12.]])"
      ]
     },
     "metadata": {},
     "execution_count": 19
    }
   ],
   "metadata": {}
  },
  {
   "cell_type": "code",
   "execution_count": 20,
   "source": [
    "a = np.array([[1, 2], [3, 4], [5, 6]], float)\n",
    "b = np.array([-1, 3], float)\n",
    "print(a)\n",
    "print(b)\n",
    "print(a + b)\n",
    "\n",
    "print(np.add(a,b))   ## we can use add funtion from numpy"
   ],
   "outputs": [
    {
     "output_type": "stream",
     "name": "stdout",
     "text": [
      "[[1. 2.]\n",
      " [3. 4.]\n",
      " [5. 6.]]\n",
      "[-1.  3.]\n",
      "[[0. 5.]\n",
      " [2. 7.]\n",
      " [4. 9.]]\n",
      "[[0. 5.]\n",
      " [2. 7.]\n",
      " [4. 9.]]\n"
     ]
    }
   ],
   "metadata": {}
  },
  {
   "cell_type": "markdown",
   "source": [
    "In addition to the standard operators, NumPy offers a large library of common mathematical functions that can be applied elementwise to arrays. Among these are the functions: *abs, sign, sqrt, log, log10, exp, sin, cos, tan, arcsin, arccos, arctan, sinh, cosh, tanh, arcsinh, arccosh,and arctanh*. The functions *floor, ceil, and rint* give the lower, upper, or nearest (rounded) integer:"
   ],
   "metadata": {}
  },
  {
   "cell_type": "code",
   "execution_count": 96,
   "source": [
    "np.sqrt(a)"
   ],
   "outputs": [
    {
     "output_type": "execute_result",
     "data": {
      "text/plain": [
       "array([[1.        , 1.41421356],\n",
       "       [1.73205081, 2.        ],\n",
       "       [2.23606798, 2.44948974]])"
      ]
     },
     "metadata": {},
     "execution_count": 96
    }
   ],
   "metadata": {}
  },
  {
   "cell_type": "code",
   "execution_count": 97,
   "source": [
    "np.floor(np.sqrt(a))"
   ],
   "outputs": [
    {
     "output_type": "execute_result",
     "data": {
      "text/plain": [
       "array([[1., 1.],\n",
       "       [1., 2.],\n",
       "       [2., 2.]])"
      ]
     },
     "metadata": {},
     "execution_count": 97
    }
   ],
   "metadata": {}
  },
  {
   "cell_type": "markdown",
   "source": [
    "Also included in the NumPy module are two important mathematical constants: pi and exponent\n"
   ],
   "metadata": {}
  },
  {
   "cell_type": "code",
   "execution_count": 98,
   "source": [
    "np.pi"
   ],
   "outputs": [
    {
     "output_type": "execute_result",
     "data": {
      "text/plain": [
       "3.141592653589793"
      ]
     },
     "metadata": {},
     "execution_count": 98
    }
   ],
   "metadata": {}
  },
  {
   "cell_type": "code",
   "execution_count": 80,
   "source": [
    "np.e"
   ],
   "outputs": [
    {
     "output_type": "execute_result",
     "data": {
      "text/plain": [
       "2.718281828459045"
      ]
     },
     "metadata": {},
     "execution_count": 80
    }
   ],
   "metadata": {}
  },
  {
   "cell_type": "code",
   "execution_count": 102,
   "source": [
    "print(a)\n",
    "print(np.e**4)\n",
    "print(np.e**6)\n",
    "print(np.exp(a))"
   ],
   "outputs": [
    {
     "output_type": "stream",
     "name": "stdout",
     "text": [
      "[[1. 2.]\n",
      " [3. 4.]\n",
      " [5. 6.]]\n",
      "54.59815003314423\n",
      "403.428793492735\n",
      "[[  2.71828183   7.3890561 ]\n",
      " [ 20.08553692  54.59815003]\n",
      " [148.4131591  403.42879349]]\n"
     ]
    }
   ],
   "metadata": {}
  },
  {
   "cell_type": "markdown",
   "source": [
    "### Basic Array operations\n",
    "\n",
    "Many functions exist for extracting whole-array properties. The items in an array can be summed or multiplied:"
   ],
   "metadata": {}
  },
  {
   "cell_type": "code",
   "execution_count": 82,
   "source": [
    "a = np.array([2, 4, 3], float)\n",
    "print(\"sum of elements:\", a.sum())\n",
    "\n",
    "print(\" another way:\")\n",
    "print(\"product of elements:\", np.sum(a))\n"
   ],
   "outputs": [
    {
     "output_type": "stream",
     "name": "stdout",
     "text": [
      "sum of elements: 9.0\n",
      " another way:\n",
      "product of elements: 9.0\n"
     ]
    }
   ],
   "metadata": {}
  },
  {
   "cell_type": "code",
   "execution_count": 83,
   "source": [
    "a = np.array([2, 4, 3], float)\n",
    "print(\"product of elements:\", a.prod())\n",
    "\n",
    "print(\" another way:\")\n",
    "print(\"product of elements:\", np.prod(a))"
   ],
   "outputs": [
    {
     "output_type": "stream",
     "name": "stdout",
     "text": [
      "product of elements: 24.0\n",
      " another way:\n",
      "product of elements: 24.0\n"
     ]
    }
   ],
   "metadata": {}
  },
  {
   "cell_type": "code",
   "execution_count": 84,
   "source": [
    "a = np.array([2, 4, 3], float)\n",
    "print(\"product of elements:\", a.prod())\n",
    "\n",
    "print(\" another way:\")\n",
    "print(\"product of elements:\", np.prod(a))"
   ],
   "outputs": [
    {
     "output_type": "stream",
     "name": "stdout",
     "text": [
      "product of elements: 24.0\n",
      " another way:\n",
      "product of elements: 24.0\n"
     ]
    }
   ],
   "metadata": {}
  },
  {
   "cell_type": "code",
   "execution_count": 85,
   "source": [
    "print(a.mean())\n",
    "\n",
    "print(\" another way:\")\n",
    "print(\"mean:\", np.mean(a))"
   ],
   "outputs": [
    {
     "output_type": "stream",
     "name": "stdout",
     "text": [
      "3.0\n",
      " another way:\n",
      "mean: 3.0\n"
     ]
    }
   ],
   "metadata": {}
  },
  {
   "cell_type": "code",
   "execution_count": 86,
   "source": [
    "print(a.min())\n",
    "\n",
    "print(\" another way:\")\n",
    "print(\"mean:\", np.min(a))  "
   ],
   "outputs": [
    {
     "output_type": "stream",
     "name": "stdout",
     "text": [
      "2.0\n",
      " another way:\n",
      "mean: 2.0\n"
     ]
    }
   ],
   "metadata": {}
  },
  {
   "cell_type": "markdown",
   "source": [
    "For multidimensional arrays, each of the functions thus far described can take an optional argument axis that will perform an operation along only the specified axis, placing the results in a return array:"
   ],
   "metadata": {}
  },
  {
   "cell_type": "code",
   "execution_count": 21,
   "source": [
    "a = np.array([[0, 2], [3, -1], [3, 5]])\n",
    "print(a)"
   ],
   "outputs": [
    {
     "output_type": "stream",
     "name": "stdout",
     "text": [
      "[[ 0  2]\n",
      " [ 3 -1]\n",
      " [ 3  5]]\n"
     ]
    }
   ],
   "metadata": {}
  },
  {
   "cell_type": "code",
   "execution_count": 105,
   "source": [
    "print(a.min(axis = 0))   # 0 for column\n",
    "\n",
    "print(\" another way:\")\n",
    "print(\"min:\", np.min(a, axis = 0))"
   ],
   "outputs": [
    {
     "output_type": "stream",
     "name": "stdout",
     "text": [
      "[ 0 -1]\n",
      " another way:\n",
      "min: [ 0 -1]\n"
     ]
    }
   ],
   "metadata": {}
  },
  {
   "cell_type": "code",
   "execution_count": 106,
   "source": [
    "print(a)\n",
    "\n",
    "print(a.min(axis = 1))   # 1 for row\n",
    "\n",
    "print(\" another way:\")\n",
    "print(\"min:\", np.min(a, axis = 1))"
   ],
   "outputs": [
    {
     "output_type": "stream",
     "name": "stdout",
     "text": [
      "[[ 0  2]\n",
      " [ 3 -1]\n",
      " [ 3  5]]\n",
      "[ 0 -1  3]\n",
      " another way:\n",
      "min: [ 0 -1  3]\n"
     ]
    }
   ],
   "metadata": {}
  },
  {
   "cell_type": "markdown",
   "source": [
    "#### numpy.amin() and numpy.amax()\n",
    "\n",
    "These functions return the minimum and the maximum from the elements in the given array along the specified axis.\n"
   ],
   "metadata": {}
  },
  {
   "cell_type": "code",
   "execution_count": 107,
   "source": [
    "a = np.array([[3,7,5],[8,4,3],[2,4,9]]) \n",
    "\n",
    "print ('array is:') \n",
    "print (a)  \n",
    "print ('\\n')  \n",
    "\n",
    "print ('Applying amin() function:') \n",
    "print (np.amin(a,1)) \n",
    "print ('\\n')  \n",
    "\n",
    "print ('Applying amin() function again:') \n",
    "print (np.amin(a,0)) \n",
    "print ('\\n')  \n",
    "\n",
    "print ('Applying amax() function:') \n",
    "print (np.amax(a)) \n",
    "print ('\\n')  \n",
    "\n",
    "print ('Applying amax() function again:') \n",
    "print (np.amax(a, axis = 0))\n",
    "\n",
    "print ('Applying amax() function again: axis = 1 for row') \n",
    "print (np.amax(a, axis = 1))"
   ],
   "outputs": [
    {
     "output_type": "stream",
     "name": "stdout",
     "text": [
      "array is:\n",
      "[[3 7 5]\n",
      " [8 4 3]\n",
      " [2 4 9]]\n",
      "\n",
      "\n",
      "Applying amin() function:\n",
      "[3 3 2]\n",
      "\n",
      "\n",
      "Applying amin() function again:\n",
      "[2 4 3]\n",
      "\n",
      "\n",
      "Applying amax() function:\n",
      "9\n",
      "\n",
      "\n",
      "Applying amax() function again:\n",
      "[8 7 9]\n",
      "Applying amax() function again: axis = 1 for row\n",
      "[7 8 9]\n"
     ]
    }
   ],
   "metadata": {}
  },
  {
   "cell_type": "code",
   "execution_count": 91,
   "source": [
    "#### numpy.percentil()\n",
    "\n",
    "\n",
    "a = np.array([[30,40,70],[80,20,10],[50,90,60]]) \n",
    "\n",
    "print ('Given array is:') \n",
    "print (a) \n",
    "print ('\\n')  \n",
    "\n",
    "print ('Applying percentile() function:') \n",
    "print (np.percentile(a,50)) \n",
    "print ('\\n')  \n",
    "\n",
    "print ('Applying percentile() function along axis 1:') \n",
    "print (np.percentile(a,50, axis = 1) )\n",
    "print ('\\n')  \n",
    "\n",
    "print ('Applying percentile() function along axis 0:') \n",
    "print (np.percentile(a,50, axis = 0))"
   ],
   "outputs": [
    {
     "output_type": "stream",
     "name": "stdout",
     "text": [
      "Given array is:\n",
      "[[30 40 70]\n",
      " [80 20 10]\n",
      " [50 90 60]]\n",
      "\n",
      "\n",
      "Applying percentile() function:\n",
      "50.0\n",
      "\n",
      "\n",
      "Applying percentile() function along axis 1:\n",
      "[40. 20. 60.]\n",
      "\n",
      "\n",
      "Applying percentile() function along axis 0:\n",
      "[50. 40. 60.]\n"
     ]
    }
   ],
   "metadata": {}
  },
  {
   "cell_type": "code",
   "execution_count": 22,
   "source": [
    "arr = [20, 2, 7, 1, 34]\n",
    "print(sum(arr))\n",
    "print(\"arr : \", arr)\n",
    "print(\"50th percentile of arr : \",\n",
    "       np.percentile(arr, 50))\n",
    "print(\"25th percentile of arr : \",\n",
    "       np.percentile(arr, 25))\n",
    "print(\"75th percentile of arr : \",\n",
    "       np.percentile(arr, 75))"
   ],
   "outputs": [
    {
     "output_type": "stream",
     "name": "stdout",
     "text": [
      "64\n",
      "arr :  [20, 2, 7, 1, 34]\n",
      "50th percentile of arr :  7.0\n",
      "25th percentile of arr :  2.0\n",
      "75th percentile of arr :  20.0\n"
     ]
    }
   ],
   "metadata": {}
  },
  {
   "cell_type": "code",
   "execution_count": 92,
   "source": [
    "print(a.mean(axis = 1))   # 1 for row\n",
    "\n",
    "print(\" another way:\")\n",
    "print(\"mean:\", np.mean(a, axis = 1))"
   ],
   "outputs": [
    {
     "output_type": "stream",
     "name": "stdout",
     "text": [
      "[46.66666667 36.66666667 66.66666667]\n",
      " another way:\n",
      "mean: [46.66666667 36.66666667 66.66666667]\n"
     ]
    }
   ],
   "metadata": {}
  },
  {
   "cell_type": "markdown",
   "source": [
    "#### numpy.power()\n",
    "\n",
    "This function treats elements in the first input array as base and returns it raised to the power of the corresponding element in the second input array"
   ],
   "metadata": {}
  },
  {
   "cell_type": "code",
   "execution_count": 93,
   "source": [
    "a = np.array([10,100,1000]) \n",
    "\n",
    "print ('Our array is:') \n",
    "print (a) \n",
    "print ('\\n')  \n",
    "\n",
    "print ('Applying power function:') \n",
    "print (np.power(a,2)) \n",
    "print ('\\n')  \n",
    "\n",
    "print ('Second array:') \n",
    "b = (np.array([1,2,3])) \n",
    "print (b) \n",
    "print ('\\n')  \n",
    "\n",
    "print ('Applying power function again:') \n",
    "print (np.power(a,b))"
   ],
   "outputs": [
    {
     "output_type": "stream",
     "name": "stdout",
     "text": [
      "Our array is:\n",
      "[  10  100 1000]\n",
      "\n",
      "\n",
      "Applying power function:\n",
      "[    100   10000 1000000]\n",
      "\n",
      "\n",
      "Second array:\n",
      "[1 2 3]\n",
      "\n",
      "\n",
      "Applying power function again:\n",
      "[        10      10000 1000000000]\n"
     ]
    }
   ],
   "metadata": {}
  },
  {
   "cell_type": "markdown",
   "source": [
    "In addition to the mean, var, and std functions, Numpy supplies several other methods for returning statistical features of arrays. The correlation coefficient for multiple variables observed at multiple instances can be found for arrays of the form [[x1, x2, ...], [y1, y2, ...], [z1, z2, ...], ...] where x, y, z are different observables and the numbers indicate the observation times:\n"
   ],
   "metadata": {}
  },
  {
   "cell_type": "code",
   "execution_count": 94,
   "source": [
    "a = np.array([[1, 2, 1, 3], [5, 3, 1, 8]])\n",
    "print(a)\n",
    "c = np.corrcoef(a)\n",
    "print(c)"
   ],
   "outputs": [
    {
     "output_type": "stream",
     "name": "stdout",
     "text": [
      "[[1 2 1 3]\n",
      " [5 3 1 8]]\n",
      "[[1.         0.72870505]\n",
      " [0.72870505 1.        ]]\n"
     ]
    }
   ],
   "metadata": {}
  },
  {
   "cell_type": "code",
   "execution_count": 95,
   "source": [
    "a = np.array([6, 2, 5, -1, 0])\n",
    "sorted(a)\n",
    "a.sort()\n",
    "a"
   ],
   "outputs": [
    {
     "output_type": "execute_result",
     "data": {
      "text/plain": [
       "array([-1,  0,  2,  5,  6])"
      ]
     },
     "metadata": {},
     "execution_count": 95
    }
   ],
   "metadata": {}
  },
  {
   "cell_type": "markdown",
   "source": [
    "\n",
    "For two dimensional arrays, the diagonal can be extracted:"
   ],
   "metadata": {}
  },
  {
   "cell_type": "code",
   "execution_count": 96,
   "source": [
    "a = np.array([[1, 2], [3, 4]], float)\n",
    "#a.diagonal()\n",
    "\n",
    "print(np.diagonal(a))"
   ],
   "outputs": [
    {
     "output_type": "stream",
     "name": "stdout",
     "text": [
      "[1. 4.]\n"
     ]
    }
   ],
   "metadata": {}
  },
  {
   "cell_type": "markdown",
   "source": [
    "## Dot Product on Matrices and Inner Product on Vectors:"
   ],
   "metadata": {}
  },
  {
   "cell_type": "code",
   "execution_count": 97,
   "source": [
    "# determine the dot product of two matrices\n",
    "x2d = np.array([[1,1],[1,1]])\n",
    "y2d = np.array([[2,2],[2,2]])\n",
    "\n",
    "print(x2d.dot(y2d))\n",
    "print()\n",
    "print(np.dot(x2d, y2d))"
   ],
   "outputs": [
    {
     "output_type": "stream",
     "name": "stdout",
     "text": [
      "[[4 4]\n",
      " [4 4]]\n",
      "\n",
      "[[4 4]\n",
      " [4 4]]\n"
     ]
    }
   ],
   "metadata": {}
  },
  {
   "cell_type": "code",
   "execution_count": 98,
   "source": [
    "# determine the inner product of two vectors\n",
    "a1d = np.array([9 , 9 ])\n",
    "b1d = np.array([10, 10])\n",
    "\n",
    "print(a1d.dot(b1d))\n",
    "print()\n",
    "print(np.dot(a1d, b1d))"
   ],
   "outputs": [
    {
     "output_type": "stream",
     "name": "stdout",
     "text": [
      "180\n",
      "\n",
      "180\n"
     ]
    }
   ],
   "metadata": {}
  },
  {
   "cell_type": "markdown",
   "source": [
    "It is also possible to generate inner, outer, and cross products of matrices and vectors. For vectors, note that the inner product is equivalent to the dot product:"
   ],
   "metadata": {}
  },
  {
   "cell_type": "code",
   "execution_count": 99,
   "source": [
    "x1 = np.array([1, 4, 0])\n",
    "y1 = np.array([2, 2, 1])"
   ],
   "outputs": [],
   "metadata": {}
  },
  {
   "cell_type": "code",
   "execution_count": 100,
   "source": [
    "np.outer(x1,y1)"
   ],
   "outputs": [
    {
     "output_type": "execute_result",
     "data": {
      "text/plain": [
       "array([[2, 2, 1],\n",
       "       [8, 8, 4],\n",
       "       [0, 0, 0]])"
      ]
     },
     "metadata": {},
     "execution_count": 100
    }
   ],
   "metadata": {}
  },
  {
   "cell_type": "code",
   "execution_count": 101,
   "source": [
    "np.inner(x1,y1)"
   ],
   "outputs": [
    {
     "output_type": "execute_result",
     "data": {
      "text/plain": [
       "10"
      ]
     },
     "metadata": {},
     "execution_count": 101
    }
   ],
   "metadata": {}
  },
  {
   "cell_type": "code",
   "execution_count": 102,
   "source": [
    "np.cross(x1,y1)"
   ],
   "outputs": [
    {
     "output_type": "execute_result",
     "data": {
      "text/plain": [
       "array([ 4, -1, -6])"
      ]
     },
     "metadata": {},
     "execution_count": 102
    }
   ],
   "metadata": {}
  },
  {
   "cell_type": "markdown",
   "source": [
    "NumPy also comes with a number of built-in routines for linear algebra calculations. These can be found in the sub-module linalg. Among these are routines for dealing with matrices and their inverses. The determinant of a matrix can be found:"
   ],
   "metadata": {}
  },
  {
   "cell_type": "code",
   "execution_count": 103,
   "source": [
    "a = np.array([[4, 2, 0], [9, 3, 7], [1, 2, 1]])\n",
    "\n",
    "np.linalg.det(a)"
   ],
   "outputs": [
    {
     "output_type": "execute_result",
     "data": {
      "text/plain": [
       "-48.00000000000003"
      ]
     },
     "metadata": {},
     "execution_count": 103
    }
   ],
   "metadata": {}
  },
  {
   "cell_type": "code",
   "execution_count": 104,
   "source": [
    "# inverse of a matrix\n",
    "b = np.linalg.inv(a)\n",
    "print(b)"
   ],
   "outputs": [
    {
     "output_type": "stream",
     "name": "stdout",
     "text": [
      "[[ 0.22916667  0.04166667 -0.29166667]\n",
      " [ 0.04166667 -0.08333333  0.58333333]\n",
      " [-0.3125      0.125       0.125     ]]\n"
     ]
    }
   ],
   "metadata": {}
  },
  {
   "cell_type": "code",
   "execution_count": 105,
   "source": [
    "(np.dot(a,b))"
   ],
   "outputs": [
    {
     "output_type": "execute_result",
     "data": {
      "text/plain": [
       "array([[ 1.00000000e+00,  0.00000000e+00, -2.22044605e-16],\n",
       "       [ 0.00000000e+00,  1.00000000e+00, -2.77555756e-17],\n",
       "       [ 0.00000000e+00,  0.00000000e+00,  1.00000000e+00]])"
      ]
     },
     "metadata": {},
     "execution_count": 105
    }
   ],
   "metadata": {}
  },
  {
   "cell_type": "code",
   "execution_count": 106,
   "source": [
    "# numpy determinant\n",
    "a = np.array([[1,2], [3,4]]) \n",
    "print (np.linalg.det(a))"
   ],
   "outputs": [
    {
     "output_type": "stream",
     "name": "stdout",
     "text": [
      "-2.0000000000000004\n"
     ]
    }
   ],
   "metadata": {}
  },
  {
   "cell_type": "code",
   "execution_count": 107,
   "source": [
    "# numpy.linalg.inv()\n",
    "\n",
    "x = np.array([[1,2],[3,4]]) \n",
    "y = np.linalg.inv(x) \n",
    "print (x) \n",
    "print (y) \n",
    "print (np.dot(x,y))"
   ],
   "outputs": [
    {
     "output_type": "stream",
     "name": "stdout",
     "text": [
      "[[1 2]\n",
      " [3 4]]\n",
      "[[-2.   1. ]\n",
      " [ 1.5 -0.5]]\n",
      "[[1.00000000e+00 1.11022302e-16]\n",
      " [0.00000000e+00 1.00000000e+00]]\n"
     ]
    }
   ],
   "metadata": {}
  },
  {
   "cell_type": "markdown",
   "source": [
    "One can find the eigenvalues and eigenvectors of a matrix"
   ],
   "metadata": {}
  },
  {
   "cell_type": "code",
   "execution_count": 108,
   "source": [
    "vals, vecs = np.linalg.eig(a)\n",
    "print(\"eigen value:\", \"\\n\")\n",
    "print(vals)\n",
    "print(\"eigen vectrs:\", \"\\n\")\n",
    "print(vecs)\n"
   ],
   "outputs": [
    {
     "output_type": "stream",
     "name": "stdout",
     "text": [
      "eigen value: \n",
      "\n",
      "[-0.37228132  5.37228132]\n",
      "eigen vectrs: \n",
      "\n",
      "[[-0.82456484 -0.41597356]\n",
      " [ 0.56576746 -0.90937671]]\n"
     ]
    }
   ],
   "metadata": {}
  },
  {
   "cell_type": "markdown",
   "source": [
    "Singular value decomposition (analogous to diagonalization of a nonsquare matrix) can also be performed:"
   ],
   "metadata": {}
  },
  {
   "cell_type": "code",
   "execution_count": 109,
   "source": [
    "a = np.array([[1, 3, 4], [5, 2, 3]], float)\n",
    "U, s, Vh = np.linalg.svd(a)\n",
    "print(U, \"\\n\")\n",
    "print(s, \"\\n\")\n",
    "print(Vh, \"\\n\")\n"
   ],
   "outputs": [
    {
     "output_type": "stream",
     "name": "stdout",
     "text": [
      "[[-0.6113829  -0.79133492]\n",
      " [-0.79133492  0.6113829 ]] \n",
      "\n",
      "[7.46791327 2.86884495] \n",
      "\n",
      "[[-0.61169129 -0.45753324 -0.64536587]\n",
      " [ 0.78971838 -0.40129005 -0.46401635]\n",
      " [-0.046676   -0.79349205  0.60678804]] \n",
      "\n"
     ]
    }
   ],
   "metadata": {}
  },
  {
   "cell_type": "markdown",
   "source": [
    "## Set Operations:\n"
   ],
   "metadata": {}
  },
  {
   "cell_type": "code",
   "execution_count": 110,
   "source": [
    "x1 = np.array(['John','Stacy','Ron'])\n",
    "x2 = np.array(['Don','Mat','Ron'])\n",
    "print(x1, x2)"
   ],
   "outputs": [
    {
     "output_type": "stream",
     "name": "stdout",
     "text": [
      "['John' 'Stacy' 'Ron'] ['Don' 'Mat' 'Ron']\n"
     ]
    }
   ],
   "metadata": {}
  },
  {
   "cell_type": "code",
   "execution_count": 111,
   "source": [
    "print( np.intersect1d(x1,x2))"
   ],
   "outputs": [
    {
     "output_type": "stream",
     "name": "stdout",
     "text": [
      "['Ron']\n"
     ]
    }
   ],
   "metadata": {}
  },
  {
   "cell_type": "code",
   "execution_count": 112,
   "source": [
    "print( np.union1d(x1,x2))"
   ],
   "outputs": [
    {
     "output_type": "stream",
     "name": "stdout",
     "text": [
      "['Don' 'John' 'Mat' 'Ron' 'Stacy']\n"
     ]
    }
   ],
   "metadata": {}
  },
  {
   "cell_type": "code",
   "execution_count": 113,
   "source": [
    "print( np.setdiff1d(x1,x2)) # elements in x1 and not in x2"
   ],
   "outputs": [
    {
     "output_type": "stream",
     "name": "stdout",
     "text": [
      "['John' 'Stacy']\n"
     ]
    }
   ],
   "metadata": {}
  },
  {
   "cell_type": "code",
   "execution_count": 114,
   "source": [
    "print( np.in1d(x1,x2))   # elements in x1 in x2"
   ],
   "outputs": [
    {
     "output_type": "stream",
     "name": "stdout",
     "text": [
      "[False False  True]\n"
     ]
    }
   ],
   "metadata": {}
  },
  {
   "cell_type": "markdown",
   "source": [
    " It is possible to test whether or not values  are NAN (\"not a number\") or finite"
   ],
   "metadata": {}
  },
  {
   "cell_type": "code",
   "execution_count": 115,
   "source": [
    "a = np.array([1, np.NaN, np.Inf])\n",
    "a"
   ],
   "outputs": [
    {
     "output_type": "execute_result",
     "data": {
      "text/plain": [
       "array([ 1., nan, inf])"
      ]
     },
     "metadata": {},
     "execution_count": 115
    }
   ],
   "metadata": {}
  },
  {
   "cell_type": "code",
   "execution_count": 116,
   "source": [
    "np.isnan(a)"
   ],
   "outputs": [
    {
     "output_type": "execute_result",
     "data": {
      "text/plain": [
       "array([False,  True, False])"
      ]
     },
     "metadata": {},
     "execution_count": 116
    }
   ],
   "metadata": {}
  },
  {
   "cell_type": "code",
   "execution_count": 117,
   "source": [
    "np.isfinite(a)"
   ],
   "outputs": [
    {
     "output_type": "execute_result",
     "data": {
      "text/plain": [
       "array([ True, False, False])"
      ]
     },
     "metadata": {},
     "execution_count": 117
    }
   ],
   "metadata": {}
  },
  {
   "cell_type": "markdown",
   "source": [
    "There are various logical operations also."
   ],
   "metadata": {}
  },
  {
   "cell_type": "code",
   "execution_count": 118,
   "source": [
    "a = np.array([[6, 4], [5, 9]])"
   ],
   "outputs": [],
   "metadata": {}
  },
  {
   "cell_type": "code",
   "execution_count": 119,
   "source": [
    "a>=5"
   ],
   "outputs": [
    {
     "output_type": "execute_result",
     "data": {
      "text/plain": [
       "array([[ True, False],\n",
       "       [ True,  True]])"
      ]
     },
     "metadata": {},
     "execution_count": 119
    }
   ],
   "metadata": {}
  },
  {
   "cell_type": "code",
   "execution_count": 120,
   "source": [
    "a[a>=5]  # Returs the elements greater or equal to 5\n",
    "\n",
    "\n",
    "# another way\n",
    "indx = (a>=5)\n",
    "\n",
    "a[indx]\n"
   ],
   "outputs": [
    {
     "output_type": "execute_result",
     "data": {
      "text/plain": [
       "array([6, 5, 9])"
      ]
     },
     "metadata": {},
     "execution_count": 120
    }
   ],
   "metadata": {}
  },
  {
   "cell_type": "code",
   "execution_count": 121,
   "source": [
    "# Logical and operation\n",
    "\n",
    "a[np.logical_and(a>5, a<9)]"
   ],
   "outputs": [
    {
     "output_type": "execute_result",
     "data": {
      "text/plain": [
       "array([6])"
      ]
     },
     "metadata": {},
     "execution_count": 121
    }
   ],
   "metadata": {}
  },
  {
   "cell_type": "markdown",
   "source": [
    "For multidimensional arrays, we have to send multiple one-dimensional integer arrays to the selection bracket, one for each axis. Then, each of these selection arrays is traversed in sequence: the first element taken has a first axis index taken from the first member of the first selection array, a second index from the first member of the second selection array, and so on."
   ],
   "metadata": {}
  },
  {
   "cell_type": "code",
   "execution_count": 122,
   "source": [
    "a = np.array([[1, 4], [9, 16]], float)\n",
    "print(a)\n",
    "indx_row = np.array([0, 0, 1, 1, 0,1], int)\n",
    "indx_col = np.array([0, 1, 1, 1, 1,0], int)\n",
    "a[indx_row, indx_col]"
   ],
   "outputs": [
    {
     "output_type": "stream",
     "name": "stdout",
     "text": [
      "[[ 1.  4.]\n",
      " [ 9. 16.]]\n"
     ]
    },
    {
     "output_type": "execute_result",
     "data": {
      "text/plain": [
       "array([ 1.,  4., 16., 16.,  4.,  9.])"
      ]
     },
     "metadata": {},
     "execution_count": 122
    }
   ],
   "metadata": {}
  },
  {
   "cell_type": "markdown",
   "source": [
    "However, arrays that do not match in the number of dimensions will be \n",
    "broadcasted by Python to perform mathematical operations. \n",
    "This often means that the smaller array will be repeated as necessary \n",
    "to perform the operation indicated. Consider the following:"
   ],
   "metadata": {}
  },
  {
   "cell_type": "markdown",
   "source": [
    "Errors are thrown if arrays do not match in size:"
   ],
   "metadata": {}
  },
  {
   "cell_type": "code",
   "execution_count": 1,
   "source": [
    "a = np.array([1,2,3], float)\n",
    "b = np.array([4,5], float)\n",
    "b+a"
   ],
   "outputs": [
    {
     "output_type": "error",
     "ename": "NameError",
     "evalue": "name 'np' is not defined",
     "traceback": [
      "\u001b[0;31m---------------------------------------------------------------------------\u001b[0m",
      "\u001b[0;31mNameError\u001b[0m                                 Traceback (most recent call last)",
      "\u001b[0;32m/var/folders/0q/f4pky2191dv019qr8wm53h3r0000gn/T/ipykernel_42543/151780149.py\u001b[0m in \u001b[0;36m<module>\u001b[0;34m\u001b[0m\n\u001b[0;32m----> 1\u001b[0;31m \u001b[0ma\u001b[0m \u001b[0;34m=\u001b[0m \u001b[0mnp\u001b[0m\u001b[0;34m.\u001b[0m\u001b[0marray\u001b[0m\u001b[0;34m(\u001b[0m\u001b[0;34m[\u001b[0m\u001b[0;36m1\u001b[0m\u001b[0;34m,\u001b[0m\u001b[0;36m2\u001b[0m\u001b[0;34m,\u001b[0m\u001b[0;36m3\u001b[0m\u001b[0;34m]\u001b[0m\u001b[0;34m,\u001b[0m \u001b[0mfloat\u001b[0m\u001b[0;34m)\u001b[0m\u001b[0;34m\u001b[0m\u001b[0;34m\u001b[0m\u001b[0m\n\u001b[0m\u001b[1;32m      2\u001b[0m \u001b[0mb\u001b[0m \u001b[0;34m=\u001b[0m \u001b[0mnp\u001b[0m\u001b[0;34m.\u001b[0m\u001b[0marray\u001b[0m\u001b[0;34m(\u001b[0m\u001b[0;34m[\u001b[0m\u001b[0;36m4\u001b[0m\u001b[0;34m,\u001b[0m\u001b[0;36m5\u001b[0m\u001b[0;34m]\u001b[0m\u001b[0;34m,\u001b[0m \u001b[0mfloat\u001b[0m\u001b[0;34m)\u001b[0m\u001b[0;34m\u001b[0m\u001b[0;34m\u001b[0m\u001b[0m\n\u001b[1;32m      3\u001b[0m \u001b[0mb\u001b[0m\u001b[0;34m+\u001b[0m\u001b[0ma\u001b[0m\u001b[0;34m\u001b[0m\u001b[0;34m\u001b[0m\u001b[0m\n",
      "\u001b[0;31mNameError\u001b[0m: name 'np' is not defined"
     ]
    }
   ],
   "metadata": {}
  },
  {
   "cell_type": "markdown",
   "source": [
    "### Random Numbers\n",
    "An important part of any simulation is the ability to draw random numbers. For this purpose, we use NumPy's built-in pseudorandom number generator routines in the sub-module random. The numbers are pseudo random in the sense that they are generated deterministically from a seed number, but are distributed in what has statistical similarities to random fashion. NumPy uses a particular algorithm called the Mersenne Twister to generate pseudorandom numbers.\n",
    "The random number seed can be set:"
   ],
   "metadata": {}
  },
  {
   "cell_type": "code",
   "execution_count": 125,
   "source": [
    "np.random.seed(1234)"
   ],
   "outputs": [],
   "metadata": {}
  },
  {
   "cell_type": "markdown",
   "source": [
    "The seed is an integer value. Any program that starts with the same seed will generate exactly the same sequence of random numbers each time it is run. This can be useful for debugging purposes, but one does not need to specify the seed and in fact, when we perform multiple runs of the same simulation to be averaged together, we want each such trial to have a different sequence of random numbers. If this command is not run, NumPy automatically selects a random seed (based on the time) that is different every time a program is run.\n",
    "An array of random numbers in the half-open interval [0.0, 1.0) can be generated:"
   ],
   "metadata": {}
  },
  {
   "cell_type": "code",
   "execution_count": null,
   "source": [],
   "outputs": [],
   "metadata": {}
  },
  {
   "cell_type": "code",
   "execution_count": 126,
   "source": [
    "# Create an array of random numbers between 0 and 1\n",
    "\n",
    "x1 = np.random.random(3)\n",
    "print(x1, \"\\n\")\n",
    "x3= np.random.random((2,2))\n",
    "print(x3)"
   ],
   "outputs": [
    {
     "output_type": "stream",
     "name": "stdout",
     "text": [
      "[0.19151945 0.62210877 0.43772774] \n",
      "\n",
      "[[0.78535858 0.77997581]\n",
      " [0.27259261 0.27646426]]\n"
     ]
    }
   ],
   "metadata": {}
  },
  {
   "cell_type": "code",
   "execution_count": 127,
   "source": [
    "# Create an array of random integers between 1 and 20\n",
    "x3= np.random.randint(1,20, 11)\n",
    "print(x3)"
   ],
   "outputs": [
    {
     "output_type": "stream",
     "name": "stdout",
     "text": [
      "[12 13 17  6 17 10 16 19 17 13  6]\n"
     ]
    }
   ],
   "metadata": {}
  },
  {
   "cell_type": "code",
   "execution_count": 128,
   "source": [
    "# To draw from a continuous normal distribution with mean = 1 and std = 10 \n",
    "# and 20 points\n",
    "x3= np.random.normal(1, 10, 100000)\n",
    "print(np.mean(x3))\n",
    "print(np.std(x3))\n",
    "\n",
    "# To draw from a continuous normal distribution with mean = 0 and std = 1 \n",
    "# and 20 points\n",
    "x4= np.random.normal(size = 20)"
   ],
   "outputs": [
    {
     "output_type": "stream",
     "name": "stdout",
     "text": [
      "1.0095838063538471\n",
      "10.006003175120192\n"
     ]
    }
   ],
   "metadata": {}
  },
  {
   "cell_type": "code",
   "execution_count": 129,
   "source": [
    "# Function for rounding\n",
    "a = np.array([1.0,5.55, 123, 0.567, 25.532]) \n",
    "\n",
    "print ('Original array:') \n",
    "print (a) \n",
    "print ('\\n')  \n",
    "\n",
    "print ('After rounding:') \n",
    "print (np.around(a)) \n",
    "print (np.around(a, decimals = 1)) "
   ],
   "outputs": [
    {
     "output_type": "stream",
     "name": "stdout",
     "text": [
      "Original array:\n",
      "[  1.      5.55  123.      0.567  25.532]\n",
      "\n",
      "\n",
      "After rounding:\n",
      "[  1.   6. 123.   1.  26.]\n",
      "[  1.    5.6 123.    0.6  25.5]\n"
     ]
    }
   ],
   "metadata": {}
  },
  {
   "cell_type": "code",
   "execution_count": 130,
   "source": [
    "# numpy.floor()\n",
    "\n",
    "\n",
    "a = np.array([-1.7, 1.5, -0.2, 0.6, 10]) \n",
    "\n",
    "print ('The given array:') \n",
    "print (a) \n",
    "print ('\\n')  \n",
    "\n",
    "print ('The modified array:') \n",
    "print (np.floor(a))"
   ],
   "outputs": [
    {
     "output_type": "stream",
     "name": "stdout",
     "text": [
      "The given array:\n",
      "[-1.7  1.5 -0.2  0.6 10. ]\n",
      "\n",
      "\n",
      "The modified array:\n",
      "[-2.  1. -1.  0. 10.]\n"
     ]
    }
   ],
   "metadata": {}
  },
  {
   "cell_type": "code",
   "execution_count": 131,
   "source": [
    "# numpy.ceil()\n",
    "\n",
    "\n",
    "a = np.array([-1.7, 1.5, -0.2, 0.6, 10]) \n",
    "\n",
    "print ('The given array:') \n",
    "print (a) \n",
    "print ('\\n')  \n",
    "\n",
    "print ('The modified array:') \n",
    "print (np.ceil(a))"
   ],
   "outputs": [
    {
     "output_type": "stream",
     "name": "stdout",
     "text": [
      "The given array:\n",
      "[-1.7  1.5 -0.2  0.6 10. ]\n",
      "\n",
      "\n",
      "The modified array:\n",
      "[-1.  2. -0.  1. 10.]\n"
     ]
    }
   ],
   "metadata": {}
  },
  {
   "cell_type": "markdown",
   "source": [
    "#### I/O with numpy\n",
    "\n",
    "The ndarray objects can be saved to and loaded from the disk files. The IO functions available are −\n",
    "\n",
    "load() and save() functions handle /numPy binary files (with npy extension)\n",
    "\n",
    "loadtxt() and savetxt() functions handle normal text files\n",
    "\n",
    "This .npy file stores data, shape, dtype and other information required to reconstruct the ndarray in a disk file such that the array is correctly retrieved even if the file is on another machine with different architecture.\n",
    "\n",
    "numpy.save() stores teh input array file with .npy extension\n",
    "\n",
    "To reconstruct array from outfile.npy, use load() function."
   ],
   "metadata": {}
  },
  {
   "cell_type": "code",
   "execution_count": 132,
   "source": [
    "x = np.array([10,20,30,40,50]) \n",
    "np.save('out_x',x)"
   ],
   "outputs": [],
   "metadata": {}
  },
  {
   "cell_type": "code",
   "execution_count": 133,
   "source": [
    "data = np.load('out_x.npy') \n",
    "print(data)"
   ],
   "outputs": [
    {
     "output_type": "stream",
     "name": "stdout",
     "text": [
      "[10 20 30 40 50]\n"
     ]
    }
   ],
   "metadata": {}
  },
  {
   "cell_type": "code",
   "execution_count": 134,
   "source": [
    "x = np.array([1,2,3,4,5]) \n",
    "np.savetxt('out.txt',x) \n",
    "y = np.loadtxt('out.txt') \n",
    "print (x)"
   ],
   "outputs": [
    {
     "output_type": "stream",
     "name": "stdout",
     "text": [
      "[1 2 3 4 5]\n"
     ]
    }
   ],
   "metadata": {}
  },
  {
   "cell_type": "code",
   "execution_count": 135,
   "source": [
    "# Reading a .csv file\n",
    "\n",
    "#It's possible to use NumPy to directly read csv or other files into arrays. \n",
    "#We can do this using the \n",
    "#numpy.genfromtxt function.\n",
    "#NumPy will automatically pick a data type for the elements in an array \n",
    "#based on their format.\n",
    "\n",
    "\n",
    "df = np.genfromtxt(\"coursera_logistic_data.csv\", delimiter=\",\", skip_header=1)\n",
    "df\n",
    "type(df)\n",
    "df.shape"
   ],
   "outputs": [
    {
     "output_type": "error",
     "ename": "OSError",
     "evalue": "coursera_logistic_data.csv not found.",
     "traceback": [
      "\u001b[0;31m---------------------------------------------------------------------------\u001b[0m",
      "\u001b[0;31mOSError\u001b[0m                                   Traceback (most recent call last)",
      "\u001b[0;32m<ipython-input-135-d16e9487a5d8>\u001b[0m in \u001b[0;36m<module>\u001b[0;34m\u001b[0m\n\u001b[1;32m      8\u001b[0m \u001b[0;34m\u001b[0m\u001b[0m\n\u001b[1;32m      9\u001b[0m \u001b[0;34m\u001b[0m\u001b[0m\n\u001b[0;32m---> 10\u001b[0;31m \u001b[0mdf\u001b[0m \u001b[0;34m=\u001b[0m \u001b[0mnp\u001b[0m\u001b[0;34m.\u001b[0m\u001b[0mgenfromtxt\u001b[0m\u001b[0;34m(\u001b[0m\u001b[0;34m\"coursera_logistic_data.csv\"\u001b[0m\u001b[0;34m,\u001b[0m \u001b[0mdelimiter\u001b[0m\u001b[0;34m=\u001b[0m\u001b[0;34m\",\"\u001b[0m\u001b[0;34m,\u001b[0m \u001b[0mskip_header\u001b[0m\u001b[0;34m=\u001b[0m\u001b[0;36m1\u001b[0m\u001b[0;34m)\u001b[0m\u001b[0;34m\u001b[0m\u001b[0;34m\u001b[0m\u001b[0m\n\u001b[0m\u001b[1;32m     11\u001b[0m \u001b[0mdf\u001b[0m\u001b[0;34m\u001b[0m\u001b[0;34m\u001b[0m\u001b[0m\n\u001b[1;32m     12\u001b[0m \u001b[0mtype\u001b[0m\u001b[0;34m(\u001b[0m\u001b[0mdf\u001b[0m\u001b[0;34m)\u001b[0m\u001b[0;34m\u001b[0m\u001b[0;34m\u001b[0m\u001b[0m\n",
      "\u001b[0;32m~/opt/anaconda3/lib/python3.7/site-packages/numpy/lib/npyio.py\u001b[0m in \u001b[0;36mgenfromtxt\u001b[0;34m(fname, dtype, comments, delimiter, skip_header, skip_footer, converters, missing_values, filling_values, usecols, names, excludelist, deletechars, replace_space, autostrip, case_sensitive, defaultfmt, unpack, usemask, loose, invalid_raise, max_rows, encoding)\u001b[0m\n\u001b[1;32m   1770\u001b[0m             \u001b[0mfname\u001b[0m \u001b[0;34m=\u001b[0m \u001b[0mos_fspath\u001b[0m\u001b[0;34m(\u001b[0m\u001b[0mfname\u001b[0m\u001b[0;34m)\u001b[0m\u001b[0;34m\u001b[0m\u001b[0;34m\u001b[0m\u001b[0m\n\u001b[1;32m   1771\u001b[0m         \u001b[0;32mif\u001b[0m \u001b[0misinstance\u001b[0m\u001b[0;34m(\u001b[0m\u001b[0mfname\u001b[0m\u001b[0;34m,\u001b[0m \u001b[0mbasestring\u001b[0m\u001b[0;34m)\u001b[0m\u001b[0;34m:\u001b[0m\u001b[0;34m\u001b[0m\u001b[0;34m\u001b[0m\u001b[0m\n\u001b[0;32m-> 1772\u001b[0;31m             \u001b[0mfid\u001b[0m \u001b[0;34m=\u001b[0m \u001b[0mnp\u001b[0m\u001b[0;34m.\u001b[0m\u001b[0mlib\u001b[0m\u001b[0;34m.\u001b[0m\u001b[0m_datasource\u001b[0m\u001b[0;34m.\u001b[0m\u001b[0mopen\u001b[0m\u001b[0;34m(\u001b[0m\u001b[0mfname\u001b[0m\u001b[0;34m,\u001b[0m \u001b[0;34m'rt'\u001b[0m\u001b[0;34m,\u001b[0m \u001b[0mencoding\u001b[0m\u001b[0;34m=\u001b[0m\u001b[0mencoding\u001b[0m\u001b[0;34m)\u001b[0m\u001b[0;34m\u001b[0m\u001b[0;34m\u001b[0m\u001b[0m\n\u001b[0m\u001b[1;32m   1773\u001b[0m             \u001b[0mfid_ctx\u001b[0m \u001b[0;34m=\u001b[0m \u001b[0mcontextlib\u001b[0m\u001b[0;34m.\u001b[0m\u001b[0mclosing\u001b[0m\u001b[0;34m(\u001b[0m\u001b[0mfid\u001b[0m\u001b[0;34m)\u001b[0m\u001b[0;34m\u001b[0m\u001b[0;34m\u001b[0m\u001b[0m\n\u001b[1;32m   1774\u001b[0m         \u001b[0;32melse\u001b[0m\u001b[0;34m:\u001b[0m\u001b[0;34m\u001b[0m\u001b[0;34m\u001b[0m\u001b[0m\n",
      "\u001b[0;32m~/opt/anaconda3/lib/python3.7/site-packages/numpy/lib/_datasource.py\u001b[0m in \u001b[0;36mopen\u001b[0;34m(path, mode, destpath, encoding, newline)\u001b[0m\n\u001b[1;32m    267\u001b[0m \u001b[0;34m\u001b[0m\u001b[0m\n\u001b[1;32m    268\u001b[0m     \u001b[0mds\u001b[0m \u001b[0;34m=\u001b[0m \u001b[0mDataSource\u001b[0m\u001b[0;34m(\u001b[0m\u001b[0mdestpath\u001b[0m\u001b[0;34m)\u001b[0m\u001b[0;34m\u001b[0m\u001b[0;34m\u001b[0m\u001b[0m\n\u001b[0;32m--> 269\u001b[0;31m     \u001b[0;32mreturn\u001b[0m \u001b[0mds\u001b[0m\u001b[0;34m.\u001b[0m\u001b[0mopen\u001b[0m\u001b[0;34m(\u001b[0m\u001b[0mpath\u001b[0m\u001b[0;34m,\u001b[0m \u001b[0mmode\u001b[0m\u001b[0;34m,\u001b[0m \u001b[0mencoding\u001b[0m\u001b[0;34m=\u001b[0m\u001b[0mencoding\u001b[0m\u001b[0;34m,\u001b[0m \u001b[0mnewline\u001b[0m\u001b[0;34m=\u001b[0m\u001b[0mnewline\u001b[0m\u001b[0;34m)\u001b[0m\u001b[0;34m\u001b[0m\u001b[0;34m\u001b[0m\u001b[0m\n\u001b[0m\u001b[1;32m    270\u001b[0m \u001b[0;34m\u001b[0m\u001b[0m\n\u001b[1;32m    271\u001b[0m \u001b[0;34m\u001b[0m\u001b[0m\n",
      "\u001b[0;32m~/opt/anaconda3/lib/python3.7/site-packages/numpy/lib/_datasource.py\u001b[0m in \u001b[0;36mopen\u001b[0;34m(self, path, mode, encoding, newline)\u001b[0m\n\u001b[1;32m    621\u001b[0m                                       encoding=encoding, newline=newline)\n\u001b[1;32m    622\u001b[0m         \u001b[0;32melse\u001b[0m\u001b[0;34m:\u001b[0m\u001b[0;34m\u001b[0m\u001b[0;34m\u001b[0m\u001b[0m\n\u001b[0;32m--> 623\u001b[0;31m             \u001b[0;32mraise\u001b[0m \u001b[0mIOError\u001b[0m\u001b[0;34m(\u001b[0m\u001b[0;34m\"%s not found.\"\u001b[0m \u001b[0;34m%\u001b[0m \u001b[0mpath\u001b[0m\u001b[0;34m)\u001b[0m\u001b[0;34m\u001b[0m\u001b[0;34m\u001b[0m\u001b[0m\n\u001b[0m\u001b[1;32m    624\u001b[0m \u001b[0;34m\u001b[0m\u001b[0m\n\u001b[1;32m    625\u001b[0m \u001b[0;34m\u001b[0m\u001b[0m\n",
      "\u001b[0;31mOSError\u001b[0m: coursera_logistic_data.csv not found."
     ]
    }
   ],
   "metadata": {}
  },
  {
   "cell_type": "markdown",
   "source": [
    "NumPy contains many other built-in functions that we have not covered here. In particular, there are routines for discrete Fourier transforms, more complex linear algebra operations, size / shape / type testing of arrays, splitting and joining arrays, histograms, creating arrays of numbers spaced in various ways, creating and evaluating functions on grid arrays, treating arrays with special (NaN, Inf) values, set operations, creating various kinds of special matrices, and evaluating special mathematical functions (e.g., Bessel functions). You are encouraged to consult the NumPy documentation at http://docs.scipy.org/doc/ for more details."
   ],
   "metadata": {}
  },
  {
   "cell_type": "code",
   "execution_count": 53,
   "source": [
    "import math\n",
    "# def isPrime(data):\n",
    "#     isPrime = True\n",
    "#     for i in range(2, data):\n",
    "#         if data % i == 0:\n",
    "#             print(\"not prime\", data, \"=\", i, \"*\", data/i)\n",
    "#             isPrime = False\n",
    "#             break\n",
    "#     if isPrime:\n",
    "#         print(data, \"is prime\")\n",
    "\n",
    "for data in range(2, 30):\n",
    "    isPrime = True\n",
    "    for i in range(2, data):\n",
    "        if data % i == 0:\n",
    "            print(\"not prime\", data, \"=\", i, \"*\", data/i)\n",
    "            isPrime = False\n",
    "            break\n",
    "    if isPrime:\n",
    "        print(data, \"is prime\")\n"
   ],
   "outputs": [
    {
     "output_type": "stream",
     "name": "stdout",
     "text": [
      "2 is prime\n",
      "3 is prime\n",
      "not prime 4 = 2 * 2.0\n",
      "5 is prime\n",
      "not prime 6 = 2 * 3.0\n",
      "7 is prime\n",
      "not prime 8 = 2 * 4.0\n",
      "not prime 9 = 3 * 3.0\n",
      "not prime 10 = 2 * 5.0\n",
      "11 is prime\n",
      "not prime 12 = 2 * 6.0\n",
      "13 is prime\n",
      "not prime 14 = 2 * 7.0\n",
      "not prime 15 = 3 * 5.0\n",
      "not prime 16 = 2 * 8.0\n",
      "17 is prime\n",
      "not prime 18 = 2 * 9.0\n",
      "19 is prime\n",
      "not prime 20 = 2 * 10.0\n",
      "not prime 21 = 3 * 7.0\n",
      "not prime 22 = 2 * 11.0\n",
      "23 is prime\n",
      "not prime 24 = 2 * 12.0\n",
      "not prime 25 = 5 * 5.0\n",
      "not prime 26 = 2 * 13.0\n",
      "not prime 27 = 3 * 9.0\n",
      "not prime 28 = 2 * 14.0\n",
      "29 is prime\n"
     ]
    }
   ],
   "metadata": {}
  },
  {
   "cell_type": "code",
   "execution_count": null,
   "source": [],
   "outputs": [],
   "metadata": {}
  }
 ],
 "metadata": {
  "kernelspec": {
   "name": "python3",
   "display_name": "Python 3.8.8 64-bit ('gqq': conda)"
  },
  "language_info": {
   "codemirror_mode": {
    "name": "ipython",
    "version": 3
   },
   "file_extension": ".py",
   "mimetype": "text/x-python",
   "name": "python",
   "nbconvert_exporter": "python",
   "pygments_lexer": "ipython3",
   "version": "3.8.8"
  },
  "interpreter": {
   "hash": "ec5a4d649d38bd61f61f26fe6b7ebc74efd7dadd682937e31b56a495fdf34038"
  }
 },
 "nbformat": 4,
 "nbformat_minor": 2
}