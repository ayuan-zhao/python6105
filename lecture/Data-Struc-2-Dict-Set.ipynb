{
 "cells": [
  {
   "cell_type": "markdown",
   "source": [
    "### Data Structures\n",
    " \n",
    " In the last class we have discussed about the basic characteristics of lists and tuples,, In this notebook we will continue our journey thorugh data structures in python and we will discuss other types including **Dictionaries**, **Set** and **String**\n",
    "\n",
    "By the end of this notebook, you should have good understanding of when a dictionary or set are the appropriate data structures to use, and how to do so.\n",
    "\n",
    "\n",
    "- **Dictionary** is a sequence of key and value pairs. Dictionary is mutable as new key-values can be added and existing key-values can be modified. In a dictionary, the keys have to mutable. \n",
    "\n",
    "- **Set** is an unordered sequence of unique elements. Sets are mutable but its elements are immutable. \n",
    "\n",
    "- **String** is an ordered sequence of characters. Strings are immutable. \n",
    "\n",
    "\n",
    "Dictionaries and lists share the following characteristics:\n",
    "\n",
    "- Both are mutable.\n",
    "\n",
    "- Both are dynamic. They can grow and shrink as needed.\n",
    "\n",
    "- Both can be nested. A list can contain another list. A dictionary can contain another dictionary. A dictionary can also contain a list, and vice versa.\n",
    "\n",
    "\n",
    "Dictionaries differ from lists primarily in how elements are accessed:\n",
    "\n",
    "- List elements are accessed by their position in the list, via indexing.\n",
    "\n",
    "- Dictionary elements are accessed via keys.\n"
   ],
   "metadata": {}
  },
  {
   "cell_type": "markdown",
   "source": [
    "### Dictionary\n",
    "\n",
    "Dictionary is likely the most important built-in Python data structure. A more common name for it is *hash map* or *associative array*. Dictionary is a key-value pair. These are mutable and they start with curly braces and end with curly braces. The keys and values are separated by a : (colon). \n",
    "\n",
    "As a dictionary, keeps the elements in key-value mapping format and internally uses hashing for it; therefore, we can get a value from the dictionary by its key very quickly. In best cases, its complexity is O(1), whereas, in the worst case, its complexity can be O(n)."
   ],
   "metadata": {}
  },
  {
   "cell_type": "markdown",
   "source": [
    "#### syntax\n",
    "\n",
    "dict1 = {\n",
    "    key1:val1, \n",
    "    key2:val2\n",
    "    }\n",
    "\n",
    "keys have to be unique and should be immutable type such as integer, string, tuple etc. The values can be any Python object. \n",
    "\n",
    "**Note** – Dictionary keys are case sensitive, same name but different cases of Key will be treated distinctly.\n",
    "\n",
    "The dictionary in Python 3.5 and below do not maintain the order of the entries while dictionary in Python 3.6 and above maintain the order.   \n",
    "\n",
    "\n",
    "Elements in a dictionary are generally accessed either by looping through all key-value pairs or by accessing a single value given in key. In both cases, the order is not critical and hence the unordered dictionary prior to Python 3.6 is not a big concern for a typical programming case.  \n",
    "\n",
    "#### Restrictions on Dictionary Keys\n",
    "Although any type of value can be used as a dictionary key in Python. However, there are a couple restrictions that dictionary keys must abide by.\n",
    "\n",
    "First, a given key can appear in a dictionary only once. Duplicate keys are not allowed. A dictionary maps each key to a corresponding value, so it doesn’t make sense to map a particular key more than once.\n",
    "\n",
    "when you assign a value to an already existing dictionary key, it does not add the key a second time, but replaces the existing value\n",
    "\n",
    "Similarly, if you specify a key a second time during the initial creation of a dictionary, the second occurrence will override the first\n",
    "\n",
    "Secondly, a dictionary key must be of a type that is immutable. You have already seen examples where several of the immutable types you are familiar with—integer, float, string, and Boolean—have served as dictionary keys.\n",
    "\n",
    "A tuple can also be a dictionary key, because tuples are immutable\n",
    "\n",
    "However, neither a list nor another dictionary can serve as a dictionary key, because lists and dictionaries are mutable\n",
    "\n",
    "#### Restrictions on Dictionary Values\n",
    "By contrast, there are no restrictions on dictionary values. Literally none at all. A dictionary value can be any type of object Python supports, including mutable types like lists and dictionaries, and user-defined objects,There is also no restriction against a particular value appearing in a dictionary multiple times"
   ],
   "metadata": {}
  },
  {
   "cell_type": "markdown",
   "source": [
    "#### Dictionary Methods\n",
    "\n",
    "| Method |   Description   |\n",
    "|:---|:---|\n",
    "|copy()\t| They copy() method returns a shallow copy of the dictionary.|\n",
    "|clear()|\tThe clear() method removes all items from the dictionary.|\n",
    "|pop()\t |Removes and returns an element from a dictionary having the given key.|\n",
    "|popitem()|\tRemoves the arbitrary key-value pair from the dictionary and returns it as tuple.|\n",
    "|get() |\tIt is a conventional method to access a value for a key.)\n",
    "|dictionary_name.values() |\treturns a list of all the values available in a given dictionary.|\n",
    "|str() |\tProduces a printable string representation of a dictionary.|\n",
    "|update()\t|Adds dictionary dict2’s key-values pairs to dict|\n",
    "|setdefault()|\tSet dict[key]=default if key is not already in dict|\n",
    "|keys()|\tReturns list of dictionary dict’s keys|\n",
    "|items()|\tReturns a list of dict’s (key, value) tuple pairs|\n",
    "|has_key()|\tReturns true if key in dictionary dict, false otherwise|\n",
    "|fromkeys()|\tCreate a new dictionary with keys from seq and values set to value.|\n",
    "|type()\t|Returns the type of the passed variable.|\n",
    "|cmp()\t|Compares elements of both dict.|"
   ],
   "metadata": {}
  },
  {
   "cell_type": "code",
   "execution_count": null,
   "source": [
    "\n"
   ],
   "outputs": [],
   "metadata": {}
  },
  {
   "cell_type": "code",
   "execution_count": null,
   "source": [
    "empty_dict = {}"
   ],
   "outputs": [],
   "metadata": {}
  },
  {
   "cell_type": "code",
   "execution_count": 1,
   "source": [
    "x = {'b': 'ice', 'c': 'steam', 'a': 'water'}\n",
    "print(x)"
   ],
   "outputs": [
    {
     "output_type": "stream",
     "name": "stdout",
     "text": [
      "{'b': 'ice', 'c': 'steam', 'a': 'water'}\n"
     ]
    }
   ],
   "metadata": {
    "ExecuteTime": {
     "end_time": "2020-06-11T05:10:43.973099Z",
     "start_time": "2020-06-11T05:10:43.951623Z"
    }
   }
  },
  {
   "cell_type": "markdown",
   "source": [
    "Another way to define a dictionary using dict() constructor. Note that the keys 'a' and 'b'  are  not supplied as string but as a variable name to this function. "
   ],
   "metadata": {}
  },
  {
   "cell_type": "code",
   "execution_count": 10,
   "source": [],
   "outputs": [],
   "metadata": {
    "ExecuteTime": {
     "end_time": "2020-06-11T05:11:48.772444Z",
     "start_time": "2020-06-11T05:11:48.760809Z"
    }
   }
  },
  {
   "cell_type": "code",
   "execution_count": 3,
   "source": [
    "fruit = dict(a='mango', b='pear')\n",
    "type(fruit)"
   ],
   "outputs": [
    {
     "output_type": "execute_result",
     "data": {
      "text/plain": [
       "dict"
      ]
     },
     "metadata": {},
     "execution_count": 3
    }
   ],
   "metadata": {
    "ExecuteTime": {
     "end_time": "2020-06-11T02:34:04.796680Z",
     "start_time": "2020-06-11T02:34:04.778389Z"
    }
   }
  },
  {
   "cell_type": "markdown",
   "source": [
    "Once you’ve defined a dictionary, you can display its contents, the same as you can do for a list. "
   ],
   "metadata": {}
  },
  {
   "cell_type": "code",
   "execution_count": 4,
   "source": [
    "fruit"
   ],
   "outputs": [
    {
     "output_type": "execute_result",
     "data": {
      "text/plain": [
       "{'a': 'mango', 'b': 'pear'}"
      ]
     },
     "metadata": {},
     "execution_count": 4
    }
   ],
   "metadata": {
    "ExecuteTime": {
     "end_time": "2020-06-11T05:14:24.480581Z",
     "start_time": "2020-06-11T05:14:24.458251Z"
    }
   }
  },
  {
   "cell_type": "code",
   "execution_count": 5,
   "source": [
    "%history"
   ],
   "outputs": [
    {
     "output_type": "stream",
     "name": "stdout",
     "text": [
      "x = {'b': 'ice', 'c': 'steam', 'a': 'water'}\n",
      "print(x)\n",
      "type(fruit)\n",
      "fruit = dict(a='mango', b='pear')\n",
      "type(fruit)\n",
      "fruit\n",
      "%history\n"
     ]
    }
   ],
   "metadata": {
    "ExecuteTime": {
     "end_time": "2020-06-11T05:13:40.055209Z",
     "start_time": "2020-06-11T05:13:40.039063Z"
    }
   }
  },
  {
   "cell_type": "code",
   "execution_count": 9,
   "source": [
    "print(Out[7])"
   ],
   "outputs": [
    {
     "output_type": "stream",
     "name": "stdout",
     "text": [
      "{'a': 'mango', 'b': 'pear'}\n"
     ]
    }
   ],
   "metadata": {
    "ExecuteTime": {
     "end_time": "2020-06-11T05:15:22.667392Z",
     "start_time": "2020-06-11T05:15:22.658803Z"
    }
   }
  },
  {
   "cell_type": "markdown",
   "source": [
    "#### Accessing Items\n",
    "You can access the items of a dictionary by referring to its key name, inside square brackets:"
   ],
   "metadata": {}
  },
  {
   "cell_type": "code",
   "execution_count": null,
   "source": [
    "#You can access, insert, or set elements using the same syntax as \n",
    "#for accessing elements of a list or tuple:\n",
    "fruit['a']"
   ],
   "outputs": [],
   "metadata": {
    "ExecuteTime": {
     "end_time": "2020-06-08T05:31:54.208006Z",
     "start_time": "2020-06-08T05:31:54.196300Z"
    }
   }
  },
  {
   "cell_type": "markdown",
   "source": [
    "There is also a method called *get()* that will get the same result\n"
   ],
   "metadata": {}
  },
  {
   "cell_type": "code",
   "execution_count": null,
   "source": [
    "x = fruit.get('a')\n",
    "x"
   ],
   "outputs": [],
   "metadata": {
    "ExecuteTime": {
     "end_time": "2020-06-08T05:32:17.254651Z",
     "start_time": "2020-06-08T05:32:17.245043Z"
    }
   }
  },
  {
   "cell_type": "markdown",
   "source": [
    "If you refer to a key that is not in the dictionary, Python raises an exception"
   ],
   "metadata": {}
  },
  {
   "cell_type": "code",
   "execution_count": null,
   "source": [
    "fruit['e']"
   ],
   "outputs": [],
   "metadata": {
    "ExecuteTime": {
     "end_time": "2020-06-08T05:32:35.335671Z",
     "start_time": "2020-06-08T05:32:34.915850Z"
    }
   }
  },
  {
   "cell_type": "code",
   "execution_count": 10,
   "source": [
    "# get all the keys\n",
    "\n",
    "fruit.keys()"
   ],
   "outputs": [
    {
     "output_type": "execute_result",
     "data": {
      "text/plain": [
       "dict_keys(['a', 'b'])"
      ]
     },
     "metadata": {},
     "execution_count": 10
    }
   ],
   "metadata": {
    "ExecuteTime": {
     "end_time": "2020-06-11T05:16:13.889161Z",
     "start_time": "2020-06-11T05:16:13.874495Z"
    }
   }
  },
  {
   "cell_type": "code",
   "execution_count": 11,
   "source": [
    "# Get all the values\n",
    "fruit.values()"
   ],
   "outputs": [
    {
     "output_type": "execute_result",
     "data": {
      "text/plain": [
       "dict_values(['mango', 'pear'])"
      ]
     },
     "metadata": {},
     "execution_count": 11
    }
   ],
   "metadata": {
    "ExecuteTime": {
     "end_time": "2020-06-11T05:16:19.053827Z",
     "start_time": "2020-06-11T05:16:19.036650Z"
    }
   }
  },
  {
   "cell_type": "markdown",
   "source": [
    "#### Change Values\n",
    "You can change the value of a specific item by referring to its key name:"
   ],
   "metadata": {}
  },
  {
   "cell_type": "code",
   "execution_count": 7,
   "source": [
    "fruit = dict(a='mango', b='pear', c = 'banana', d = 'pear')\n",
    "fruit.values()\n",
    "fruit.keys()\n"
   ],
   "outputs": [
    {
     "output_type": "execute_result",
     "data": {
      "text/plain": [
       "dict_keys(['a', 'b', 'c', 'd'])"
      ]
     },
     "metadata": {},
     "execution_count": 7
    }
   ],
   "metadata": {
    "ExecuteTime": {
     "end_time": "2020-06-11T05:17:02.591203Z",
     "start_time": "2020-06-11T05:17:02.578500Z"
    }
   }
  },
  {
   "cell_type": "code",
   "execution_count": 9,
   "source": [
    "fruit['d'] = 'orange'"
   ],
   "outputs": [],
   "metadata": {
    "ExecuteTime": {
     "end_time": "2020-06-11T05:18:19.560532Z",
     "start_time": "2020-06-11T05:18:19.554449Z"
    }
   }
  },
  {
   "cell_type": "code",
   "execution_count": 10,
   "source": [
    "fruit"
   ],
   "outputs": [
    {
     "output_type": "execute_result",
     "data": {
      "text/plain": [
       "{'a': 'mango', 'b': 'pear', 'c': 'banana', 'd': 'orange'}"
      ]
     },
     "metadata": {},
     "execution_count": 10
    }
   ],
   "metadata": {
    "ExecuteTime": {
     "end_time": "2020-06-11T05:17:23.060726Z",
     "start_time": "2020-06-11T05:17:23.053333Z"
    }
   }
  },
  {
   "cell_type": "markdown",
   "source": [
    "#### Loop Through a Dictionary\n",
    "You can loop through a dictionary by using a for loop.\n",
    "\n",
    "When looping through a dictionary, the return value are the keys of the dictionary, but there are methods to return the values as well."
   ],
   "metadata": {}
  },
  {
   "cell_type": "code",
   "execution_count": 31,
   "source": [
    "for i in fruit:\n",
    "    print(i)"
   ],
   "outputs": [
    {
     "output_type": "stream",
     "name": "stdout",
     "text": [
      "a\n",
      "b\n",
      "c\n",
      "d\n"
     ]
    }
   ],
   "metadata": {
    "ExecuteTime": {
     "end_time": "2020-06-11T05:19:59.102788Z",
     "start_time": "2020-06-11T05:19:59.095965Z"
    }
   }
  },
  {
   "cell_type": "code",
   "execution_count": null,
   "source": [
    "# Print the values"
   ],
   "outputs": [],
   "metadata": {}
  },
  {
   "cell_type": "code",
   "execution_count": 32,
   "source": [
    "for i in fruit:\n",
    "    print(i,fruit[i])"
   ],
   "outputs": [
    {
     "output_type": "stream",
     "name": "stdout",
     "text": [
      "a mango\n",
      "b pear\n",
      "c banana\n",
      "d orange\n"
     ]
    }
   ],
   "metadata": {
    "ExecuteTime": {
     "end_time": "2020-06-11T05:20:23.752171Z",
     "start_time": "2020-06-11T05:20:23.723170Z"
    }
   }
  },
  {
   "cell_type": "code",
   "execution_count": 35,
   "source": [
    "# Another way to extract the values useing value() method\n",
    "\n",
    "for i in fruit.values():\n",
    "    print(i)"
   ],
   "outputs": [
    {
     "output_type": "stream",
     "name": "stdout",
     "text": [
      "mango\n",
      "pear\n",
      "banana\n",
      "orange\n"
     ]
    }
   ],
   "metadata": {
    "ExecuteTime": {
     "end_time": "2020-06-11T05:20:46.342103Z",
     "start_time": "2020-06-11T05:20:46.324349Z"
    }
   }
  },
  {
   "cell_type": "code",
   "execution_count": 37,
   "source": [
    "for i,j in enumerate(fruit):\n",
    "    print(i,j)"
   ],
   "outputs": [
    {
     "output_type": "stream",
     "name": "stdout",
     "text": [
      "0 a\n",
      "1 b\n",
      "2 c\n",
      "3 d\n"
     ]
    }
   ],
   "metadata": {}
  },
  {
   "cell_type": "code",
   "execution_count": 36,
   "source": [
    "# Loop through both keys and values, by using the items() function\n",
    "\n",
    "for i,j in fruit.items():\n",
    "    print(j)\n"
   ],
   "outputs": [
    {
     "output_type": "stream",
     "name": "stdout",
     "text": [
      "mango\n",
      "pear\n",
      "banana\n",
      "orange\n"
     ]
    }
   ],
   "metadata": {
    "ExecuteTime": {
     "end_time": "2020-06-11T05:21:33.021006Z",
     "start_time": "2020-06-11T05:21:33.014142Z"
    }
   }
  },
  {
   "cell_type": "markdown",
   "source": [
    "#### Check if Key Exists\n",
    "To determine if a specified key is present in a dictionary use the *in* keyword:"
   ],
   "metadata": {}
  },
  {
   "cell_type": "code",
   "execution_count": 13,
   "source": [
    "if \"e\" in fruit:\n",
    "    print(\"yes, 'a' is one of the keys\")\n",
    "else:\n",
    "    print(\"no\")"
   ],
   "outputs": [
    {
     "output_type": "stream",
     "name": "stdout",
     "text": [
      "no\n"
     ]
    }
   ],
   "metadata": {
    "ExecuteTime": {
     "end_time": "2020-06-11T05:23:38.920609Z",
     "start_time": "2020-06-11T05:23:38.916200Z"
    }
   }
  },
  {
   "cell_type": "markdown",
   "source": [
    "#### Dictionary Length\n",
    "To determine how many items (key-value pairs) a dictionary has, use the *len()* method."
   ],
   "metadata": {}
  },
  {
   "cell_type": "code",
   "execution_count": 26,
   "source": [
    "print(len(fruit))"
   ],
   "outputs": [
    {
     "output_type": "stream",
     "name": "stdout",
     "text": [
      "4\n"
     ]
    }
   ],
   "metadata": {
    "ExecuteTime": {
     "end_time": "2020-06-11T05:23:54.972113Z",
     "start_time": "2020-06-11T05:23:54.964413Z"
    }
   }
  },
  {
   "cell_type": "markdown",
   "source": [
    "#### Adding Items\n",
    "Adding an item to the dictionary is done by using a new index key and assigning a value to it:"
   ],
   "metadata": {}
  },
  {
   "cell_type": "code",
   "execution_count": 15,
   "source": [
    "city_temp = {'San Francisco': 72, 'New York': 51}\n",
    "print(city_temp)"
   ],
   "outputs": [
    {
     "output_type": "stream",
     "name": "stdout",
     "text": [
      "{'San Francisco': 72, 'New York': 51}\n"
     ]
    }
   ],
   "metadata": {
    "ExecuteTime": {
     "end_time": "2020-06-11T05:24:27.881473Z",
     "start_time": "2020-06-11T05:24:27.868410Z"
    }
   }
  },
  {
   "cell_type": "code",
   "execution_count": 83,
   "source": [
    "city_temp['San Jose'] =70\n",
    "print (city_temp)"
   ],
   "outputs": [
    {
     "output_type": "stream",
     "name": "stdout",
     "text": [
      "{'San Francisco': 72, 'New York': 51, 'San Jose': 70}\n"
     ]
    }
   ],
   "metadata": {}
  },
  {
   "cell_type": "code",
   "execution_count": 16,
   "source": [
    "city_temp['Austin'] = 60\n",
    "print(city_temp)"
   ],
   "outputs": [
    {
     "output_type": "stream",
     "name": "stdout",
     "text": [
      "{'San Francisco': 72, 'New York': 51, 'Austin': 60}\n"
     ]
    }
   ],
   "metadata": {
    "ExecuteTime": {
     "end_time": "2020-06-11T05:24:55.969356Z",
     "start_time": "2020-06-11T05:24:55.961753Z"
    }
   }
  },
  {
   "cell_type": "code",
   "execution_count": 18,
   "source": [
    "city_temp.update({'Austin':50})\n",
    "city_temp"
   ],
   "outputs": [
    {
     "output_type": "execute_result",
     "data": {
      "text/plain": [
       "{'San Francisco': 72, 'New York': 51, 'Austin': 50}"
      ]
     },
     "metadata": {},
     "execution_count": 18
    }
   ],
   "metadata": {
    "ExecuteTime": {
     "end_time": "2020-06-11T05:25:51.682187Z",
     "start_time": "2020-06-11T05:25:51.669344Z"
    }
   }
  },
  {
   "cell_type": "markdown",
   "source": [
    "#### Removing the item\n",
    "You can delete values either using the del keyword or the pop method (which simultaneously returns the value and deletes the key):\n"
   ],
   "metadata": {}
  },
  {
   "cell_type": "code",
   "execution_count": 20,
   "source": [
    "del city_temp['Austin']\n",
    "city_temp"
   ],
   "outputs": [
    {
     "output_type": "error",
     "ename": "KeyError",
     "evalue": "'Austin'",
     "traceback": [
      "\u001b[0;31m---------------------------------------------------------------------------\u001b[0m",
      "\u001b[0;31mKeyError\u001b[0m                                  Traceback (most recent call last)",
      "\u001b[0;32m/var/folders/0q/f4pky2191dv019qr8wm53h3r0000gn/T/ipykernel_24343/2161977513.py\u001b[0m in \u001b[0;36m<module>\u001b[0;34m\u001b[0m\n\u001b[0;32m----> 1\u001b[0;31m \u001b[0;32mdel\u001b[0m \u001b[0mcity_temp\u001b[0m\u001b[0;34m[\u001b[0m\u001b[0;34m'Austin'\u001b[0m\u001b[0;34m]\u001b[0m\u001b[0;34m\u001b[0m\u001b[0;34m\u001b[0m\u001b[0m\n\u001b[0m\u001b[1;32m      2\u001b[0m \u001b[0mcity_temp\u001b[0m\u001b[0;34m\u001b[0m\u001b[0;34m\u001b[0m\u001b[0m\n",
      "\u001b[0;31mKeyError\u001b[0m: 'Austin'"
     ]
    }
   ],
   "metadata": {}
  },
  {
   "cell_type": "code",
   "execution_count": 30,
   "source": [
    "city_temp1 = city_temp.pop('San Francisco')\n",
    "city_temp1"
   ],
   "outputs": [
    {
     "output_type": "execute_result",
     "data": {
      "text/plain": [
       "72"
      ]
     },
     "metadata": {},
     "execution_count": 30
    }
   ],
   "metadata": {
    "ExecuteTime": {
     "end_time": "2020-06-11T05:26:38.410681Z",
     "start_time": "2020-06-11T05:26:38.386376Z"
    }
   }
  },
  {
   "cell_type": "markdown",
   "source": [
    "The *popitem()* removes the last inserted items."
   ],
   "metadata": {}
  },
  {
   "cell_type": "code",
   "execution_count": 58,
   "source": [
    "city_temp.popitem()\n",
    "print(city_temp)"
   ],
   "outputs": [
    {
     "output_type": "stream",
     "name": "stdout",
     "text": [
      "{'San Francisco': 72}\n"
     ]
    }
   ],
   "metadata": {
    "ExecuteTime": {
     "end_time": "2020-06-11T05:26:41.712742Z",
     "start_time": "2020-06-11T05:26:41.703708Z"
    }
   }
  },
  {
   "cell_type": "markdown",
   "source": [
    "The *del* keyword can also delete the dcitionary completely\n"
   ],
   "metadata": {}
  },
  {
   "cell_type": "code",
   "execution_count": 70,
   "source": [
    "del city_temp\n",
    "print(city_temp)   # this will cause an error because \"city_temp\" no longer exists."
   ],
   "outputs": [
    {
     "output_type": "error",
     "ename": "NameError",
     "evalue": "name 'city_temp' is not defined",
     "traceback": [
      "\u001b[0;31m---------------------------------------------------------------------------\u001b[0m",
      "\u001b[0;31mNameError\u001b[0m                                 Traceback (most recent call last)",
      "\u001b[0;32m<ipython-input-70-4036941b8ec8>\u001b[0m in \u001b[0;36m<module>\u001b[0;34m\u001b[0m\n\u001b[1;32m      1\u001b[0m \u001b[0;32mdel\u001b[0m \u001b[0mcity_temp\u001b[0m\u001b[0;34m\u001b[0m\u001b[0;34m\u001b[0m\u001b[0m\n\u001b[0;32m----> 2\u001b[0;31m \u001b[0mprint\u001b[0m\u001b[0;34m(\u001b[0m\u001b[0mcity_temp\u001b[0m\u001b[0;34m)\u001b[0m   \u001b[0;31m# this will cause an error because \"city_temp\" no longer exists.\u001b[0m\u001b[0;34m\u001b[0m\u001b[0;34m\u001b[0m\u001b[0m\n\u001b[0m",
      "\u001b[0;31mNameError\u001b[0m: name 'city_temp' is not defined"
     ]
    }
   ],
   "metadata": {}
  },
  {
   "cell_type": "markdown",
   "source": [
    "The *clear()* method empties the dictionary "
   ],
   "metadata": {}
  },
  {
   "cell_type": "code",
   "execution_count": 81,
   "source": [
    "city_temp = {'San Francisco': 72, 'New York': 51}\n",
    "city_temp.clear()\n",
    "print(city_temp)"
   ],
   "outputs": [
    {
     "output_type": "stream",
     "name": "stdout",
     "text": [
      "{}\n"
     ]
    }
   ],
   "metadata": {}
  },
  {
   "cell_type": "code",
   "execution_count": 23,
   "source": [
    "'''Use dictionaries as a simple way to represent structured data:'''\n",
    "tweet = {\n",
    "\"user\" : \"joelgrus\",\n",
    "\"text\" : \"Data Science is Awesome\",\n",
    "\"retweet_count\" : 100,\n",
    "\"hashtags\" : [\"#data\", \"#science\", \"#datascience\", \"#awesome\", \"#yolo\"]\n",
    "}\n",
    "\n",
    "'''Besides looking for specific keys we can look at all of them:'''\n",
    "\n",
    "tweet_keys =tweet.keys()       # list of keys\n",
    "\n",
    "print(\"Keys:\", tweet_keys)\n",
    "\n",
    "print(\"\\n\")\n",
    "\n",
    "print(\"len tweet is \", len(tweet))\n",
    "\n",
    "#去掉value,保留key\n",
    "tweet[\"text\"] = \"\"\n",
    "print(tweet)"
   ],
   "outputs": [
    {
     "output_type": "stream",
     "name": "stdout",
     "text": [
      "Keys: dict_keys(['user', 'text', 'retweet_count', 'hashtags'])\n",
      "\n",
      "\n",
      "len tweet is  4\n",
      "{'user': 'joelgrus', 'text': '', 'retweet_count': 100, 'hashtags': ['#data', '#science', '#datascience', '#awesome', '#yolo']}\n"
     ]
    }
   ],
   "metadata": {
    "ExecuteTime": {
     "end_time": "2020-06-11T05:29:45.158561Z",
     "start_time": "2020-06-11T05:29:45.137993Z"
    }
   }
  },
  {
   "cell_type": "code",
   "execution_count": 87,
   "source": [
    "tweet"
   ],
   "outputs": [
    {
     "output_type": "execute_result",
     "data": {
      "text/plain": [
       "{'user': 'joelgrus',\n",
       " 'text': 'Data Science is Awesome',\n",
       " 'retweet_count': 100,\n",
       " 'hashtags': ['#data', '#science', '#datascience', '#awesome', '#yolo']}"
      ]
     },
     "metadata": {},
     "execution_count": 87
    }
   ],
   "metadata": {
    "ExecuteTime": {
     "end_time": "2020-06-11T05:30:47.397702Z",
     "start_time": "2020-06-11T05:30:47.381082Z"
    }
   }
  },
  {
   "cell_type": "code",
   "execution_count": 33,
   "source": [
    "tweet_values = tweet.values()  # list of values\n",
    "print(\"values:\", tweet_values)\n"
   ],
   "outputs": [
    {
     "output_type": "stream",
     "name": "stdout",
     "text": [
      "values: dict_values(['joelgrus', 'Data Science is Awesome', 100, ['#data', '#science', '#datascience', '#awesome', '#yolo']])\n"
     ]
    }
   ],
   "metadata": {
    "ExecuteTime": {
     "end_time": "2020-06-11T05:29:57.322743Z",
     "start_time": "2020-06-11T05:29:57.314177Z"
    }
   }
  },
  {
   "cell_type": "code",
   "execution_count": 35,
   "source": [
    "tweet_items = tweet.items()    # list of (key, value) tuples\n",
    "\n",
    "print(\"Keys and Values:\", tweet_items)\n"
   ],
   "outputs": [
    {
     "output_type": "stream",
     "name": "stdout",
     "text": [
      "Keys and Values: dict_items([('user', 'joelgrus'), ('text', 'Data Science is Awesome'), ('retweet_count', 100), ('hashtags', ['#data', '#science', '#datascience', '#awesome', '#yolo'])])\n"
     ]
    }
   ],
   "metadata": {
    "ExecuteTime": {
     "end_time": "2020-06-11T05:31:25.575954Z",
     "start_time": "2020-06-11T05:31:25.563863Z"
    }
   }
  },
  {
   "cell_type": "markdown",
   "source": [
    "#### Nested Dictionaries\n",
    "A dictionary can also contain many dictionaries, this is called nested dictionaries."
   ],
   "metadata": {}
  },
  {
   "cell_type": "code",
   "execution_count": 26,
   "source": [
    "Employees = {\n",
    "  \"employee1\" : {\n",
    "    \"Firstname\" : \"John\",\n",
    "    \"Salary\" : 100000\n",
    "  },\n",
    "  \"employee2\" : {\n",
    "    \"Firstname\" : \"Ron\",\n",
    "    \"Salary\" : 150000\n",
    "  },\n",
    "  \"employee3\" : {\n",
    "    \"Firstname\" : \"Jammy\",\n",
    "    \"Salary\" : 90000\n",
    "  }\n",
    "}\n",
    "\n",
    "print(Employees)"
   ],
   "outputs": [
    {
     "output_type": "stream",
     "name": "stdout",
     "text": [
      "{'employee1': {'Firstname': 'John', 'Salary': 100000}, 'employee2': {'Firstname': 'Ron', 'Salary': 150000}, 'employee3': {'Firstname': 'Jammy', 'Salary': 90000}}\n"
     ]
    }
   ],
   "metadata": {
    "ExecuteTime": {
     "end_time": "2020-06-11T05:33:20.052188Z",
     "start_time": "2020-06-11T05:33:20.037704Z"
    }
   }
  },
  {
   "cell_type": "code",
   "execution_count": 28,
   "source": [
    "Employees['employee1']['Salary']"
   ],
   "outputs": [
    {
     "output_type": "execute_result",
     "data": {
      "text/plain": [
       "100000"
      ]
     },
     "metadata": {},
     "execution_count": 28
    }
   ],
   "metadata": {}
  },
  {
   "cell_type": "code",
   "execution_count": 29,
   "source": [
    "Employees.keys()"
   ],
   "outputs": [
    {
     "output_type": "execute_result",
     "data": {
      "text/plain": [
       "dict_keys(['employee1', 'employee2', 'employee3'])"
      ]
     },
     "metadata": {},
     "execution_count": 29
    }
   ],
   "metadata": {
    "ExecuteTime": {
     "end_time": "2020-06-11T05:33:45.576084Z",
     "start_time": "2020-06-11T05:33:45.565341Z"
    }
   }
  },
  {
   "cell_type": "code",
   "execution_count": 40,
   "source": [
    "type(Employees['employee1'])"
   ],
   "outputs": [
    {
     "output_type": "execute_result",
     "data": {
      "text/plain": [
       "dict"
      ]
     },
     "metadata": {},
     "execution_count": 40
    }
   ],
   "metadata": {
    "ExecuteTime": {
     "end_time": "2020-06-11T05:36:15.520022Z",
     "start_time": "2020-06-11T05:36:15.513183Z"
    }
   }
  },
  {
   "cell_type": "markdown",
   "source": [
    "#### Dictionary comprehension\n",
    "Dictionary comprehension is similar in idea to list comprehension. It is fast and efficient way to create a dictionary from any iterable object. Dictionary comprehension uses curly brackets with an expression followed by for-loop with optional if statements.\n",
    "\n",
    "dict2 = {x:x*x fro a in list1 if statement}\n",
    " \n",
    "Dictionary comprehension provides the ability to filter elements that satisfy certain requiremnet. "
   ],
   "metadata": {}
  },
  {
   "cell_type": "code",
   "execution_count": 30,
   "source": [
    "list1 = [-9, 10, 14]\n",
    "cubed = {x: x**3 for x in list1}\n",
    "print(cubed)"
   ],
   "outputs": [
    {
     "output_type": "stream",
     "name": "stdout",
     "text": [
      "{-9: -729, 10: 1000, 14: 2744}\n"
     ]
    }
   ],
   "metadata": {
    "ExecuteTime": {
     "end_time": "2020-06-11T05:37:57.457614Z",
     "start_time": "2020-06-11T05:37:57.439288Z"
    }
   }
  },
  {
   "cell_type": "code",
   "execution_count": 37,
   "source": [
    "rangeiter = range(10)\n",
    "cubed = {x: x**3 for x in rangeiter}#dict\n",
    "aalist=[x**3 for x in rangeiter]#list\n",
    "aaset = {x**3 for x in rangeiter}  # set\n",
    "\n",
    "print(cubed)\n",
    "# print[]\n"
   ],
   "outputs": [
    {
     "output_type": "stream",
     "name": "stdout",
     "text": [
      "{0: 0, 1: 1, 2: 8, 3: 27, 4: 64, 5: 125, 6: 216, 7: 343, 8: 512, 9: 729}\n"
     ]
    }
   ],
   "metadata": {
    "ExecuteTime": {
     "end_time": "2020-06-11T05:38:49.576671Z",
     "start_time": "2020-06-11T05:38:49.561695Z"
    }
   }
  },
  {
   "cell_type": "code",
   "execution_count": 107,
   "source": [
    "rangeiter = range(10)\n",
    "cubed = {x: x**3 for x in rangeiter if x%2==1}\n",
    "print(cubed)"
   ],
   "outputs": [
    {
     "output_type": "stream",
     "name": "stdout",
     "text": [
      "{1: 1, 3: 27, 5: 125, 7: 343, 9: 729}\n"
     ]
    }
   ],
   "metadata": {
    "ExecuteTime": {
     "end_time": "2020-06-11T05:40:00.214462Z",
     "start_time": "2020-06-11T05:40:00.207634Z"
    }
   }
  },
  {
   "cell_type": "markdown",
   "source": [
    "We have covered the basic properties of the Python dictionary and learned how to access and manipulate dictionary data."
   ],
   "metadata": {}
  },
  {
   "cell_type": "markdown",
   "source": [
    "### Sets\n",
    "\n",
    "A set is an unordered collection of unique items. Set has the following characteristics:\n",
    "\n",
    "1. Set is a collection and hence can contain one or more elements and hence it is like a list\n",
    "\n",
    "2. A set in unordered. hence, the order in which the elements are added to the set will not be maintained. Since the order is not maintained, operations that require maintenance of order such as indexing (setx[0]), which are possible in list are not allowed in set. The correct usage of set does not require order of items anyway.\n",
    "\n",
    "3. it contains unique items. the correct usage of set doe not require duplicate items.\n",
    "\n",
    "The set() function can be used to convert a list or a tuple to a set. "
   ],
   "metadata": {}
  },
  {
   "cell_type": "markdown",
   "source": [
    "### Methods\n",
    "\n",
    "The following methods can be used both on sets.  If the inputs are sets, then the output will be a set.\n",
    "\n",
    "\n",
    "| Method |   Action   | Descprition |\n",
    "|:---|:---|:---|\n",
    "|subset()|x.subset(y)| Checks whether every element in x is in y.Return True or False.|\n",
    "|superset()|x.superset(y)| Checks whether every element in y is in x.Return True or False.|\n",
    "|union()|x.union(y)| Returns a new set with elements from x and y|\n",
    "|intersection()|x.intersection(y)|Returns a new set with elements that are common to x and y|\n",
    "|intersection_update()|x.intersection_update(y)|Removes the items in this set that are not present in other, specified set(s)|\n",
    "|difference()|x.difference(y)| returns a new set with elements in x that are not in y|\n",
    "|clear()|x.clear()| will clear all elements from x|\n",
    "|update()|x.update(y)| updates x by adding elements from y|\n",
    "|remove()|x.remove(x1)| will remove x1 from x. If x1 is not in x, a KeyError exception will be raised.|\n",
    "|discard()|x.discard(y)| will remove y from x if it is present. If y is not present, the discard method does not throw any error|\n",
    "|add()|x.add(n)| will add n to x|\n",
    "|difference()|x.difference(y)|Returns a set containing the difference between two or more sets|\n",
    "|difference_update()|x.difference_update(y)|Removes the items in this set that are also included in another, specified set|\n"
   ],
   "metadata": {}
  },
  {
   "cell_type": "code",
   "execution_count": 108,
   "source": [
    "B = set()\n",
    "print(type(B))"
   ],
   "outputs": [
    {
     "output_type": "stream",
     "name": "stdout",
     "text": [
      "<class 'set'>\n"
     ]
    }
   ],
   "metadata": {
    "ExecuteTime": {
     "end_time": "2020-06-11T05:42:54.041328Z",
     "start_time": "2020-06-11T05:42:54.033585Z"
    }
   }
  },
  {
   "cell_type": "code",
   "execution_count": 109,
   "source": [
    "s2 = {'CPython', 'Python', 'Julia', 'R'}\n",
    "type(s2)"
   ],
   "outputs": [
    {
     "output_type": "execute_result",
     "data": {
      "text/plain": [
       "set"
      ]
     },
     "metadata": {},
     "execution_count": 109
    }
   ],
   "metadata": {
    "ExecuteTime": {
     "end_time": "2020-06-11T05:42:56.273741Z",
     "start_time": "2020-06-11T05:42:56.259725Z"
    }
   }
  },
  {
   "cell_type": "markdown",
   "source": [
    "#### Access Items\n",
    "You cannot access items in a set by referring to an index, since sets are unordered the items has no index.\n",
    "\n",
    "But you can loop through the set items using a for loop, or ask if a specified value is present in a set, by using the in keyword."
   ],
   "metadata": {}
  },
  {
   "cell_type": "code",
   "execution_count": 46,
   "source": [
    "for i in s2:\n",
    "    print(i)"
   ],
   "outputs": [
    {
     "output_type": "stream",
     "name": "stdout",
     "text": [
      "CPython\n",
      "R\n",
      "Julia\n",
      "Python\n"
     ]
    }
   ],
   "metadata": {
    "ExecuteTime": {
     "end_time": "2020-06-11T05:43:38.514451Z",
     "start_time": "2020-06-11T05:43:38.500873Z"
    }
   }
  },
  {
   "cell_type": "markdown",
   "source": [
    "#### Change Items\n",
    "Once a set is created, you cannot change its items, but you can add new items."
   ],
   "metadata": {}
  },
  {
   "cell_type": "markdown",
   "source": [
    "#### Add Items\n",
    "To add one item to a set use the add() method.\n",
    "\n",
    "To add more than one item to a set use the update() method."
   ],
   "metadata": {}
  },
  {
   "cell_type": "code",
   "execution_count": 48,
   "source": [
    "s2.add(\"C++\")\n",
    "s2"
   ],
   "outputs": [
    {
     "output_type": "execute_result",
     "data": {
      "text/plain": [
       "{'C++', 'CPython', 'Julia', 'Python', 'R'}"
      ]
     },
     "metadata": {},
     "execution_count": 48
    }
   ],
   "metadata": {
    "ExecuteTime": {
     "end_time": "2020-06-11T05:44:14.518961Z",
     "start_time": "2020-06-11T05:44:14.495139Z"
    }
   }
  },
  {
   "cell_type": "markdown",
   "source": [
    "Add multiple items to a set, using the update() method:"
   ],
   "metadata": {}
  },
  {
   "cell_type": "code",
   "execution_count": 111,
   "source": [
    "s2.update([\"C#\", \"Perl\", \"PHP\"])\n",
    "s2"
   ],
   "outputs": [
    {
     "output_type": "execute_result",
     "data": {
      "text/plain": [
       "{'C#', 'CPython', 'Julia', 'PHP', 'Perl', 'Python', 'R'}"
      ]
     },
     "metadata": {},
     "execution_count": 111
    }
   ],
   "metadata": {
    "ExecuteTime": {
     "end_time": "2020-06-11T05:44:25.444757Z",
     "start_time": "2020-06-11T05:44:25.432183Z"
    }
   }
  },
  {
   "cell_type": "markdown",
   "source": [
    "#### Remove Item\n",
    "To remove an item in a set, use the *remove()*, or the *discard()* method."
   ],
   "metadata": {}
  },
  {
   "cell_type": "code",
   "execution_count": 112,
   "source": [
    "s2.remove(\"C++\")\n",
    "s2"
   ],
   "outputs": [
    {
     "output_type": "error",
     "ename": "KeyError",
     "evalue": "'C++'",
     "traceback": [
      "\u001b[0;31m---------------------------------------------------------------------------\u001b[0m",
      "\u001b[0;31mKeyError\u001b[0m                                  Traceback (most recent call last)",
      "\u001b[0;32m<ipython-input-112-9cc566701dce>\u001b[0m in \u001b[0;36m<module>\u001b[0;34m\u001b[0m\n\u001b[0;32m----> 1\u001b[0;31m \u001b[0ms2\u001b[0m\u001b[0;34m.\u001b[0m\u001b[0mremove\u001b[0m\u001b[0;34m(\u001b[0m\u001b[0;34m\"C++\"\u001b[0m\u001b[0;34m)\u001b[0m\u001b[0;34m\u001b[0m\u001b[0;34m\u001b[0m\u001b[0m\n\u001b[0m\u001b[1;32m      2\u001b[0m \u001b[0ms2\u001b[0m\u001b[0;34m\u001b[0m\u001b[0;34m\u001b[0m\u001b[0m\n",
      "\u001b[0;31mKeyError\u001b[0m: 'C++'"
     ]
    }
   ],
   "metadata": {}
  },
  {
   "cell_type": "code",
   "execution_count": 113,
   "source": [
    "s2.discard(\"R\")\n",
    "s2"
   ],
   "outputs": [
    {
     "output_type": "execute_result",
     "data": {
      "text/plain": [
       "{'C#', 'CPython', 'Julia', 'PHP', 'Perl', 'Python'}"
      ]
     },
     "metadata": {},
     "execution_count": 113
    }
   ],
   "metadata": {}
  },
  {
   "cell_type": "code",
   "execution_count": 2,
   "source": [
    "fruits = ['grapes','apple','grapes','oranges'] # A list\n",
    "fruits_set = set(fruits)\n",
    "# set command returns only unique items\n",
    "print(fruits, type(fruits))\n",
    "print(fruits_set, type(fruits_set))"
   ],
   "outputs": [
    {
     "output_type": "stream",
     "name": "stdout",
     "text": [
      "['grapes', 'apple', 'grapes', 'oranges'] <class 'list'>\n",
      "{'apple', 'grapes', 'oranges'} <class 'set'>\n"
     ]
    }
   ],
   "metadata": {
    "ExecuteTime": {
     "end_time": "2020-06-11T05:45:59.583112Z",
     "start_time": "2020-06-11T05:45:59.560603Z"
    }
   }
  },
  {
   "cell_type": "code",
   "execution_count": 115,
   "source": [
    "for item in fruits_set:\n",
    "    print(item)"
   ],
   "outputs": [
    {
     "output_type": "stream",
     "name": "stdout",
     "text": [
      "apple\n",
      "grapes\n",
      "oranges\n"
     ]
    }
   ],
   "metadata": {
    "ExecuteTime": {
     "end_time": "2020-06-11T05:47:50.301870Z",
     "start_time": "2020-06-11T05:47:50.294376Z"
    }
   }
  },
  {
   "cell_type": "code",
   "execution_count": 3,
   "source": [
    "set_to_list = list(fruits_set)\n",
    "print(set_to_list, type(set_to_list))\n",
    "\n",
    "set_to_tuple = tuple(fruits_set)\n",
    "print(set_to_tuple, type(set_to_tuple))"
   ],
   "outputs": [
    {
     "output_type": "stream",
     "name": "stdout",
     "text": [
      "['apple', 'grapes', 'oranges'] <class 'list'>\n",
      "('apple', 'grapes', 'oranges') <class 'tuple'>\n"
     ]
    }
   ],
   "metadata": {
    "ExecuteTime": {
     "end_time": "2020-06-11T05:47:57.262171Z",
     "start_time": "2020-06-11T05:47:57.248749Z"
    }
   }
  },
  {
   "cell_type": "code",
   "execution_count": 4,
   "source": [
    "print(len(fruits_set))"
   ],
   "outputs": [
    {
     "output_type": "stream",
     "name": "stdout",
     "text": [
      "3\n"
     ]
    }
   ],
   "metadata": {}
  },
  {
   "cell_type": "code",
   "execution_count": 118,
   "source": [
    "print('avocado' in fruits_set)"
   ],
   "outputs": [
    {
     "output_type": "stream",
     "name": "stdout",
     "text": [
      "False\n"
     ]
    }
   ],
   "metadata": {}
  },
  {
   "cell_type": "code",
   "execution_count": 119,
   "source": [
    "print('grapes' in fruits_set)"
   ],
   "outputs": [
    {
     "output_type": "stream",
     "name": "stdout",
     "text": [
      "True\n"
     ]
    }
   ],
   "metadata": {}
  },
  {
   "cell_type": "code",
   "execution_count": 5,
   "source": [
    "set1 = {4, 5, 7}\n",
    "set2 = {5, 7}\n",
    "print(set2.issubset(set1))"
   ],
   "outputs": [
    {
     "output_type": "stream",
     "name": "stdout",
     "text": [
      "True\n"
     ]
    }
   ],
   "metadata": {
    "ExecuteTime": {
     "end_time": "2020-06-11T05:48:57.233411Z",
     "start_time": "2020-06-11T05:48:57.218513Z"
    }
   }
  },
  {
   "cell_type": "code",
   "execution_count": 54,
   "source": [
    "print(set1.issuperset(set2))"
   ],
   "outputs": [
    {
     "output_type": "stream",
     "name": "stdout",
     "text": [
      "True\n"
     ]
    }
   ],
   "metadata": {
    "ExecuteTime": {
     "end_time": "2020-06-11T05:49:16.668781Z",
     "start_time": "2020-06-11T05:49:16.662215Z"
    }
   }
  },
  {
   "cell_type": "code",
   "execution_count": 55,
   "source": [
    "print(set1.difference(set2))"
   ],
   "outputs": [
    {
     "output_type": "stream",
     "name": "stdout",
     "text": [
      "{4}\n"
     ]
    }
   ],
   "metadata": {
    "ExecuteTime": {
     "end_time": "2020-06-11T05:49:27.285240Z",
     "start_time": "2020-06-11T05:49:27.269468Z"
    }
   }
  },
  {
   "cell_type": "code",
   "execution_count": 56,
   "source": [
    "s1 = {3, 5, 7}\n",
    "s2 = {2, 4, 6}\n",
    "s1.update(s2)\n",
    "print(s1)"
   ],
   "outputs": [
    {
     "output_type": "stream",
     "name": "stdout",
     "text": [
      "{2, 3, 4, 5, 6, 7}\n"
     ]
    }
   ],
   "metadata": {
    "ExecuteTime": {
     "end_time": "2020-06-11T05:49:41.020621Z",
     "start_time": "2020-06-11T05:49:41.007431Z"
    }
   }
  },
  {
   "cell_type": "code",
   "execution_count": 58,
   "source": [
    "s3 = {\"pg\", \"sg\", \"nm\"}\n",
    "s4 = {2, 4, 6}\n",
    "s3.update(s4)\n",
    "print(s3)"
   ],
   "outputs": [
    {
     "output_type": "stream",
     "name": "stdout",
     "text": [
      "{'sg', 2, 4, 6, 'pg', 'nm'}\n"
     ]
    }
   ],
   "metadata": {
    "ExecuteTime": {
     "end_time": "2020-06-11T05:53:21.525781Z",
     "start_time": "2020-06-11T05:53:21.496743Z"
    }
   }
  },
  {
   "cell_type": "code",
   "execution_count": null,
   "source": [
    "s1.clear()\n",
    "print(s1)"
   ],
   "outputs": [],
   "metadata": {}
  },
  {
   "cell_type": "markdown",
   "source": [
    "### Set comprehension\n",
    "\n",
    "Set comprehension like list comprehension provides a convenient syntax fro creating a set from a collection of items. Set comprehension also uses curly brackets with an expression followed by for-loop with optional if statements.  \n",
    "\n",
    "Syntax is\n",
    "set1 = {a foe a in list1}\n"
   ],
   "metadata": {}
  },
  {
   "cell_type": "code",
   "execution_count": 127,
   "source": [
    "for i in range(5):\n",
    "    print ((i**2),\"hel\")"
   ],
   "outputs": [
    {
     "output_type": "stream",
     "name": "stdout",
     "text": [
      "0 hel\n",
      "1 hel\n",
      "4 hel\n",
      "9 hel\n",
      "16 hel\n"
     ]
    }
   ],
   "metadata": {}
  },
  {
   "cell_type": "code",
   "execution_count": 129,
   "source": [
    "s4 = {(i,\"hello\") for i in range(5)}      \n",
    "print(s4)"
   ],
   "outputs": [
    {
     "output_type": "stream",
     "name": "stdout",
     "text": [
      "{(4, 'hello'), (0, 'hello'), (3, 'hello'), (2, 'hello'), (1, 'hello')}\n"
     ]
    }
   ],
   "metadata": {
    "scrolled": true
   }
  },
  {
   "cell_type": "code",
   "execution_count": 132,
   "source": [
    "type(s4)\n",
    "for ele in s4:\n",
    "    print(type(ele))\n",
    "    print(ele)"
   ],
   "outputs": [
    {
     "output_type": "stream",
     "name": "stdout",
     "text": [
      "<class 'tuple'>\n",
      "(4, 'hello')\n",
      "<class 'tuple'>\n",
      "(0, 'hello')\n",
      "<class 'tuple'>\n",
      "(3, 'hello')\n",
      "<class 'tuple'>\n",
      "(2, 'hello')\n",
      "<class 'tuple'>\n",
      "(1, 'hello')\n"
     ]
    }
   ],
   "metadata": {
    "scrolled": true
   }
  },
  {
   "cell_type": "code",
   "execution_count": null,
   "source": [
    "s4 = {i**2 for i in range(5) if i%2==1}      \n",
    "print(s4)\n"
   ],
   "outputs": [],
   "metadata": {}
  },
  {
   "cell_type": "markdown",
   "source": [
    "#### Control Flow\n",
    "Python has several built-in keywords for conditional logic, loops, and other standard control flow concepts found in other programming languages."
   ],
   "metadata": {}
  },
  {
   "cell_type": "markdown",
   "source": [
    "#### if, elif, and else\n",
    "The if statement is one of the most well-known control flow statement types. It checks a condition that, if True, evaluates the code in the block that follows:"
   ],
   "metadata": {}
  },
  {
   "cell_type": "code",
   "execution_count": 59,
   "source": [
    "x = 10\n",
    "if x<0:\n",
    "    print(\"It is negative\")"
   ],
   "outputs": [],
   "metadata": {
    "ExecuteTime": {
     "end_time": "2020-06-11T06:03:08.211320Z",
     "start_time": "2020-06-11T06:03:08.200680Z"
    }
   }
  },
  {
   "cell_type": "code",
   "execution_count": 60,
   "source": [
    "x = 10\n",
    "if x<0:\n",
    "    print(\"It is negative\")\n",
    "else:\n",
    "    print (\" Number is positive\")"
   ],
   "outputs": [
    {
     "output_type": "stream",
     "name": "stdout",
     "text": [
      " Number is positive\n"
     ]
    }
   ],
   "metadata": {
    "ExecuteTime": {
     "end_time": "2020-06-11T06:04:02.334644Z",
     "start_time": "2020-06-11T06:04:02.318599Z"
    }
   }
  },
  {
   "cell_type": "markdown",
   "source": [
    "An if statement can be optionally followed by one or more elif blocks and a catch- all else block if all of the conditions are False"
   ],
   "metadata": {}
  },
  {
   "cell_type": "code",
   "execution_count": 61,
   "source": [
    "x = 10\n",
    "if x<0:\n",
    "    print(\"It's negative\")\n",
    "elif x==0:\n",
    "    print('Equal to zero')\n",
    "elif 0<x<5:\n",
    "    print('Positive but smaller than 5')\n",
    "else:\n",
    "    print('Positive and larger than or equal to 5')"
   ],
   "outputs": [
    {
     "output_type": "stream",
     "name": "stdout",
     "text": [
      "Positive and larger than or equal to 5\n"
     ]
    }
   ],
   "metadata": {
    "ExecuteTime": {
     "end_time": "2020-06-11T06:05:36.618953Z",
     "start_time": "2020-06-11T06:05:36.604517Z"
    }
   }
  },
  {
   "cell_type": "markdown",
   "source": [
    "#### for loops\n",
    "for loops are for iterating over a collection (like a list or tuple) or an iterater. The standard syntax for a for loop is:\n"
   ],
   "metadata": {}
  },
  {
   "cell_type": "code",
   "execution_count": null,
   "source": [
    "for value in collection:\n",
    "# do something with value"
   ],
   "outputs": [],
   "metadata": {}
  },
  {
   "cell_type": "code",
   "execution_count": 62,
   "source": [
    "seq1 = [1, 2, 4,5] \n",
    "total = 0\n",
    "for value in seq1:\n",
    "    #total += value\n",
    "    total+=seq1[i]\n",
    "\n",
    "print(total)"
   ],
   "outputs": [
    {
     "output_type": "stream",
     "name": "stdout",
     "text": [
      "12\n"
     ]
    }
   ],
   "metadata": {
    "ExecuteTime": {
     "end_time": "2020-06-11T06:06:37.798150Z",
     "start_time": "2020-06-11T06:06:37.771451Z"
    }
   }
  },
  {
   "cell_type": "code",
   "execution_count": 64,
   "source": [
    "seq1 = [1, 2, 4,5] \n",
    "total = 0\n",
    "\n",
    "for i in range(len(seq1)):\n",
    "    #total += value\n",
    "    total+=seq1[i]\n",
    "\n",
    "print(total)"
   ],
   "outputs": [
    {
     "output_type": "stream",
     "name": "stdout",
     "text": [
      "12\n"
     ]
    }
   ],
   "metadata": {
    "ExecuteTime": {
     "end_time": "2020-06-11T06:11:01.032583Z",
     "start_time": "2020-06-11T06:11:01.009273Z"
    }
   }
  },
  {
   "cell_type": "code",
   "execution_count": 67,
   "source": [],
   "outputs": [
    {
     "output_type": "execute_result",
     "data": {
      "text/plain": [
       "[1, 3, 2, 4]"
      ]
     },
     "metadata": {},
     "execution_count": 67
    }
   ],
   "metadata": {
    "ExecuteTime": {
     "end_time": "2020-06-11T06:33:41.166423Z",
     "start_time": "2020-06-11T06:33:41.138805Z"
    }
   }
  },
  {
   "cell_type": "markdown",
   "source": [
    "#### while loops\n",
    "A while loop specifies a condition and a block of code that is to be executed until the condition evaluates to False"
   ],
   "metadata": {}
  },
  {
   "cell_type": "code",
   "execution_count": null,
   "source": [
    "x=256 \n",
    "total = 0 \n",
    "while x>0:\n",
    "    total += x \n",
    "    x=x//2\n",
    "    \n",
    "print(total)"
   ],
   "outputs": [],
   "metadata": {}
  },
  {
   "cell_type": "code",
   "execution_count": null,
   "source": [],
   "outputs": [],
   "metadata": {}
  },
  {
   "cell_type": "markdown",
   "source": [
    "#### Ternary expressions\n",
    "A ternary expression in Python allows you to combine an if-else block that pro‐ duces a value into a single line or expression. The syntax for this in Python is:\n",
    "\n",
    "value = true-expr if condition else false-expr\n",
    "\n",
    "Here, true-expr and false-expr can be any Python expressions. It has the identical effect as the more verbose:\n",
    "\n",
    "if condition:\n",
    "    value = true-expr\n",
    "else:\n",
    "    value = false-expr"
   ],
   "metadata": {}
  },
  {
   "cell_type": "code",
   "execution_count": 6,
   "source": [
    "x=5\n",
    "'Non-negative' if x >= 0 else 'Negative'"
   ],
   "outputs": [
    {
     "output_type": "execute_result",
     "data": {
      "text/plain": [
       "'Non-negative'"
      ]
     },
     "metadata": {},
     "execution_count": 6
    }
   ],
   "metadata": {
    "format": "column"
   }
  },
  {
   "cell_type": "code",
   "execution_count": null,
   "source": [],
   "outputs": [],
   "metadata": {}
  }
 ],
 "metadata": {
  "kernelspec": {
   "name": "python3",
   "display_name": "Python 3.8.8 64-bit ('gqq': conda)"
  },
  "language_info": {
   "codemirror_mode": {
    "name": "ipython",
    "version": 3
   },
   "file_extension": ".py",
   "mimetype": "text/x-python",
   "name": "python",
   "nbconvert_exporter": "python",
   "pygments_lexer": "ipython3",
   "version": "3.8.8"
  },
  "widgets": {
   "state": {},
   "version": "1.1.2"
  },
  "interpreter": {
   "hash": "ec5a4d649d38bd61f61f26fe6b7ebc74efd7dadd682937e31b56a495fdf34038"
  }
 },
 "nbformat": 4,
 "nbformat_minor": 2
}