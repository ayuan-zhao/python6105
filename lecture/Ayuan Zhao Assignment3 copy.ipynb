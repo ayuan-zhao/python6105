{
 "cells": [
  {
   "cell_type": "code",
   "execution_count": 3,
   "source": [
    "import numpy as np\n"
   ],
   "outputs": [],
   "metadata": {}
  },
  {
   "cell_type": "code",
   "execution_count": 4,
   "source": [
    "'''\n",
    "1.\tCreate a vector of positive odd integers less that 100. \n",
    "Find if there are numbers greater than 80\n",
    "'''\n",
    "\n",
    "x = np.arange(1,100,2)\n",
    "print(np.any(x > 80))"
   ],
   "outputs": [
    {
     "output_type": "stream",
     "name": "stdout",
     "text": [
      "True\n"
     ]
    }
   ],
   "metadata": {}
  },
  {
   "cell_type": "code",
   "execution_count": 43,
   "source": [
    "'''\n",
    "2.\tRemove the values greater than 60 and less than 80\n",
    "'''\n",
    "idx = -1\n",
    "arrIdx = []\n",
    "for ele in x:\n",
    "    idx += 1\n",
    "    if ele > 60 and ele < 80:\n",
    "        arrIdx.append(idx)\n",
    "\n",
    "# print(arrIdx)\n",
    "x = np.delete(x, arrIdx)\n",
    "\n",
    "print(x)\n"
   ],
   "outputs": [
    {
     "output_type": "stream",
     "name": "stdout",
     "text": [
      "[ 1  3  5  7  9 11 13 15 17 19 21 23 25 27 29 31 33 35 37 39 41 43 45 47\n",
      " 49 51 53 55 57 59 81 83 85 87 89 91 93 95 97 99]\n"
     ]
    }
   ],
   "metadata": {}
  },
  {
   "cell_type": "code",
   "execution_count": 44,
   "source": [
    "'''\n",
    "3.\tFind the mean, standard deviation of the resulting vector in Q2\n",
    "'''\n",
    "print(\"The mean of x is : \",np.mean(x))\n",
    "print(\"The standard deviation of x is : \",np.std(x))"
   ],
   "outputs": [
    {
     "output_type": "stream",
     "name": "stdout",
     "text": [
      "The mean of x is :  45.0\n",
      "The standard deviation of x is :  30.133038346638727\n"
     ]
    }
   ],
   "metadata": {}
  },
  {
   "cell_type": "code",
   "execution_count": 87,
   "source": [
    "'''\n",
    "4.\tX = [“John”, “Jenny”, “Ron” , “Mary”]. Give two ways to access Ron.\n",
    "'''\n",
    "X = ['John', 'Jenny', 'Ron', 'Mary']\n",
    "print(X[2])\n",
    "print(X[2:3])\n"
   ],
   "outputs": [
    {
     "output_type": "stream",
     "name": "stdout",
     "text": [
      "Ron\n",
      "['Ron']\n"
     ]
    }
   ],
   "metadata": {}
  },
  {
   "cell_type": "code",
   "execution_count": 101,
   "source": [
    "'''\n",
    "5.\tYou have: \n",
    "Vec1 = [“John”, “Jenny”, “Mary”, “Ron”]. \n",
    "Use this list to create this output using a for/in loop.\n",
    "Hello John!  Hello Jenny!  Hello Mary!  Hello Ron `\n",
    "\n",
    "'''\n",
    "Vec1 = [\"John\", \"Jenny\", \"Mary\", \"Ron\"]\n",
    "for i in Vec1:\n",
    "    print (\"Hello,\", i ,\"!\")"
   ],
   "outputs": [
    {
     "output_type": "stream",
     "name": "stdout",
     "text": [
      "Hello, John !\n",
      "Hello, Jenny !\n",
      "Hello, Mary !\n",
      "Hello, Ron !\n"
     ]
    }
   ],
   "metadata": {}
  },
  {
   "cell_type": "code",
   "execution_count": 114,
   "source": [
    "'''\n",
    "6.\tWrite a function to return mean, standard deviation and median of a list.\n",
    "Verify with example\n",
    "'''\n",
    "import statistics\n",
    "list1 = [61, 45, 3, 27, 5, 19, 6, 48, 8, 79, 10]\n",
    "print(\"The mean of list1 is:\", statistics.mean(list1))\n",
    "print(\"The standard deviation of list1 is:\",statistics.stdev(list1) )\n",
    "print(\"The median of list1 is:\", statistics.median(list1))\n"
   ],
   "outputs": [
    {
     "output_type": "stream",
     "name": "stdout",
     "text": [
      "The mean of list1 is: 28.272727272727273\n",
      "The standard deviation of list1 is: 26.119306687164993\n",
      "The median of list1 is: 19\n"
     ]
    }
   ],
   "metadata": {}
  },
  {
   "cell_type": "code",
   "execution_count": 118,
   "source": [
    "'''\n",
    "\n",
    "7.\tCreate two matrices from the given vectors\n",
    "X1 = {2,3,7,1,6,2,3,5,1} and X2 = {3,2,9,0,7,8,5,8,2}. Find the matrix product.\n",
    "\n",
    "'''\n",
    "arr1 = np.array([2,3,7,1,6,2,3,5,1])\n",
    "arr2 = np.array([3,2,9,0,7,8,5,8,2])\n",
    "  \n",
    "matrix_product = np.matmul(arr1, arr2)\n",
    "print(\"Matrix Product is : \", matrix_product)\n"
   ],
   "outputs": [
    {
     "output_type": "stream",
     "name": "stdout",
     "text": [
      "Matrix Product is :  190\n"
     ]
    }
   ],
   "metadata": {}
  }
 ],
 "metadata": {
  "kernelspec": {
   "name": "python3",
   "display_name": "Python 3.8.8 64-bit ('gqq': conda)"
  },
  "language_info": {
   "codemirror_mode": {
    "name": "ipython",
    "version": 3
   },
   "file_extension": ".py",
   "mimetype": "text/x-python",
   "name": "python",
   "nbconvert_exporter": "python",
   "pygments_lexer": "ipython3",
   "version": "3.8.8"
  },
  "interpreter": {
   "hash": "ec5a4d649d38bd61f61f26fe6b7ebc74efd7dadd682937e31b56a495fdf34038"
  }
 },
 "nbformat": 4,
 "nbformat_minor": 5
}