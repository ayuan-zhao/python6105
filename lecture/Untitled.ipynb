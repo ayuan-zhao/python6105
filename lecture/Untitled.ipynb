{
 "cells": [
  {
   "cell_type": "code",
   "execution_count": 3,
   "id": "ed30a114",
   "metadata": {},
   "outputs": [
    {
     "name": "stdout",
     "output_type": "stream",
     "text": [
      "<function sillycase at 0x7fb0781c0670>\n"
     ]
    }
   ],
   "source": [
    "def sillycase(string):\n",
    "  first = sillycase[:5].lower()\n",
    "  second = sillycase[5:].upper()\n",
    "  both = first + second\n",
    "  return both\n",
    "\n",
    "print(sillycase)"
   ]
  },
  {
   "cell_type": "code",
   "execution_count": null,
   "id": "2a0e6028",
   "metadata": {},
   "outputs": [],
   "source": []
  }
 ],
 "metadata": {
  "kernelspec": {
   "display_name": "Python 3",
   "language": "python",
   "name": "python3"
  },
  "language_info": {
   "codemirror_mode": {
    "name": "ipython",
    "version": 3
   },
   "file_extension": ".py",
   "mimetype": "text/x-python",
   "name": "python",
   "nbconvert_exporter": "python",
   "pygments_lexer": "ipython3",
   "version": "3.8.8"
  }
 },
 "nbformat": 4,
 "nbformat_minor": 5
}
